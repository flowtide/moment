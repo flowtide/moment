{
 "cells": [
  {
   "cell_type": "code",
   "execution_count": 1,
   "metadata": {},
   "outputs": [
    {
     "name": "stderr",
     "output_type": "stream",
     "text": [
      "/disk1/hillk/RL/moment/.venv/lib/python3.10/site-packages/tqdm/auto.py:21: TqdmWarning: IProgress not found. Please update jupyter and ipywidgets. See https://ipywidgets.readthedocs.io/en/stable/user_install.html\n",
      "  from .autonotebook import tqdm as notebook_tqdm\n"
     ]
    }
   ],
   "source": [
    "import torch\n",
    "import numpy as np\n",
    "from sklearn.preprocessing import StandardScaler\n",
    "from momentfm.utils.data import load_from_tsfile\n",
    "from torch.utils.data import Dataset\n",
    "from torch.utils.data import DataLoader\n",
    "from momentfm import MOMENTPipeline\n",
    "from tqdm import tqdm\n",
    "import time"
   ]
  },
  {
   "cell_type": "code",
   "execution_count": 2,
   "metadata": {},
   "outputs": [],
   "source": [
    "\n",
    "class TS_Dataset(Dataset):\n",
    "    def __init__(self, file_path):\n",
    "        \"\"\"\n",
    "        Parameters\n",
    "        ----------\n",
    "        file_path : str\n",
    "            Path to the time series (TS) file.\n",
    "        \"\"\"\n",
    "        self.file_path = file_path\n",
    "        \n",
    "        # Load data from the TS file\n",
    "        self.data, self.labels, meta_data = load_from_tsfile(file_path, return_meta_data=True)\n",
    "        print(f\"data.shape={self.data.shape}\")\n",
    "        # Assume data has shape: (n_samples, n_channels, series_length)\n",
    "        self.n_samples, self.n_channels, self.series_length = self.data.shape\n",
    "        \n",
    "        # Normalize each channel of each sample independently\n",
    "        mean = np.mean(self.data, axis=-1, keepdims=True)\n",
    "        std = np.std(self.data, axis=-1, keepdims=True)\n",
    "        std_adj = np.where(std == 0, 1, std)  # Avoid division by zero\n",
    "        self.data = (self.data - mean) / std_adj\n",
    "        \n",
    "        self._length = self.n_samples\n",
    "        self.n_classes = len(meta_data['class_values'])\n",
    "        \n",
    "        # Print dataset summary\n",
    "        print(f\"Dataset Loaded: {file_path} | Samples: {self.n_samples}, Channels: {self.n_channels}, Series Length: {self.series_length}, Classes: {self.n_classes}\")\n",
    "        \n",
    "    def __len__(self):\n",
    "        return self._length\n",
    "    \n",
    "    def __getitem__(self, idx):\n",
    "        return self.data[idx], int(self.labels[idx])\n",
    "    \n",
    "    @property\n",
    "    def timeseries(self):\n",
    "        return self.data\n",
    "    \n",
    "    @property\n",
    "    def labels_prop(self):\n",
    "        return self.labels\n",
    "\n",
    "\n",
    "def train_epoch(model, device, train_dataloader, criterion, optimizer, scheduler, reduction='mean'):\n",
    "    '''\n",
    "    Train only classification head\n",
    "    '''\n",
    "    model.to(device)\n",
    "    model.train()\n",
    "    losses = []\n",
    "\n",
    "    for batch_x, batch_labels in train_dataloader:\n",
    "        optimizer.zero_grad()\n",
    "        batch_x = batch_x.to(device).float()\n",
    "        batch_labels = batch_labels.to(device)\n",
    "        #print(f\"batch_x={batch_x.shape} batch_labels={batch_labels}\")\n",
    "\n",
    "        #note that since MOMENT encoder is based on T5, it might experiences numerical unstable issue with float16\n",
    "        with torch.autocast(device_type='cuda', dtype=torch.bfloat16 if torch.cuda.is_available() and torch.cuda.get_device_capability()[0] >= 8 else torch.float32):\n",
    "            #print(f\"model: batch_x={batch_x.shape} reduction={reduction}\")\n",
    "            output = model(x_enc=batch_x, reduction=reduction)\n",
    "            #print(f\"model: output.logits={output.logits} batch_labels={batch_labels}\")\n",
    "            loss = criterion(output.logits, batch_labels)\n",
    "        loss.backward()\n",
    "\n",
    "        optimizer.step()\n",
    "        scheduler.step()\n",
    "        losses.append(loss.item())\n",
    "    \n",
    "    avg_loss = np.mean(losses)\n",
    "    return avg_loss\n",
    "\n",
    "\n",
    "def evaluate_epoch(dataloader, model, criterion, device, phase='val', reduction='mean'):\n",
    "    model.eval()\n",
    "    model.to(device)\n",
    "    total_loss, total_correct = 0, 0\n",
    "\n",
    "    with torch.no_grad():\n",
    "        for batch_x, batch_labels in dataloader:\n",
    "            batch_x = batch_x.to(device).float()\n",
    "            batch_labels = batch_labels.to(device)\n",
    "\n",
    "            output = model(x_enc=batch_x, reduction=reduction)\n",
    "            loss = criterion(output.logits, batch_labels)\n",
    "            total_loss += loss.item()\n",
    "            total_correct += (output.logits.argmax(dim=1) == batch_labels).sum().item()\n",
    "    \n",
    "    avg_loss = total_loss / len(dataloader)\n",
    "    accuracy = total_correct / len(dataloader.dataset)\n",
    "    return avg_loss, accuracy"
   ]
  },
  {
   "cell_type": "markdown",
   "metadata": {},
   "source": [
    "## `ptbxl_classification` 소스코드에서 코드 가져옴"
   ]
  },
  {
   "cell_type": "code",
   "execution_count": 3,
   "metadata": {},
   "outputs": [
    {
     "name": "stdout",
     "output_type": "stream",
     "text": [
      "data.shape=(208, 19, 376)\n",
      "Dataset Loaded: ../label_data/m_w2_train.ts | Samples: 208, Channels: 19, Series Length: 376, Classes: 3\n",
      "data.shape=(10, 19, 376)\n",
      "Dataset Loaded: ../label_data/m_w2_test.ts | Samples: 10, Channels: 19, Series Length: 376, Classes: 3\n",
      "Num Train Set: 4\n",
      "n_channels=19,num_class=3\n",
      "Using device: cuda\n"
     ]
    },
    {
     "name": "stderr",
     "output_type": "stream",
     "text": [
      "/disk1/hillk/RL/moment/momentfm/models/moment.py:174: UserWarning: Only reconstruction head is pre-trained. Classification and forecasting heads must be fine-tuned.\n",
      "  warnings.warn(\"Only reconstruction head is pre-trained. Classification and forecasting heads must be fine-tuned.\")\n"
     ]
    }
   ],
   "source": [
    "\n",
    "train_dataset = TS_Dataset(\"../label_data/m_w2_train.ts\")\n",
    "test_dataset = TS_Dataset(\"../label_data/m_w2_test.ts\")\n",
    "\n",
    "batch_size = 64\n",
    "train_loader = DataLoader(train_dataset, batch_size=batch_size, shuffle=False)\n",
    "test_loader = DataLoader(test_dataset, batch_size=batch_size, shuffle=False)\n",
    "val_loader = test_loader\n",
    "\n",
    "print(f\"Num Train Set: {len(train_loader)}\")\n",
    "print(f\"n_channels={train_dataset.n_channels},num_class={train_dataset.n_classes}\")\n",
    "\n",
    "# Initialize the model and move it to GPU\n",
    "device = torch.device('cuda' if torch.cuda.is_available() else 'cpu')\n",
    "print(f\"Using device: {device}\")\n",
    "\n",
    "model = MOMENTPipeline.from_pretrained(\n",
    "    \"AutonLab/MOMENT-1-large\", \n",
    "    model_kwargs={\n",
    "        'task_name': 'classification',\n",
    "        'n_channels': train_dataset.n_channels,\n",
    "        'num_class': train_dataset.n_classes,\n",
    "        'freeze_encoder': True, # Freeze the patch embedding layer\n",
    "        'freeze_embedder': True, # Freeze the transformer encoder\n",
    "        'freeze_head': False, # The linear forecasting head must be trained\n",
    "        ## NOTE: Disable gradient checkpointing to supress the warning when linear probing the model as MOMENT encoder is frozen\n",
    "        'enable_gradient_checkpointing': False,\n",
    "        # Choose how embedding is obtained from the model: One of ['mean', 'concat']\n",
    "        # Multi-channel embeddings are obtained by either averaging or concatenating patch embeddings \n",
    "        # along the channel dimension. 'concat' results in embeddings of size (n_channels * d_model), \n",
    "        # while 'mean' results in embeddings of size (d_model)\n",
    "        'reduction': 'mean',\n",
    "    },\n",
    "    # local_files_only=True,  # Whether or not to only look at local files (i.e., do not try to download the model).\n",
    "    ).to(device)\n",
    "\n",
    "model.init()\n"
   ]
  },
  {
   "cell_type": "code",
   "execution_count": 4,
   "metadata": {},
   "outputs": [
    {
     "name": "stdout",
     "output_type": "stream",
     "text": [
      "Batch shape: torch.Size([64, 19, 376]) tensor([1, 2, 0, 2, 1, 1, 2, 2, 1, 2, 2, 1, 2, 1, 0, 0, 2, 1, 2, 1, 0, 1, 1, 0,\n",
      "        2, 0, 2, 2, 1, 1, 0, 0, 1, 1, 0, 0, 0, 2, 0, 1, 0, 1, 1, 2, 2, 0, 0, 1,\n",
      "        2, 2, 1, 1, 1, 2, 0, 2, 2, 1, 2, 0, 0, 2, 1, 1])\n"
     ]
    }
   ],
   "source": [
    "for batch_x, batch_labels in train_loader:\n",
    "    print(f\"Batch shape: {batch_x.shape} {batch_labels}\")  # Should be (batch_size, n_channels, 380)\n",
    "    break  # Only check the first batch"
   ]
  },
  {
   "cell_type": "code",
   "execution_count": 5,
   "metadata": {},
   "outputs": [
    {
     "name": "stderr",
     "output_type": "stream",
     "text": [
      "  0%|          | 1/800 [00:09<2:02:56,  9.23s/it]"
     ]
    },
    {
     "name": "stdout",
     "output_type": "stream",
     "text": [
      "[9.23] Epoch 0, train loss: 1.0959930419921875, val loss: 1.0561119318008423, val accuracy: 0.6\n"
     ]
    },
    {
     "name": "stderr",
     "output_type": "stream",
     "text": [
      "  0%|          | 2/800 [00:18<2:01:56,  9.17s/it]"
     ]
    },
    {
     "name": "stdout",
     "output_type": "stream",
     "text": [
      "[18.36] Epoch 1, train loss: 1.0942230224609375, val loss: 1.0556187629699707, val accuracy: 0.6\n"
     ]
    },
    {
     "name": "stderr",
     "output_type": "stream",
     "text": [
      "  0%|          | 3/800 [00:27<2:01:32,  9.15s/it]"
     ]
    },
    {
     "name": "stdout",
     "output_type": "stream",
     "text": [
      "[27.48] Epoch 2, train loss: 1.0972137451171875, val loss: 1.055188775062561, val accuracy: 0.6\n"
     ]
    },
    {
     "name": "stderr",
     "output_type": "stream",
     "text": [
      "  0%|          | 4/800 [00:36<2:01:17,  9.14s/it]"
     ]
    },
    {
     "name": "stdout",
     "output_type": "stream",
     "text": [
      "[36.62] Epoch 3, train loss: 1.0956573486328125, val loss: 1.0548057556152344, val accuracy: 0.6\n"
     ]
    },
    {
     "name": "stderr",
     "output_type": "stream",
     "text": [
      "  1%|          | 5/800 [00:45<2:01:06,  9.14s/it]"
     ]
    },
    {
     "name": "stdout",
     "output_type": "stream",
     "text": [
      "[45.75] Epoch 4, train loss: 1.0930328369140625, val loss: 1.0544618368148804, val accuracy: 0.6\n"
     ]
    },
    {
     "name": "stderr",
     "output_type": "stream",
     "text": [
      "  1%|          | 6/800 [00:54<2:01:00,  9.14s/it]"
     ]
    },
    {
     "name": "stdout",
     "output_type": "stream",
     "text": [
      "[54.91] Epoch 5, train loss: 1.094024658203125, val loss: 1.0541366338729858, val accuracy: 0.6\n"
     ]
    },
    {
     "name": "stderr",
     "output_type": "stream",
     "text": [
      "  1%|          | 7/800 [01:04<2:00:53,  9.15s/it]"
     ]
    },
    {
     "name": "stdout",
     "output_type": "stream",
     "text": [
      "[64.06] Epoch 6, train loss: 1.092926025390625, val loss: 1.0538201332092285, val accuracy: 0.6\n"
     ]
    },
    {
     "name": "stderr",
     "output_type": "stream",
     "text": [
      "  1%|          | 8/800 [01:13<2:00:46,  9.15s/it]"
     ]
    },
    {
     "name": "stdout",
     "output_type": "stream",
     "text": [
      "[73.21] Epoch 7, train loss: 1.0943756103515625, val loss: 1.0534919500350952, val accuracy: 0.6\n"
     ]
    },
    {
     "name": "stderr",
     "output_type": "stream",
     "text": [
      "  1%|          | 9/800 [01:22<2:00:38,  9.15s/it]"
     ]
    },
    {
     "name": "stdout",
     "output_type": "stream",
     "text": [
      "[82.37] Epoch 8, train loss: 1.091217041015625, val loss: 1.0531679391860962, val accuracy: 0.6\n"
     ]
    },
    {
     "name": "stderr",
     "output_type": "stream",
     "text": [
      "  1%|▏         | 10/800 [01:31<2:00:30,  9.15s/it]"
     ]
    },
    {
     "name": "stdout",
     "output_type": "stream",
     "text": [
      "[91.52] Epoch 9, train loss: 1.09326171875, val loss: 1.0528545379638672, val accuracy: 0.6\n"
     ]
    },
    {
     "name": "stderr",
     "output_type": "stream",
     "text": [
      "  1%|▏         | 11/800 [01:40<2:00:22,  9.15s/it]"
     ]
    },
    {
     "name": "stdout",
     "output_type": "stream",
     "text": [
      "[100.68] Epoch 10, train loss: 1.0920867919921875, val loss: 1.0525681972503662, val accuracy: 0.6\n"
     ]
    },
    {
     "name": "stderr",
     "output_type": "stream",
     "text": [
      "  2%|▏         | 12/800 [01:49<2:00:13,  9.15s/it]"
     ]
    },
    {
     "name": "stdout",
     "output_type": "stream",
     "text": [
      "[109.84] Epoch 11, train loss: 1.09100341796875, val loss: 1.0522880554199219, val accuracy: 0.6\n"
     ]
    },
    {
     "name": "stderr",
     "output_type": "stream",
     "text": [
      "  2%|▏         | 13/800 [01:58<2:00:05,  9.16s/it]"
     ]
    },
    {
     "name": "stdout",
     "output_type": "stream",
     "text": [
      "[118.99] Epoch 12, train loss: 1.08892822265625, val loss: 1.0520085096359253, val accuracy: 0.6\n"
     ]
    },
    {
     "name": "stderr",
     "output_type": "stream",
     "text": [
      "  2%|▏         | 14/800 [02:08<1:59:56,  9.16s/it]"
     ]
    },
    {
     "name": "stdout",
     "output_type": "stream",
     "text": [
      "[128.15] Epoch 13, train loss: 1.08917236328125, val loss: 1.0517446994781494, val accuracy: 0.6\n"
     ]
    },
    {
     "name": "stderr",
     "output_type": "stream",
     "text": [
      "  2%|▏         | 15/800 [02:17<1:59:47,  9.16s/it]"
     ]
    },
    {
     "name": "stdout",
     "output_type": "stream",
     "text": [
      "[137.30] Epoch 14, train loss: 1.0901947021484375, val loss: 1.0514863729476929, val accuracy: 0.6\n"
     ]
    },
    {
     "name": "stderr",
     "output_type": "stream",
     "text": [
      "  2%|▏         | 16/800 [02:26<1:59:37,  9.16s/it]"
     ]
    },
    {
     "name": "stdout",
     "output_type": "stream",
     "text": [
      "[146.46] Epoch 15, train loss: 1.089935302734375, val loss: 1.0512466430664062, val accuracy: 0.6\n"
     ]
    },
    {
     "name": "stderr",
     "output_type": "stream",
     "text": [
      "  2%|▏         | 17/800 [02:35<1:59:28,  9.15s/it]"
     ]
    },
    {
     "name": "stdout",
     "output_type": "stream",
     "text": [
      "[155.61] Epoch 16, train loss: 1.09130859375, val loss: 1.0510179996490479, val accuracy: 0.6\n"
     ]
    },
    {
     "name": "stderr",
     "output_type": "stream",
     "text": [
      "  2%|▏         | 18/800 [02:44<1:59:18,  9.15s/it]"
     ]
    },
    {
     "name": "stdout",
     "output_type": "stream",
     "text": [
      "[164.77] Epoch 17, train loss: 1.0872802734375, val loss: 1.0507951974868774, val accuracy: 0.6\n"
     ]
    },
    {
     "name": "stderr",
     "output_type": "stream",
     "text": [
      "  2%|▏         | 19/800 [02:53<1:59:09,  9.15s/it]"
     ]
    },
    {
     "name": "stdout",
     "output_type": "stream",
     "text": [
      "[173.92] Epoch 18, train loss: 1.088623046875, val loss: 1.0505820512771606, val accuracy: 0.3\n"
     ]
    },
    {
     "name": "stderr",
     "output_type": "stream",
     "text": [
      "  2%|▎         | 20/800 [03:03<1:59:00,  9.15s/it]"
     ]
    },
    {
     "name": "stdout",
     "output_type": "stream",
     "text": [
      "[183.08] Epoch 19, train loss: 1.089324951171875, val loss: 1.0503795146942139, val accuracy: 0.3\n"
     ]
    },
    {
     "name": "stderr",
     "output_type": "stream",
     "text": [
      "  3%|▎         | 21/800 [03:12<1:58:51,  9.15s/it]"
     ]
    },
    {
     "name": "stdout",
     "output_type": "stream",
     "text": [
      "[192.23] Epoch 20, train loss: 1.090118408203125, val loss: 1.0501960515975952, val accuracy: 0.3\n"
     ]
    },
    {
     "name": "stderr",
     "output_type": "stream",
     "text": [
      "  3%|▎         | 22/800 [03:21<1:58:42,  9.15s/it]"
     ]
    },
    {
     "name": "stdout",
     "output_type": "stream",
     "text": [
      "[201.38] Epoch 21, train loss: 1.0902252197265625, val loss: 1.0500479936599731, val accuracy: 0.3\n"
     ]
    },
    {
     "name": "stderr",
     "output_type": "stream",
     "text": [
      "  3%|▎         | 23/800 [03:30<1:58:33,  9.15s/it]"
     ]
    },
    {
     "name": "stdout",
     "output_type": "stream",
     "text": [
      "[210.54] Epoch 22, train loss: 1.0874176025390625, val loss: 1.049919843673706, val accuracy: 0.3\n"
     ]
    },
    {
     "name": "stderr",
     "output_type": "stream",
     "text": [
      "  3%|▎         | 24/800 [03:39<1:58:23,  9.15s/it]"
     ]
    },
    {
     "name": "stdout",
     "output_type": "stream",
     "text": [
      "[219.69] Epoch 23, train loss: 1.0888824462890625, val loss: 1.049795389175415, val accuracy: 0.3\n"
     ]
    },
    {
     "name": "stderr",
     "output_type": "stream",
     "text": [
      "  3%|▎         | 25/800 [03:48<1:58:14,  9.15s/it]"
     ]
    },
    {
     "name": "stdout",
     "output_type": "stream",
     "text": [
      "[228.85] Epoch 24, train loss: 1.0910491943359375, val loss: 1.049684762954712, val accuracy: 0.3\n"
     ]
    },
    {
     "name": "stderr",
     "output_type": "stream",
     "text": [
      "  3%|▎         | 26/800 [03:57<1:58:04,  9.15s/it]"
     ]
    },
    {
     "name": "stdout",
     "output_type": "stream",
     "text": [
      "[238.00] Epoch 25, train loss: 1.0859375, val loss: 1.0495922565460205, val accuracy: 0.3\n"
     ]
    },
    {
     "name": "stderr",
     "output_type": "stream",
     "text": [
      "  3%|▎         | 27/800 [04:07<1:57:55,  9.15s/it]"
     ]
    },
    {
     "name": "stdout",
     "output_type": "stream",
     "text": [
      "[247.15] Epoch 26, train loss: 1.0853729248046875, val loss: 1.049493432044983, val accuracy: 0.3\n"
     ]
    },
    {
     "name": "stderr",
     "output_type": "stream",
     "text": [
      "  4%|▎         | 28/800 [04:16<1:57:46,  9.15s/it]"
     ]
    },
    {
     "name": "stdout",
     "output_type": "stream",
     "text": [
      "[256.31] Epoch 27, train loss: 1.085968017578125, val loss: 1.049367904663086, val accuracy: 0.3\n"
     ]
    },
    {
     "name": "stderr",
     "output_type": "stream",
     "text": [
      "  4%|▎         | 29/800 [04:25<1:57:37,  9.15s/it]"
     ]
    },
    {
     "name": "stdout",
     "output_type": "stream",
     "text": [
      "[265.46] Epoch 28, train loss: 1.087249755859375, val loss: 1.049229383468628, val accuracy: 0.3\n"
     ]
    },
    {
     "name": "stderr",
     "output_type": "stream",
     "text": [
      "  4%|▍         | 30/800 [04:34<1:57:28,  9.15s/it]"
     ]
    },
    {
     "name": "stdout",
     "output_type": "stream",
     "text": [
      "[274.62] Epoch 29, train loss: 1.088623046875, val loss: 1.0490853786468506, val accuracy: 0.3\n"
     ]
    },
    {
     "name": "stderr",
     "output_type": "stream",
     "text": [
      "  4%|▍         | 31/800 [04:43<1:57:19,  9.15s/it]"
     ]
    },
    {
     "name": "stdout",
     "output_type": "stream",
     "text": [
      "[283.77] Epoch 30, train loss: 1.08587646484375, val loss: 1.048932671546936, val accuracy: 0.3\n"
     ]
    },
    {
     "name": "stderr",
     "output_type": "stream",
     "text": [
      "  4%|▍         | 32/800 [04:52<1:57:09,  9.15s/it]"
     ]
    },
    {
     "name": "stdout",
     "output_type": "stream",
     "text": [
      "[292.92] Epoch 31, train loss: 1.0843048095703125, val loss: 1.0487630367279053, val accuracy: 0.3\n"
     ]
    },
    {
     "name": "stderr",
     "output_type": "stream",
     "text": [
      "  4%|▍         | 33/800 [05:02<1:57:00,  9.15s/it]"
     ]
    },
    {
     "name": "stdout",
     "output_type": "stream",
     "text": [
      "[302.08] Epoch 32, train loss: 1.087799072265625, val loss: 1.0485886335372925, val accuracy: 0.3\n"
     ]
    },
    {
     "name": "stderr",
     "output_type": "stream",
     "text": [
      "  4%|▍         | 34/800 [05:11<1:56:51,  9.15s/it]"
     ]
    },
    {
     "name": "stdout",
     "output_type": "stream",
     "text": [
      "[311.23] Epoch 33, train loss: 1.0879058837890625, val loss: 1.0484113693237305, val accuracy: 0.3\n"
     ]
    },
    {
     "name": "stderr",
     "output_type": "stream",
     "text": [
      "  4%|▍         | 35/800 [05:20<1:56:41,  9.15s/it]"
     ]
    },
    {
     "name": "stdout",
     "output_type": "stream",
     "text": [
      "[320.38] Epoch 34, train loss: 1.0876922607421875, val loss: 1.0482131242752075, val accuracy: 0.3\n"
     ]
    },
    {
     "name": "stderr",
     "output_type": "stream",
     "text": [
      "  4%|▍         | 36/800 [05:29<1:56:32,  9.15s/it]"
     ]
    },
    {
     "name": "stdout",
     "output_type": "stream",
     "text": [
      "[329.53] Epoch 35, train loss: 1.08831787109375, val loss: 1.0480210781097412, val accuracy: 0.3\n"
     ]
    },
    {
     "name": "stderr",
     "output_type": "stream",
     "text": [
      "  5%|▍         | 37/800 [05:38<1:56:22,  9.15s/it]"
     ]
    },
    {
     "name": "stdout",
     "output_type": "stream",
     "text": [
      "[338.68] Epoch 36, train loss: 1.0874786376953125, val loss: 1.0478355884552002, val accuracy: 0.3\n"
     ]
    },
    {
     "name": "stderr",
     "output_type": "stream",
     "text": [
      "  5%|▍         | 38/800 [05:47<1:56:13,  9.15s/it]"
     ]
    },
    {
     "name": "stdout",
     "output_type": "stream",
     "text": [
      "[347.83] Epoch 37, train loss: 1.08636474609375, val loss: 1.0476462841033936, val accuracy: 0.3\n"
     ]
    },
    {
     "name": "stderr",
     "output_type": "stream",
     "text": [
      "  5%|▍         | 39/800 [05:56<1:56:04,  9.15s/it]"
     ]
    },
    {
     "name": "stdout",
     "output_type": "stream",
     "text": [
      "[356.99] Epoch 38, train loss: 1.085205078125, val loss: 1.0474326610565186, val accuracy: 0.3\n"
     ]
    },
    {
     "name": "stderr",
     "output_type": "stream",
     "text": [
      "  5%|▌         | 40/800 [06:06<1:55:55,  9.15s/it]"
     ]
    },
    {
     "name": "stdout",
     "output_type": "stream",
     "text": [
      "[366.14] Epoch 39, train loss: 1.08538818359375, val loss: 1.0472058057785034, val accuracy: 0.3\n"
     ]
    },
    {
     "name": "stderr",
     "output_type": "stream",
     "text": [
      "  5%|▌         | 41/800 [06:15<1:55:46,  9.15s/it]"
     ]
    },
    {
     "name": "stdout",
     "output_type": "stream",
     "text": [
      "[375.29] Epoch 40, train loss: 1.0872344970703125, val loss: 1.0469932556152344, val accuracy: 0.3\n"
     ]
    },
    {
     "name": "stderr",
     "output_type": "stream",
     "text": [
      "  5%|▌         | 42/800 [06:24<1:55:37,  9.15s/it]"
     ]
    },
    {
     "name": "stdout",
     "output_type": "stream",
     "text": [
      "[384.44] Epoch 41, train loss: 1.08709716796875, val loss: 1.0468076467514038, val accuracy: 0.3\n"
     ]
    },
    {
     "name": "stderr",
     "output_type": "stream",
     "text": [
      "  5%|▌         | 43/800 [06:33<1:55:27,  9.15s/it]"
     ]
    },
    {
     "name": "stdout",
     "output_type": "stream",
     "text": [
      "[393.59] Epoch 42, train loss: 1.0869598388671875, val loss: 1.0466232299804688, val accuracy: 0.3\n"
     ]
    },
    {
     "name": "stderr",
     "output_type": "stream",
     "text": [
      "  6%|▌         | 44/800 [06:42<1:55:18,  9.15s/it]"
     ]
    },
    {
     "name": "stdout",
     "output_type": "stream",
     "text": [
      "[402.74] Epoch 43, train loss: 1.08758544921875, val loss: 1.0464738607406616, val accuracy: 0.3\n"
     ]
    },
    {
     "name": "stderr",
     "output_type": "stream",
     "text": [
      "  6%|▌         | 45/800 [06:51<1:55:09,  9.15s/it]"
     ]
    },
    {
     "name": "stdout",
     "output_type": "stream",
     "text": [
      "[411.89] Epoch 44, train loss: 1.08843994140625, val loss: 1.046339750289917, val accuracy: 0.3\n"
     ]
    },
    {
     "name": "stderr",
     "output_type": "stream",
     "text": [
      "  6%|▌         | 46/800 [07:01<1:54:59,  9.15s/it]"
     ]
    },
    {
     "name": "stdout",
     "output_type": "stream",
     "text": [
      "[421.04] Epoch 45, train loss: 1.08612060546875, val loss: 1.0462229251861572, val accuracy: 0.3\n"
     ]
    },
    {
     "name": "stderr",
     "output_type": "stream",
     "text": [
      "  6%|▌         | 47/800 [07:10<1:54:51,  9.15s/it]"
     ]
    },
    {
     "name": "stdout",
     "output_type": "stream",
     "text": [
      "[430.20] Epoch 46, train loss: 1.0850677490234375, val loss: 1.0460669994354248, val accuracy: 0.3\n"
     ]
    },
    {
     "name": "stderr",
     "output_type": "stream",
     "text": [
      "  6%|▌         | 48/800 [07:19<1:54:41,  9.15s/it]"
     ]
    },
    {
     "name": "stdout",
     "output_type": "stream",
     "text": [
      "[439.35] Epoch 47, train loss: 1.08697509765625, val loss: 1.0458941459655762, val accuracy: 0.3\n"
     ]
    },
    {
     "name": "stderr",
     "output_type": "stream",
     "text": [
      "  6%|▌         | 49/800 [07:28<1:54:32,  9.15s/it]"
     ]
    },
    {
     "name": "stdout",
     "output_type": "stream",
     "text": [
      "[448.50] Epoch 48, train loss: 1.0869903564453125, val loss: 1.0457065105438232, val accuracy: 0.3\n"
     ]
    },
    {
     "name": "stderr",
     "output_type": "stream",
     "text": [
      "  6%|▋         | 50/800 [07:37<1:54:23,  9.15s/it]"
     ]
    },
    {
     "name": "stdout",
     "output_type": "stream",
     "text": [
      "[457.65] Epoch 49, train loss: 1.0865478515625, val loss: 1.045512080192566, val accuracy: 0.3\n"
     ]
    },
    {
     "name": "stderr",
     "output_type": "stream",
     "text": [
      "  6%|▋         | 51/800 [07:46<1:54:14,  9.15s/it]"
     ]
    },
    {
     "name": "stdout",
     "output_type": "stream",
     "text": [
      "[466.80] Epoch 50, train loss: 1.086822509765625, val loss: 1.045358657836914, val accuracy: 0.3\n"
     ]
    },
    {
     "name": "stderr",
     "output_type": "stream",
     "text": [
      "  6%|▋         | 52/800 [07:55<1:54:05,  9.15s/it]"
     ]
    },
    {
     "name": "stdout",
     "output_type": "stream",
     "text": [
      "[475.95] Epoch 51, train loss: 1.08673095703125, val loss: 1.0452167987823486, val accuracy: 0.3\n"
     ]
    },
    {
     "name": "stderr",
     "output_type": "stream",
     "text": [
      "  7%|▋         | 53/800 [08:05<1:53:55,  9.15s/it]"
     ]
    },
    {
     "name": "stdout",
     "output_type": "stream",
     "text": [
      "[485.10] Epoch 52, train loss: 1.08636474609375, val loss: 1.0450795888900757, val accuracy: 0.3\n"
     ]
    },
    {
     "name": "stderr",
     "output_type": "stream",
     "text": [
      "  7%|▋         | 54/800 [08:14<1:53:46,  9.15s/it]"
     ]
    },
    {
     "name": "stdout",
     "output_type": "stream",
     "text": [
      "[494.26] Epoch 53, train loss: 1.0840911865234375, val loss: 1.044912576675415, val accuracy: 0.3\n"
     ]
    },
    {
     "name": "stderr",
     "output_type": "stream",
     "text": [
      "  7%|▋         | 55/800 [08:23<1:53:37,  9.15s/it]"
     ]
    },
    {
     "name": "stdout",
     "output_type": "stream",
     "text": [
      "[503.41] Epoch 54, train loss: 1.086669921875, val loss: 1.0447239875793457, val accuracy: 0.3\n"
     ]
    },
    {
     "name": "stderr",
     "output_type": "stream",
     "text": [
      "  7%|▋         | 56/800 [08:32<1:53:28,  9.15s/it]"
     ]
    },
    {
     "name": "stdout",
     "output_type": "stream",
     "text": [
      "[512.56] Epoch 55, train loss: 1.0870513916015625, val loss: 1.0445563793182373, val accuracy: 0.3\n"
     ]
    },
    {
     "name": "stderr",
     "output_type": "stream",
     "text": [
      "  7%|▋         | 57/800 [08:41<1:53:19,  9.15s/it]"
     ]
    },
    {
     "name": "stdout",
     "output_type": "stream",
     "text": [
      "[521.71] Epoch 56, train loss: 1.0872802734375, val loss: 1.0444245338439941, val accuracy: 0.3\n"
     ]
    },
    {
     "name": "stderr",
     "output_type": "stream",
     "text": [
      "  7%|▋         | 58/800 [08:50<1:53:09,  9.15s/it]"
     ]
    },
    {
     "name": "stdout",
     "output_type": "stream",
     "text": [
      "[530.86] Epoch 57, train loss: 1.085784912109375, val loss: 1.044329285621643, val accuracy: 0.3\n"
     ]
    },
    {
     "name": "stderr",
     "output_type": "stream",
     "text": [
      "  7%|▋         | 59/800 [09:00<1:53:00,  9.15s/it]"
     ]
    },
    {
     "name": "stdout",
     "output_type": "stream",
     "text": [
      "[540.01] Epoch 58, train loss: 1.086395263671875, val loss: 1.044210433959961, val accuracy: 0.3\n"
     ]
    },
    {
     "name": "stderr",
     "output_type": "stream",
     "text": [
      "  8%|▊         | 60/800 [09:09<1:52:51,  9.15s/it]"
     ]
    },
    {
     "name": "stdout",
     "output_type": "stream",
     "text": [
      "[549.16] Epoch 59, train loss: 1.08489990234375, val loss: 1.0441148281097412, val accuracy: 0.3\n"
     ]
    },
    {
     "name": "stderr",
     "output_type": "stream",
     "text": [
      "  8%|▊         | 61/800 [09:18<1:52:42,  9.15s/it]"
     ]
    },
    {
     "name": "stdout",
     "output_type": "stream",
     "text": [
      "[558.31] Epoch 60, train loss: 1.0852813720703125, val loss: 1.0439903736114502, val accuracy: 0.3\n"
     ]
    },
    {
     "name": "stderr",
     "output_type": "stream",
     "text": [
      "  8%|▊         | 62/800 [09:27<1:52:33,  9.15s/it]"
     ]
    },
    {
     "name": "stdout",
     "output_type": "stream",
     "text": [
      "[567.46] Epoch 61, train loss: 1.0853271484375, val loss: 1.043877363204956, val accuracy: 0.3\n"
     ]
    },
    {
     "name": "stderr",
     "output_type": "stream",
     "text": [
      "  8%|▊         | 63/800 [09:36<1:52:24,  9.15s/it]"
     ]
    },
    {
     "name": "stdout",
     "output_type": "stream",
     "text": [
      "[576.61] Epoch 62, train loss: 1.0852508544921875, val loss: 1.0437366962432861, val accuracy: 0.3\n"
     ]
    },
    {
     "name": "stderr",
     "output_type": "stream",
     "text": [
      "  8%|▊         | 64/800 [09:45<1:52:14,  9.15s/it]"
     ]
    },
    {
     "name": "stdout",
     "output_type": "stream",
     "text": [
      "[585.76] Epoch 63, train loss: 1.0843353271484375, val loss: 1.0436588525772095, val accuracy: 0.3\n"
     ]
    },
    {
     "name": "stderr",
     "output_type": "stream",
     "text": [
      "  8%|▊         | 65/800 [09:54<1:52:06,  9.15s/it]"
     ]
    },
    {
     "name": "stdout",
     "output_type": "stream",
     "text": [
      "[594.92] Epoch 64, train loss: 1.0856781005859375, val loss: 1.0436276197433472, val accuracy: 0.3\n"
     ]
    },
    {
     "name": "stderr",
     "output_type": "stream",
     "text": [
      "  8%|▊         | 66/800 [10:04<1:51:56,  9.15s/it]"
     ]
    },
    {
     "name": "stdout",
     "output_type": "stream",
     "text": [
      "[604.07] Epoch 65, train loss: 1.0864410400390625, val loss: 1.0436841249465942, val accuracy: 0.3\n"
     ]
    },
    {
     "name": "stderr",
     "output_type": "stream",
     "text": [
      "  8%|▊         | 67/800 [10:13<1:51:47,  9.15s/it]"
     ]
    },
    {
     "name": "stdout",
     "output_type": "stream",
     "text": [
      "[613.22] Epoch 66, train loss: 1.085174560546875, val loss: 1.04384183883667, val accuracy: 0.3\n"
     ]
    },
    {
     "name": "stderr",
     "output_type": "stream",
     "text": [
      "  8%|▊         | 68/800 [10:22<1:51:38,  9.15s/it]"
     ]
    },
    {
     "name": "stdout",
     "output_type": "stream",
     "text": [
      "[622.37] Epoch 67, train loss: 1.0836944580078125, val loss: 1.043978214263916, val accuracy: 0.3\n"
     ]
    },
    {
     "name": "stderr",
     "output_type": "stream",
     "text": [
      "  9%|▊         | 69/800 [10:31<1:51:29,  9.15s/it]"
     ]
    },
    {
     "name": "stdout",
     "output_type": "stream",
     "text": [
      "[631.52] Epoch 68, train loss: 1.0866241455078125, val loss: 1.044101357460022, val accuracy: 0.3\n"
     ]
    },
    {
     "name": "stderr",
     "output_type": "stream",
     "text": [
      "  9%|▉         | 70/800 [10:40<1:51:20,  9.15s/it]"
     ]
    },
    {
     "name": "stdout",
     "output_type": "stream",
     "text": [
      "[640.67] Epoch 69, train loss: 1.085357666015625, val loss: 1.0441447496414185, val accuracy: 0.3\n"
     ]
    },
    {
     "name": "stderr",
     "output_type": "stream",
     "text": [
      "  9%|▉         | 71/800 [10:49<1:51:10,  9.15s/it]"
     ]
    },
    {
     "name": "stdout",
     "output_type": "stream",
     "text": [
      "[649.82] Epoch 70, train loss: 1.08648681640625, val loss: 1.0442003011703491, val accuracy: 0.3\n"
     ]
    },
    {
     "name": "stderr",
     "output_type": "stream",
     "text": [
      "  9%|▉         | 72/800 [10:58<1:51:01,  9.15s/it]"
     ]
    },
    {
     "name": "stdout",
     "output_type": "stream",
     "text": [
      "[658.97] Epoch 71, train loss: 1.08416748046875, val loss: 1.0441590547561646, val accuracy: 0.3\n"
     ]
    },
    {
     "name": "stderr",
     "output_type": "stream",
     "text": [
      "  9%|▉         | 73/800 [11:08<1:50:52,  9.15s/it]"
     ]
    },
    {
     "name": "stdout",
     "output_type": "stream",
     "text": [
      "[668.12] Epoch 72, train loss: 1.084228515625, val loss: 1.0441640615463257, val accuracy: 0.3\n"
     ]
    },
    {
     "name": "stderr",
     "output_type": "stream",
     "text": [
      "  9%|▉         | 74/800 [11:17<1:50:43,  9.15s/it]"
     ]
    },
    {
     "name": "stdout",
     "output_type": "stream",
     "text": [
      "[677.27] Epoch 73, train loss: 1.08648681640625, val loss: 1.0442149639129639, val accuracy: 0.3\n"
     ]
    },
    {
     "name": "stderr",
     "output_type": "stream",
     "text": [
      "  9%|▉         | 75/800 [11:26<1:50:34,  9.15s/it]"
     ]
    },
    {
     "name": "stdout",
     "output_type": "stream",
     "text": [
      "[686.42] Epoch 74, train loss: 1.0864715576171875, val loss: 1.0442476272583008, val accuracy: 0.3\n"
     ]
    },
    {
     "name": "stderr",
     "output_type": "stream",
     "text": [
      " 10%|▉         | 76/800 [11:35<1:50:25,  9.15s/it]"
     ]
    },
    {
     "name": "stdout",
     "output_type": "stream",
     "text": [
      "[695.57] Epoch 75, train loss: 1.0851593017578125, val loss: 1.0442583560943604, val accuracy: 0.3\n"
     ]
    },
    {
     "name": "stderr",
     "output_type": "stream",
     "text": [
      " 10%|▉         | 77/800 [11:44<1:50:16,  9.15s/it]"
     ]
    },
    {
     "name": "stdout",
     "output_type": "stream",
     "text": [
      "[704.73] Epoch 76, train loss: 1.0836181640625, val loss: 1.0442659854888916, val accuracy: 0.3\n"
     ]
    },
    {
     "name": "stderr",
     "output_type": "stream",
     "text": [
      " 10%|▉         | 78/800 [11:53<1:50:07,  9.15s/it]"
     ]
    },
    {
     "name": "stdout",
     "output_type": "stream",
     "text": [
      "[713.88] Epoch 77, train loss: 1.0839385986328125, val loss: 1.044324517250061, val accuracy: 0.3\n"
     ]
    },
    {
     "name": "stderr",
     "output_type": "stream",
     "text": [
      " 10%|▉         | 79/800 [12:03<1:49:58,  9.15s/it]"
     ]
    },
    {
     "name": "stdout",
     "output_type": "stream",
     "text": [
      "[723.03] Epoch 78, train loss: 1.0854339599609375, val loss: 1.0443484783172607, val accuracy: 0.3\n"
     ]
    },
    {
     "name": "stderr",
     "output_type": "stream",
     "text": [
      " 10%|█         | 80/800 [12:12<1:49:49,  9.15s/it]"
     ]
    },
    {
     "name": "stdout",
     "output_type": "stream",
     "text": [
      "[732.18] Epoch 79, train loss: 1.0829010009765625, val loss: 1.0443015098571777, val accuracy: 0.3\n"
     ]
    },
    {
     "name": "stderr",
     "output_type": "stream",
     "text": [
      " 10%|█         | 81/800 [12:21<1:49:40,  9.15s/it]"
     ]
    },
    {
     "name": "stdout",
     "output_type": "stream",
     "text": [
      "[741.33] Epoch 80, train loss: 1.0821990966796875, val loss: 1.044120192527771, val accuracy: 0.3\n"
     ]
    },
    {
     "name": "stderr",
     "output_type": "stream",
     "text": [
      " 10%|█         | 82/800 [12:30<1:49:30,  9.15s/it]"
     ]
    },
    {
     "name": "stdout",
     "output_type": "stream",
     "text": [
      "[750.49] Epoch 81, train loss: 1.0823211669921875, val loss: 1.044055461883545, val accuracy: 0.3\n"
     ]
    },
    {
     "name": "stderr",
     "output_type": "stream",
     "text": [
      " 10%|█         | 83/800 [12:39<1:49:21,  9.15s/it]"
     ]
    },
    {
     "name": "stdout",
     "output_type": "stream",
     "text": [
      "[759.64] Epoch 82, train loss: 1.0836029052734375, val loss: 1.0439894199371338, val accuracy: 0.3\n"
     ]
    },
    {
     "name": "stderr",
     "output_type": "stream",
     "text": [
      " 10%|█         | 84/800 [12:48<1:49:12,  9.15s/it]"
     ]
    },
    {
     "name": "stdout",
     "output_type": "stream",
     "text": [
      "[768.79] Epoch 83, train loss: 1.0838623046875, val loss: 1.0439504384994507, val accuracy: 0.3\n"
     ]
    },
    {
     "name": "stderr",
     "output_type": "stream",
     "text": [
      " 11%|█         | 85/800 [12:57<1:49:04,  9.15s/it]"
     ]
    },
    {
     "name": "stdout",
     "output_type": "stream",
     "text": [
      "[777.94] Epoch 84, train loss: 1.0834808349609375, val loss: 1.0439207553863525, val accuracy: 0.3\n"
     ]
    },
    {
     "name": "stderr",
     "output_type": "stream",
     "text": [
      " 11%|█         | 86/800 [13:07<1:48:55,  9.15s/it]"
     ]
    },
    {
     "name": "stdout",
     "output_type": "stream",
     "text": [
      "[787.10] Epoch 85, train loss: 1.0814971923828125, val loss: 1.043833613395691, val accuracy: 0.3\n"
     ]
    },
    {
     "name": "stderr",
     "output_type": "stream",
     "text": [
      " 11%|█         | 87/800 [13:16<1:48:46,  9.15s/it]"
     ]
    },
    {
     "name": "stdout",
     "output_type": "stream",
     "text": [
      "[796.25] Epoch 86, train loss: 1.0831451416015625, val loss: 1.0436124801635742, val accuracy: 0.3\n"
     ]
    },
    {
     "name": "stderr",
     "output_type": "stream",
     "text": [
      " 11%|█         | 88/800 [13:25<1:48:37,  9.15s/it]"
     ]
    },
    {
     "name": "stdout",
     "output_type": "stream",
     "text": [
      "[805.40] Epoch 87, train loss: 1.0821990966796875, val loss: 1.0433133840560913, val accuracy: 0.3\n"
     ]
    },
    {
     "name": "stderr",
     "output_type": "stream",
     "text": [
      " 11%|█         | 89/800 [13:34<1:48:27,  9.15s/it]"
     ]
    },
    {
     "name": "stdout",
     "output_type": "stream",
     "text": [
      "[814.56] Epoch 88, train loss: 1.0815887451171875, val loss: 1.043142557144165, val accuracy: 0.3\n"
     ]
    },
    {
     "name": "stderr",
     "output_type": "stream",
     "text": [
      " 11%|█▏        | 90/800 [13:43<1:48:18,  9.15s/it]"
     ]
    },
    {
     "name": "stdout",
     "output_type": "stream",
     "text": [
      "[823.71] Epoch 89, train loss: 1.0825042724609375, val loss: 1.0430949926376343, val accuracy: 0.3\n"
     ]
    },
    {
     "name": "stderr",
     "output_type": "stream",
     "text": [
      " 11%|█▏        | 91/800 [13:52<1:48:09,  9.15s/it]"
     ]
    },
    {
     "name": "stdout",
     "output_type": "stream",
     "text": [
      "[832.86] Epoch 90, train loss: 1.081939697265625, val loss: 1.0430128574371338, val accuracy: 0.3\n"
     ]
    },
    {
     "name": "stderr",
     "output_type": "stream",
     "text": [
      " 12%|█▏        | 92/800 [14:02<1:48:00,  9.15s/it]"
     ]
    },
    {
     "name": "stdout",
     "output_type": "stream",
     "text": [
      "[842.01] Epoch 91, train loss: 1.08172607421875, val loss: 1.0429251194000244, val accuracy: 0.3\n"
     ]
    },
    {
     "name": "stderr",
     "output_type": "stream",
     "text": [
      " 12%|█▏        | 93/800 [14:11<1:47:50,  9.15s/it]"
     ]
    },
    {
     "name": "stdout",
     "output_type": "stream",
     "text": [
      "[851.17] Epoch 92, train loss: 1.0822906494140625, val loss: 1.0427289009094238, val accuracy: 0.3\n"
     ]
    },
    {
     "name": "stderr",
     "output_type": "stream",
     "text": [
      " 12%|█▏        | 94/800 [14:20<1:47:41,  9.15s/it]"
     ]
    },
    {
     "name": "stdout",
     "output_type": "stream",
     "text": [
      "[860.32] Epoch 93, train loss: 1.081695556640625, val loss: 1.0424540042877197, val accuracy: 0.3\n"
     ]
    },
    {
     "name": "stderr",
     "output_type": "stream",
     "text": [
      " 12%|█▏        | 95/800 [14:29<1:47:32,  9.15s/it]"
     ]
    },
    {
     "name": "stdout",
     "output_type": "stream",
     "text": [
      "[869.47] Epoch 94, train loss: 1.0836944580078125, val loss: 1.0424686670303345, val accuracy: 0.3\n"
     ]
    },
    {
     "name": "stderr",
     "output_type": "stream",
     "text": [
      " 12%|█▏        | 96/800 [14:38<1:47:23,  9.15s/it]"
     ]
    },
    {
     "name": "stdout",
     "output_type": "stream",
     "text": [
      "[878.63] Epoch 95, train loss: 1.079803466796875, val loss: 1.0424350500106812, val accuracy: 0.3\n"
     ]
    },
    {
     "name": "stderr",
     "output_type": "stream",
     "text": [
      " 12%|█▏        | 97/800 [14:47<1:47:14,  9.15s/it]"
     ]
    },
    {
     "name": "stdout",
     "output_type": "stream",
     "text": [
      "[887.78] Epoch 96, train loss: 1.082672119140625, val loss: 1.0423017740249634, val accuracy: 0.3\n"
     ]
    },
    {
     "name": "stderr",
     "output_type": "stream",
     "text": [
      " 12%|█▏        | 98/800 [14:56<1:47:05,  9.15s/it]"
     ]
    },
    {
     "name": "stdout",
     "output_type": "stream",
     "text": [
      "[896.93] Epoch 97, train loss: 1.0816192626953125, val loss: 1.04230797290802, val accuracy: 0.3\n"
     ]
    },
    {
     "name": "stderr",
     "output_type": "stream",
     "text": [
      " 12%|█▏        | 99/800 [15:06<1:46:56,  9.15s/it]"
     ]
    },
    {
     "name": "stdout",
     "output_type": "stream",
     "text": [
      "[906.09] Epoch 98, train loss: 1.0829620361328125, val loss: 1.042413592338562, val accuracy: 0.3\n"
     ]
    },
    {
     "name": "stderr",
     "output_type": "stream",
     "text": [
      " 12%|█▎        | 100/800 [15:15<1:46:47,  9.15s/it]"
     ]
    },
    {
     "name": "stdout",
     "output_type": "stream",
     "text": [
      "[915.24] Epoch 99, train loss: 1.08135986328125, val loss: 1.0424957275390625, val accuracy: 0.3\n"
     ]
    },
    {
     "name": "stderr",
     "output_type": "stream",
     "text": [
      " 13%|█▎        | 101/800 [15:24<1:46:38,  9.15s/it]"
     ]
    },
    {
     "name": "stdout",
     "output_type": "stream",
     "text": [
      "[924.39] Epoch 100, train loss: 1.0810089111328125, val loss: 1.042262315750122, val accuracy: 0.3\n"
     ]
    },
    {
     "name": "stderr",
     "output_type": "stream",
     "text": [
      " 13%|█▎        | 102/800 [15:33<1:46:28,  9.15s/it]"
     ]
    },
    {
     "name": "stdout",
     "output_type": "stream",
     "text": [
      "[933.55] Epoch 101, train loss: 1.0818328857421875, val loss: 1.0420417785644531, val accuracy: 0.3\n"
     ]
    },
    {
     "name": "stderr",
     "output_type": "stream",
     "text": [
      " 13%|█▎        | 103/800 [15:42<1:46:19,  9.15s/it]"
     ]
    },
    {
     "name": "stdout",
     "output_type": "stream",
     "text": [
      "[942.70] Epoch 102, train loss: 1.0813446044921875, val loss: 1.0417811870574951, val accuracy: 0.3\n"
     ]
    },
    {
     "name": "stderr",
     "output_type": "stream",
     "text": [
      " 13%|█▎        | 104/800 [15:51<1:46:10,  9.15s/it]"
     ]
    },
    {
     "name": "stdout",
     "output_type": "stream",
     "text": [
      "[951.85] Epoch 103, train loss: 1.0796966552734375, val loss: 1.04147207736969, val accuracy: 0.3\n"
     ]
    },
    {
     "name": "stderr",
     "output_type": "stream",
     "text": [
      " 13%|█▎        | 105/800 [16:01<1:46:00,  9.15s/it]"
     ]
    },
    {
     "name": "stdout",
     "output_type": "stream",
     "text": [
      "[961.00] Epoch 104, train loss: 1.0815887451171875, val loss: 1.0411087274551392, val accuracy: 0.3\n"
     ]
    },
    {
     "name": "stderr",
     "output_type": "stream",
     "text": [
      " 13%|█▎        | 106/800 [16:10<1:45:51,  9.15s/it]"
     ]
    },
    {
     "name": "stdout",
     "output_type": "stream",
     "text": [
      "[970.15] Epoch 105, train loss: 1.0795745849609375, val loss: 1.0408728122711182, val accuracy: 0.3\n"
     ]
    },
    {
     "name": "stderr",
     "output_type": "stream",
     "text": [
      " 13%|█▎        | 107/800 [16:19<1:45:42,  9.15s/it]"
     ]
    },
    {
     "name": "stdout",
     "output_type": "stream",
     "text": [
      "[979.31] Epoch 106, train loss: 1.080078125, val loss: 1.0406694412231445, val accuracy: 0.3\n"
     ]
    },
    {
     "name": "stderr",
     "output_type": "stream",
     "text": [
      " 14%|█▎        | 108/800 [16:28<1:45:33,  9.15s/it]"
     ]
    },
    {
     "name": "stdout",
     "output_type": "stream",
     "text": [
      "[988.46] Epoch 107, train loss: 1.078887939453125, val loss: 1.0407254695892334, val accuracy: 0.3\n"
     ]
    },
    {
     "name": "stderr",
     "output_type": "stream",
     "text": [
      " 14%|█▎        | 109/800 [16:37<1:45:24,  9.15s/it]"
     ]
    },
    {
     "name": "stdout",
     "output_type": "stream",
     "text": [
      "[997.61] Epoch 108, train loss: 1.0797882080078125, val loss: 1.0408822298049927, val accuracy: 0.3\n"
     ]
    },
    {
     "name": "stderr",
     "output_type": "stream",
     "text": [
      " 14%|█▍        | 110/800 [16:46<1:45:15,  9.15s/it]"
     ]
    },
    {
     "name": "stdout",
     "output_type": "stream",
     "text": [
      "[1006.77] Epoch 109, train loss: 1.0785675048828125, val loss: 1.0409877300262451, val accuracy: 0.3\n"
     ]
    },
    {
     "name": "stderr",
     "output_type": "stream",
     "text": [
      " 14%|█▍        | 111/800 [16:55<1:45:06,  9.15s/it]"
     ]
    },
    {
     "name": "stdout",
     "output_type": "stream",
     "text": [
      "[1015.92] Epoch 110, train loss: 1.07952880859375, val loss: 1.04091477394104, val accuracy: 0.3\n"
     ]
    },
    {
     "name": "stderr",
     "output_type": "stream",
     "text": [
      " 14%|█▍        | 112/800 [17:05<1:44:56,  9.15s/it]"
     ]
    },
    {
     "name": "stdout",
     "output_type": "stream",
     "text": [
      "[1025.07] Epoch 111, train loss: 1.08111572265625, val loss: 1.0408704280853271, val accuracy: 0.3\n"
     ]
    },
    {
     "name": "stderr",
     "output_type": "stream",
     "text": [
      " 14%|█▍        | 113/800 [17:14<1:44:48,  9.15s/it]"
     ]
    },
    {
     "name": "stdout",
     "output_type": "stream",
     "text": [
      "[1034.23] Epoch 112, train loss: 1.0798797607421875, val loss: 1.0406461954116821, val accuracy: 0.3\n"
     ]
    },
    {
     "name": "stderr",
     "output_type": "stream",
     "text": [
      " 14%|█▍        | 114/800 [17:23<1:44:38,  9.15s/it]"
     ]
    },
    {
     "name": "stdout",
     "output_type": "stream",
     "text": [
      "[1043.38] Epoch 113, train loss: 1.08056640625, val loss: 1.040370225906372, val accuracy: 0.3\n"
     ]
    },
    {
     "name": "stderr",
     "output_type": "stream",
     "text": [
      " 14%|█▍        | 115/800 [17:32<1:44:29,  9.15s/it]"
     ]
    },
    {
     "name": "stdout",
     "output_type": "stream",
     "text": [
      "[1052.53] Epoch 114, train loss: 1.0779876708984375, val loss: 1.0405043363571167, val accuracy: 0.3\n"
     ]
    },
    {
     "name": "stderr",
     "output_type": "stream",
     "text": [
      " 14%|█▍        | 116/800 [17:41<1:44:20,  9.15s/it]"
     ]
    },
    {
     "name": "stdout",
     "output_type": "stream",
     "text": [
      "[1061.68] Epoch 115, train loss: 1.0789794921875, val loss: 1.040503740310669, val accuracy: 0.3\n"
     ]
    },
    {
     "name": "stderr",
     "output_type": "stream",
     "text": [
      " 15%|█▍        | 117/800 [17:50<1:44:11,  9.15s/it]"
     ]
    },
    {
     "name": "stdout",
     "output_type": "stream",
     "text": [
      "[1070.84] Epoch 116, train loss: 1.079193115234375, val loss: 1.0405724048614502, val accuracy: 0.3\n"
     ]
    },
    {
     "name": "stderr",
     "output_type": "stream",
     "text": [
      " 15%|█▍        | 118/800 [17:59<1:44:01,  9.15s/it]"
     ]
    },
    {
     "name": "stdout",
     "output_type": "stream",
     "text": [
      "[1079.99] Epoch 117, train loss: 1.0797882080078125, val loss: 1.0407079458236694, val accuracy: 0.3\n"
     ]
    },
    {
     "name": "stderr",
     "output_type": "stream",
     "text": [
      " 15%|█▍        | 119/800 [18:09<1:43:52,  9.15s/it]"
     ]
    },
    {
     "name": "stdout",
     "output_type": "stream",
     "text": [
      "[1089.14] Epoch 118, train loss: 1.0790863037109375, val loss: 1.0407631397247314, val accuracy: 0.2\n"
     ]
    },
    {
     "name": "stderr",
     "output_type": "stream",
     "text": [
      " 15%|█▌        | 120/800 [18:18<1:43:43,  9.15s/it]"
     ]
    },
    {
     "name": "stdout",
     "output_type": "stream",
     "text": [
      "[1098.29] Epoch 119, train loss: 1.078521728515625, val loss: 1.0404046773910522, val accuracy: 0.2\n"
     ]
    },
    {
     "name": "stderr",
     "output_type": "stream",
     "text": [
      " 15%|█▌        | 121/800 [18:27<1:43:34,  9.15s/it]"
     ]
    },
    {
     "name": "stdout",
     "output_type": "stream",
     "text": [
      "[1107.45] Epoch 120, train loss: 1.0777130126953125, val loss: 1.0397794246673584, val accuracy: 0.2\n"
     ]
    },
    {
     "name": "stderr",
     "output_type": "stream",
     "text": [
      " 15%|█▌        | 122/800 [18:36<1:43:25,  9.15s/it]"
     ]
    },
    {
     "name": "stdout",
     "output_type": "stream",
     "text": [
      "[1116.60] Epoch 121, train loss: 1.0751953125, val loss: 1.0392112731933594, val accuracy: 0.2\n"
     ]
    },
    {
     "name": "stderr",
     "output_type": "stream",
     "text": [
      " 15%|█▌        | 123/800 [18:45<1:43:16,  9.15s/it]"
     ]
    },
    {
     "name": "stdout",
     "output_type": "stream",
     "text": [
      "[1125.75] Epoch 122, train loss: 1.076324462890625, val loss: 1.0386698246002197, val accuracy: 0.2\n"
     ]
    },
    {
     "name": "stderr",
     "output_type": "stream",
     "text": [
      " 16%|█▌        | 124/800 [18:54<1:43:06,  9.15s/it]"
     ]
    },
    {
     "name": "stdout",
     "output_type": "stream",
     "text": [
      "[1134.90] Epoch 123, train loss: 1.0788421630859375, val loss: 1.038348913192749, val accuracy: 0.2\n"
     ]
    },
    {
     "name": "stderr",
     "output_type": "stream",
     "text": [
      " 16%|█▌        | 125/800 [19:04<1:42:57,  9.15s/it]"
     ]
    },
    {
     "name": "stdout",
     "output_type": "stream",
     "text": [
      "[1144.05] Epoch 124, train loss: 1.07489013671875, val loss: 1.038237452507019, val accuracy: 0.2\n"
     ]
    },
    {
     "name": "stderr",
     "output_type": "stream",
     "text": [
      " 16%|█▌        | 126/800 [19:13<1:42:48,  9.15s/it]"
     ]
    },
    {
     "name": "stdout",
     "output_type": "stream",
     "text": [
      "[1153.21] Epoch 125, train loss: 1.080291748046875, val loss: 1.0387778282165527, val accuracy: 0.2\n"
     ]
    },
    {
     "name": "stderr",
     "output_type": "stream",
     "text": [
      " 16%|█▌        | 127/800 [19:22<1:42:39,  9.15s/it]"
     ]
    },
    {
     "name": "stdout",
     "output_type": "stream",
     "text": [
      "[1162.36] Epoch 126, train loss: 1.0773162841796875, val loss: 1.0396559238433838, val accuracy: 0.2\n"
     ]
    },
    {
     "name": "stderr",
     "output_type": "stream",
     "text": [
      " 16%|█▌        | 128/800 [19:31<1:42:30,  9.15s/it]"
     ]
    },
    {
     "name": "stdout",
     "output_type": "stream",
     "text": [
      "[1171.51] Epoch 127, train loss: 1.075592041015625, val loss: 1.0398290157318115, val accuracy: 0.2\n"
     ]
    },
    {
     "name": "stderr",
     "output_type": "stream",
     "text": [
      " 16%|█▌        | 129/800 [19:40<1:42:21,  9.15s/it]"
     ]
    },
    {
     "name": "stdout",
     "output_type": "stream",
     "text": [
      "[1180.66] Epoch 128, train loss: 1.073089599609375, val loss: 1.0400073528289795, val accuracy: 0.2\n"
     ]
    },
    {
     "name": "stderr",
     "output_type": "stream",
     "text": [
      " 16%|█▋        | 130/800 [19:49<1:42:11,  9.15s/it]"
     ]
    },
    {
     "name": "stdout",
     "output_type": "stream",
     "text": [
      "[1189.81] Epoch 129, train loss: 1.076385498046875, val loss: 1.0398823022842407, val accuracy: 0.2\n"
     ]
    },
    {
     "name": "stderr",
     "output_type": "stream",
     "text": [
      " 16%|█▋        | 131/800 [19:58<1:42:02,  9.15s/it]"
     ]
    },
    {
     "name": "stdout",
     "output_type": "stream",
     "text": [
      "[1198.97] Epoch 130, train loss: 1.0755767822265625, val loss: 1.0391957759857178, val accuracy: 0.2\n"
     ]
    },
    {
     "name": "stderr",
     "output_type": "stream",
     "text": [
      " 16%|█▋        | 132/800 [20:08<1:41:53,  9.15s/it]"
     ]
    },
    {
     "name": "stdout",
     "output_type": "stream",
     "text": [
      "[1208.12] Epoch 131, train loss: 1.075042724609375, val loss: 1.0388214588165283, val accuracy: 0.2\n"
     ]
    },
    {
     "name": "stderr",
     "output_type": "stream",
     "text": [
      " 17%|█▋        | 133/800 [20:17<1:41:43,  9.15s/it]"
     ]
    },
    {
     "name": "stdout",
     "output_type": "stream",
     "text": [
      "[1217.27] Epoch 132, train loss: 1.07586669921875, val loss: 1.0385210514068604, val accuracy: 0.2\n"
     ]
    },
    {
     "name": "stderr",
     "output_type": "stream",
     "text": [
      " 17%|█▋        | 134/800 [20:26<1:41:34,  9.15s/it]"
     ]
    },
    {
     "name": "stdout",
     "output_type": "stream",
     "text": [
      "[1226.42] Epoch 133, train loss: 1.074493408203125, val loss: 1.0382020473480225, val accuracy: 0.2\n"
     ]
    },
    {
     "name": "stderr",
     "output_type": "stream",
     "text": [
      " 17%|█▋        | 135/800 [20:35<1:41:25,  9.15s/it]"
     ]
    },
    {
     "name": "stdout",
     "output_type": "stream",
     "text": [
      "[1235.57] Epoch 134, train loss: 1.0770263671875, val loss: 1.0381451845169067, val accuracy: 0.2\n"
     ]
    },
    {
     "name": "stderr",
     "output_type": "stream",
     "text": [
      " 17%|█▋        | 136/800 [20:44<1:41:16,  9.15s/it]"
     ]
    },
    {
     "name": "stdout",
     "output_type": "stream",
     "text": [
      "[1244.72] Epoch 135, train loss: 1.0749359130859375, val loss: 1.0384111404418945, val accuracy: 0.2\n"
     ]
    },
    {
     "name": "stderr",
     "output_type": "stream",
     "text": [
      " 17%|█▋        | 137/800 [20:53<1:41:07,  9.15s/it]"
     ]
    },
    {
     "name": "stdout",
     "output_type": "stream",
     "text": [
      "[1253.87] Epoch 136, train loss: 1.074432373046875, val loss: 1.0385105609893799, val accuracy: 0.2\n"
     ]
    },
    {
     "name": "stderr",
     "output_type": "stream",
     "text": [
      " 17%|█▋        | 138/800 [21:03<1:40:58,  9.15s/it]"
     ]
    },
    {
     "name": "stdout",
     "output_type": "stream",
     "text": [
      "[1263.03] Epoch 137, train loss: 1.075042724609375, val loss: 1.0382657051086426, val accuracy: 0.2\n"
     ]
    },
    {
     "name": "stderr",
     "output_type": "stream",
     "text": [
      " 17%|█▋        | 139/800 [21:12<1:40:48,  9.15s/it]"
     ]
    },
    {
     "name": "stdout",
     "output_type": "stream",
     "text": [
      "[1272.18] Epoch 138, train loss: 1.071990966796875, val loss: 1.0377851724624634, val accuracy: 0.2\n"
     ]
    },
    {
     "name": "stderr",
     "output_type": "stream",
     "text": [
      " 18%|█▊        | 140/800 [21:21<1:40:40,  9.15s/it]"
     ]
    },
    {
     "name": "stdout",
     "output_type": "stream",
     "text": [
      "[1281.33] Epoch 139, train loss: 1.0753173828125, val loss: 1.037597894668579, val accuracy: 0.2\n"
     ]
    },
    {
     "name": "stderr",
     "output_type": "stream",
     "text": [
      " 18%|█▊        | 141/800 [21:30<1:40:31,  9.15s/it]"
     ]
    },
    {
     "name": "stdout",
     "output_type": "stream",
     "text": [
      "[1290.48] Epoch 140, train loss: 1.0713043212890625, val loss: 1.037438154220581, val accuracy: 0.2\n"
     ]
    },
    {
     "name": "stderr",
     "output_type": "stream",
     "text": [
      " 18%|█▊        | 142/800 [21:39<1:40:21,  9.15s/it]"
     ]
    },
    {
     "name": "stdout",
     "output_type": "stream",
     "text": [
      "[1299.63] Epoch 141, train loss: 1.072540283203125, val loss: 1.0368455648422241, val accuracy: 0.2\n"
     ]
    },
    {
     "name": "stderr",
     "output_type": "stream",
     "text": [
      " 18%|█▊        | 143/800 [21:48<1:40:12,  9.15s/it]"
     ]
    },
    {
     "name": "stdout",
     "output_type": "stream",
     "text": [
      "[1308.78] Epoch 142, train loss: 1.0758514404296875, val loss: 1.0362735986709595, val accuracy: 0.2\n"
     ]
    },
    {
     "name": "stderr",
     "output_type": "stream",
     "text": [
      " 18%|█▊        | 144/800 [21:57<1:40:03,  9.15s/it]"
     ]
    },
    {
     "name": "stdout",
     "output_type": "stream",
     "text": [
      "[1317.93] Epoch 143, train loss: 1.0728607177734375, val loss: 1.0361779928207397, val accuracy: 0.2\n"
     ]
    },
    {
     "name": "stderr",
     "output_type": "stream",
     "text": [
      " 18%|█▊        | 145/800 [22:07<1:39:53,  9.15s/it]"
     ]
    },
    {
     "name": "stdout",
     "output_type": "stream",
     "text": [
      "[1327.09] Epoch 144, train loss: 1.07342529296875, val loss: 1.036099910736084, val accuracy: 0.2\n"
     ]
    },
    {
     "name": "stderr",
     "output_type": "stream",
     "text": [
      " 18%|█▊        | 146/800 [22:16<1:39:45,  9.15s/it]"
     ]
    },
    {
     "name": "stdout",
     "output_type": "stream",
     "text": [
      "[1336.24] Epoch 145, train loss: 1.0720977783203125, val loss: 1.036614179611206, val accuracy: 0.2\n"
     ]
    },
    {
     "name": "stderr",
     "output_type": "stream",
     "text": [
      " 18%|█▊        | 147/800 [22:25<1:39:36,  9.15s/it]"
     ]
    },
    {
     "name": "stdout",
     "output_type": "stream",
     "text": [
      "[1345.39] Epoch 146, train loss: 1.0717620849609375, val loss: 1.0368965864181519, val accuracy: 0.2\n"
     ]
    },
    {
     "name": "stderr",
     "output_type": "stream",
     "text": [
      " 18%|█▊        | 148/800 [22:34<1:39:26,  9.15s/it]"
     ]
    },
    {
     "name": "stdout",
     "output_type": "stream",
     "text": [
      "[1354.54] Epoch 147, train loss: 1.0751800537109375, val loss: 1.036216378211975, val accuracy: 0.2\n"
     ]
    },
    {
     "name": "stderr",
     "output_type": "stream",
     "text": [
      " 19%|█▊        | 149/800 [22:43<1:39:17,  9.15s/it]"
     ]
    },
    {
     "name": "stdout",
     "output_type": "stream",
     "text": [
      "[1363.69] Epoch 148, train loss: 1.071868896484375, val loss: 1.035296082496643, val accuracy: 0.2\n"
     ]
    },
    {
     "name": "stderr",
     "output_type": "stream",
     "text": [
      " 19%|█▉        | 150/800 [22:52<1:39:09,  9.15s/it]"
     ]
    },
    {
     "name": "stdout",
     "output_type": "stream",
     "text": [
      "[1372.85] Epoch 149, train loss: 1.071136474609375, val loss: 1.0351814031600952, val accuracy: 0.2\n"
     ]
    },
    {
     "name": "stderr",
     "output_type": "stream",
     "text": [
      " 19%|█▉        | 151/800 [23:01<1:38:59,  9.15s/it]"
     ]
    },
    {
     "name": "stdout",
     "output_type": "stream",
     "text": [
      "[1382.00] Epoch 150, train loss: 1.068359375, val loss: 1.0355689525604248, val accuracy: 0.2\n"
     ]
    },
    {
     "name": "stderr",
     "output_type": "stream",
     "text": [
      " 19%|█▉        | 152/800 [23:11<1:38:50,  9.15s/it]"
     ]
    },
    {
     "name": "stdout",
     "output_type": "stream",
     "text": [
      "[1391.15] Epoch 151, train loss: 1.0697174072265625, val loss: 1.0354640483856201, val accuracy: 0.2\n"
     ]
    },
    {
     "name": "stderr",
     "output_type": "stream",
     "text": [
      " 19%|█▉        | 153/800 [23:20<1:38:41,  9.15s/it]"
     ]
    },
    {
     "name": "stdout",
     "output_type": "stream",
     "text": [
      "[1400.30] Epoch 152, train loss: 1.071502685546875, val loss: 1.0346218347549438, val accuracy: 0.2\n"
     ]
    },
    {
     "name": "stderr",
     "output_type": "stream",
     "text": [
      " 19%|█▉        | 154/800 [23:29<1:38:31,  9.15s/it]"
     ]
    },
    {
     "name": "stdout",
     "output_type": "stream",
     "text": [
      "[1409.45] Epoch 153, train loss: 1.0732421875, val loss: 1.0344696044921875, val accuracy: 0.2\n"
     ]
    },
    {
     "name": "stderr",
     "output_type": "stream",
     "text": [
      " 19%|█▉        | 155/800 [23:38<1:38:22,  9.15s/it]"
     ]
    },
    {
     "name": "stdout",
     "output_type": "stream",
     "text": [
      "[1418.60] Epoch 154, train loss: 1.0713348388671875, val loss: 1.0346752405166626, val accuracy: 0.2\n"
     ]
    },
    {
     "name": "stderr",
     "output_type": "stream",
     "text": [
      " 20%|█▉        | 156/800 [23:47<1:38:13,  9.15s/it]"
     ]
    },
    {
     "name": "stdout",
     "output_type": "stream",
     "text": [
      "[1427.76] Epoch 155, train loss: 1.072052001953125, val loss: 1.0346920490264893, val accuracy: 0.2\n"
     ]
    },
    {
     "name": "stderr",
     "output_type": "stream",
     "text": [
      " 20%|█▉        | 157/800 [23:56<1:38:04,  9.15s/it]"
     ]
    },
    {
     "name": "stdout",
     "output_type": "stream",
     "text": [
      "[1436.91] Epoch 156, train loss: 1.0712890625, val loss: 1.0351738929748535, val accuracy: 0.2\n"
     ]
    },
    {
     "name": "stderr",
     "output_type": "stream",
     "text": [
      " 20%|█▉        | 158/800 [24:06<1:37:55,  9.15s/it]"
     ]
    },
    {
     "name": "stdout",
     "output_type": "stream",
     "text": [
      "[1446.06] Epoch 157, train loss: 1.069427490234375, val loss: 1.0356394052505493, val accuracy: 0.2\n"
     ]
    },
    {
     "name": "stderr",
     "output_type": "stream",
     "text": [
      " 20%|█▉        | 159/800 [24:15<1:37:46,  9.15s/it]"
     ]
    },
    {
     "name": "stdout",
     "output_type": "stream",
     "text": [
      "[1455.21] Epoch 158, train loss: 1.0719146728515625, val loss: 1.0350611209869385, val accuracy: 0.2\n"
     ]
    },
    {
     "name": "stderr",
     "output_type": "stream",
     "text": [
      " 20%|██        | 160/800 [24:24<1:37:37,  9.15s/it]"
     ]
    },
    {
     "name": "stdout",
     "output_type": "stream",
     "text": [
      "[1464.36] Epoch 159, train loss: 1.0687408447265625, val loss: 1.0351088047027588, val accuracy: 0.2\n"
     ]
    },
    {
     "name": "stderr",
     "output_type": "stream",
     "text": [
      " 20%|██        | 161/800 [24:33<1:37:28,  9.15s/it]"
     ]
    },
    {
     "name": "stdout",
     "output_type": "stream",
     "text": [
      "[1473.52] Epoch 160, train loss: 1.068603515625, val loss: 1.0347096920013428, val accuracy: 0.2\n"
     ]
    },
    {
     "name": "stderr",
     "output_type": "stream",
     "text": [
      " 20%|██        | 162/800 [24:42<1:37:19,  9.15s/it]"
     ]
    },
    {
     "name": "stdout",
     "output_type": "stream",
     "text": [
      "[1482.67] Epoch 161, train loss: 1.071746826171875, val loss: 1.0338995456695557, val accuracy: 0.2\n"
     ]
    },
    {
     "name": "stderr",
     "output_type": "stream",
     "text": [
      " 20%|██        | 163/800 [24:51<1:37:09,  9.15s/it]"
     ]
    },
    {
     "name": "stdout",
     "output_type": "stream",
     "text": [
      "[1491.82] Epoch 162, train loss: 1.069854736328125, val loss: 1.0338380336761475, val accuracy: 0.2\n"
     ]
    },
    {
     "name": "stderr",
     "output_type": "stream",
     "text": [
      " 20%|██        | 164/800 [25:00<1:37:00,  9.15s/it]"
     ]
    },
    {
     "name": "stdout",
     "output_type": "stream",
     "text": [
      "[1500.97] Epoch 163, train loss: 1.0718994140625, val loss: 1.0336617231369019, val accuracy: 0.2\n"
     ]
    },
    {
     "name": "stderr",
     "output_type": "stream",
     "text": [
      " 21%|██        | 165/800 [25:10<1:36:51,  9.15s/it]"
     ]
    },
    {
     "name": "stdout",
     "output_type": "stream",
     "text": [
      "[1510.12] Epoch 164, train loss: 1.0656585693359375, val loss: 1.0333486795425415, val accuracy: 0.3\n"
     ]
    },
    {
     "name": "stderr",
     "output_type": "stream",
     "text": [
      " 21%|██        | 166/800 [25:19<1:36:42,  9.15s/it]"
     ]
    },
    {
     "name": "stdout",
     "output_type": "stream",
     "text": [
      "[1519.28] Epoch 165, train loss: 1.0696563720703125, val loss: 1.0329389572143555, val accuracy: 0.3\n"
     ]
    },
    {
     "name": "stderr",
     "output_type": "stream",
     "text": [
      " 21%|██        | 167/800 [25:28<1:36:33,  9.15s/it]"
     ]
    },
    {
     "name": "stdout",
     "output_type": "stream",
     "text": [
      "[1528.43] Epoch 166, train loss: 1.067779541015625, val loss: 1.0326547622680664, val accuracy: 0.3\n"
     ]
    },
    {
     "name": "stderr",
     "output_type": "stream",
     "text": [
      " 21%|██        | 168/800 [25:37<1:36:23,  9.15s/it]"
     ]
    },
    {
     "name": "stdout",
     "output_type": "stream",
     "text": [
      "[1537.58] Epoch 167, train loss: 1.0684356689453125, val loss: 1.0325068235397339, val accuracy: 0.3\n"
     ]
    },
    {
     "name": "stderr",
     "output_type": "stream",
     "text": [
      " 21%|██        | 169/800 [25:46<1:36:15,  9.15s/it]"
     ]
    },
    {
     "name": "stdout",
     "output_type": "stream",
     "text": [
      "[1546.73] Epoch 168, train loss: 1.0678863525390625, val loss: 1.033031702041626, val accuracy: 0.3\n"
     ]
    },
    {
     "name": "stderr",
     "output_type": "stream",
     "text": [
      " 21%|██▏       | 170/800 [25:55<1:36:06,  9.15s/it]"
     ]
    },
    {
     "name": "stdout",
     "output_type": "stream",
     "text": [
      "[1555.89] Epoch 169, train loss: 1.0675506591796875, val loss: 1.0331017971038818, val accuracy: 0.3\n"
     ]
    },
    {
     "name": "stderr",
     "output_type": "stream",
     "text": [
      " 21%|██▏       | 171/800 [26:05<1:35:56,  9.15s/it]"
     ]
    },
    {
     "name": "stdout",
     "output_type": "stream",
     "text": [
      "[1565.04] Epoch 170, train loss: 1.06884765625, val loss: 1.0336041450500488, val accuracy: 0.3\n"
     ]
    },
    {
     "name": "stderr",
     "output_type": "stream",
     "text": [
      " 22%|██▏       | 172/800 [26:14<1:35:47,  9.15s/it]"
     ]
    },
    {
     "name": "stdout",
     "output_type": "stream",
     "text": [
      "[1574.19] Epoch 171, train loss: 1.0695953369140625, val loss: 1.033478021621704, val accuracy: 0.3\n"
     ]
    },
    {
     "name": "stderr",
     "output_type": "stream",
     "text": [
      " 22%|██▏       | 173/800 [26:23<1:35:38,  9.15s/it]"
     ]
    },
    {
     "name": "stdout",
     "output_type": "stream",
     "text": [
      "[1583.34] Epoch 172, train loss: 1.0689239501953125, val loss: 1.0335755348205566, val accuracy: 0.3\n"
     ]
    },
    {
     "name": "stderr",
     "output_type": "stream",
     "text": [
      " 22%|██▏       | 174/800 [26:32<1:35:29,  9.15s/it]"
     ]
    },
    {
     "name": "stdout",
     "output_type": "stream",
     "text": [
      "[1592.50] Epoch 173, train loss: 1.06951904296875, val loss: 1.0337302684783936, val accuracy: 0.3\n"
     ]
    },
    {
     "name": "stderr",
     "output_type": "stream",
     "text": [
      " 22%|██▏       | 175/800 [26:41<1:35:20,  9.15s/it]"
     ]
    },
    {
     "name": "stdout",
     "output_type": "stream",
     "text": [
      "[1601.65] Epoch 174, train loss: 1.0648193359375, val loss: 1.033583641052246, val accuracy: 0.3\n"
     ]
    },
    {
     "name": "stderr",
     "output_type": "stream",
     "text": [
      " 22%|██▏       | 176/800 [26:50<1:35:11,  9.15s/it]"
     ]
    },
    {
     "name": "stdout",
     "output_type": "stream",
     "text": [
      "[1610.80] Epoch 175, train loss: 1.0659942626953125, val loss: 1.0328763723373413, val accuracy: 0.3\n"
     ]
    },
    {
     "name": "stderr",
     "output_type": "stream",
     "text": [
      " 22%|██▏       | 177/800 [26:59<1:35:01,  9.15s/it]"
     ]
    },
    {
     "name": "stdout",
     "output_type": "stream",
     "text": [
      "[1619.95] Epoch 176, train loss: 1.065399169921875, val loss: 1.0322842597961426, val accuracy: 0.3\n"
     ]
    },
    {
     "name": "stderr",
     "output_type": "stream",
     "text": [
      " 22%|██▏       | 178/800 [27:09<1:34:52,  9.15s/it]"
     ]
    },
    {
     "name": "stdout",
     "output_type": "stream",
     "text": [
      "[1629.11] Epoch 177, train loss: 1.066009521484375, val loss: 1.032181978225708, val accuracy: 0.3\n"
     ]
    },
    {
     "name": "stderr",
     "output_type": "stream",
     "text": [
      " 22%|██▏       | 179/800 [27:18<1:34:43,  9.15s/it]"
     ]
    },
    {
     "name": "stdout",
     "output_type": "stream",
     "text": [
      "[1638.26] Epoch 178, train loss: 1.066131591796875, val loss: 1.0324811935424805, val accuracy: 0.3\n"
     ]
    },
    {
     "name": "stderr",
     "output_type": "stream",
     "text": [
      " 22%|██▎       | 180/800 [27:27<1:34:34,  9.15s/it]"
     ]
    },
    {
     "name": "stdout",
     "output_type": "stream",
     "text": [
      "[1647.41] Epoch 179, train loss: 1.0650177001953125, val loss: 1.0326532125473022, val accuracy: 0.3\n"
     ]
    },
    {
     "name": "stderr",
     "output_type": "stream",
     "text": [
      " 23%|██▎       | 181/800 [27:36<1:34:25,  9.15s/it]"
     ]
    },
    {
     "name": "stdout",
     "output_type": "stream",
     "text": [
      "[1656.57] Epoch 180, train loss: 1.063934326171875, val loss: 1.0325472354888916, val accuracy: 0.3\n"
     ]
    },
    {
     "name": "stderr",
     "output_type": "stream",
     "text": [
      " 23%|██▎       | 182/800 [27:45<1:34:16,  9.15s/it]"
     ]
    },
    {
     "name": "stdout",
     "output_type": "stream",
     "text": [
      "[1665.72] Epoch 181, train loss: 1.062957763671875, val loss: 1.0324617624282837, val accuracy: 0.3\n"
     ]
    },
    {
     "name": "stderr",
     "output_type": "stream",
     "text": [
      " 23%|██▎       | 183/800 [27:54<1:34:07,  9.15s/it]"
     ]
    },
    {
     "name": "stdout",
     "output_type": "stream",
     "text": [
      "[1674.87] Epoch 182, train loss: 1.064208984375, val loss: 1.0326945781707764, val accuracy: 0.3\n"
     ]
    },
    {
     "name": "stderr",
     "output_type": "stream",
     "text": [
      " 23%|██▎       | 184/800 [28:04<1:33:58,  9.15s/it]"
     ]
    },
    {
     "name": "stdout",
     "output_type": "stream",
     "text": [
      "[1684.03] Epoch 183, train loss: 1.06585693359375, val loss: 1.0324270725250244, val accuracy: 0.3\n"
     ]
    },
    {
     "name": "stderr",
     "output_type": "stream",
     "text": [
      " 23%|██▎       | 185/800 [28:13<1:33:49,  9.15s/it]"
     ]
    },
    {
     "name": "stdout",
     "output_type": "stream",
     "text": [
      "[1693.18] Epoch 184, train loss: 1.0633697509765625, val loss: 1.0322362184524536, val accuracy: 0.3\n"
     ]
    },
    {
     "name": "stderr",
     "output_type": "stream",
     "text": [
      " 23%|██▎       | 186/800 [28:22<1:33:40,  9.15s/it]"
     ]
    },
    {
     "name": "stdout",
     "output_type": "stream",
     "text": [
      "[1702.33] Epoch 185, train loss: 1.061676025390625, val loss: 1.0312641859054565, val accuracy: 0.4\n"
     ]
    },
    {
     "name": "stderr",
     "output_type": "stream",
     "text": [
      " 23%|██▎       | 187/800 [28:31<1:33:30,  9.15s/it]"
     ]
    },
    {
     "name": "stdout",
     "output_type": "stream",
     "text": [
      "[1711.48] Epoch 186, train loss: 1.0644683837890625, val loss: 1.0302518606185913, val accuracy: 0.4\n"
     ]
    },
    {
     "name": "stderr",
     "output_type": "stream",
     "text": [
      " 24%|██▎       | 188/800 [28:40<1:33:21,  9.15s/it]"
     ]
    },
    {
     "name": "stdout",
     "output_type": "stream",
     "text": [
      "[1720.64] Epoch 187, train loss: 1.062347412109375, val loss: 1.0296604633331299, val accuracy: 0.4\n"
     ]
    },
    {
     "name": "stderr",
     "output_type": "stream",
     "text": [
      " 24%|██▎       | 189/800 [28:49<1:33:12,  9.15s/it]"
     ]
    },
    {
     "name": "stdout",
     "output_type": "stream",
     "text": [
      "[1729.79] Epoch 188, train loss: 1.0623931884765625, val loss: 1.0301568508148193, val accuracy: 0.4\n"
     ]
    },
    {
     "name": "stderr",
     "output_type": "stream",
     "text": [
      " 24%|██▍       | 190/800 [28:58<1:33:03,  9.15s/it]"
     ]
    },
    {
     "name": "stdout",
     "output_type": "stream",
     "text": [
      "[1738.94] Epoch 189, train loss: 1.06304931640625, val loss: 1.0308520793914795, val accuracy: 0.4\n"
     ]
    },
    {
     "name": "stderr",
     "output_type": "stream",
     "text": [
      " 24%|██▍       | 191/800 [29:08<1:32:53,  9.15s/it]"
     ]
    },
    {
     "name": "stdout",
     "output_type": "stream",
     "text": [
      "[1748.09] Epoch 190, train loss: 1.0633544921875, val loss: 1.0304983854293823, val accuracy: 0.4\n"
     ]
    },
    {
     "name": "stderr",
     "output_type": "stream",
     "text": [
      " 24%|██▍       | 192/800 [29:17<1:32:44,  9.15s/it]"
     ]
    },
    {
     "name": "stdout",
     "output_type": "stream",
     "text": [
      "[1757.24] Epoch 191, train loss: 1.0598297119140625, val loss: 1.0299875736236572, val accuracy: 0.4\n"
     ]
    },
    {
     "name": "stderr",
     "output_type": "stream",
     "text": [
      " 24%|██▍       | 193/800 [29:26<1:32:35,  9.15s/it]"
     ]
    },
    {
     "name": "stdout",
     "output_type": "stream",
     "text": [
      "[1766.40] Epoch 192, train loss: 1.0632171630859375, val loss: 1.0304276943206787, val accuracy: 0.4\n"
     ]
    },
    {
     "name": "stderr",
     "output_type": "stream",
     "text": [
      " 24%|██▍       | 194/800 [29:35<1:32:25,  9.15s/it]"
     ]
    },
    {
     "name": "stdout",
     "output_type": "stream",
     "text": [
      "[1775.55] Epoch 193, train loss: 1.0601348876953125, val loss: 1.0307847261428833, val accuracy: 0.4\n"
     ]
    },
    {
     "name": "stderr",
     "output_type": "stream",
     "text": [
      " 24%|██▍       | 195/800 [29:44<1:32:16,  9.15s/it]"
     ]
    },
    {
     "name": "stdout",
     "output_type": "stream",
     "text": [
      "[1784.70] Epoch 194, train loss: 1.0607147216796875, val loss: 1.0318552255630493, val accuracy: 0.3\n"
     ]
    },
    {
     "name": "stderr",
     "output_type": "stream",
     "text": [
      " 24%|██▍       | 196/800 [29:53<1:32:07,  9.15s/it]"
     ]
    },
    {
     "name": "stdout",
     "output_type": "stream",
     "text": [
      "[1793.85] Epoch 195, train loss: 1.0611114501953125, val loss: 1.0329616069793701, val accuracy: 0.3\n"
     ]
    },
    {
     "name": "stderr",
     "output_type": "stream",
     "text": [
      " 25%|██▍       | 197/800 [30:03<1:31:58,  9.15s/it]"
     ]
    },
    {
     "name": "stdout",
     "output_type": "stream",
     "text": [
      "[1803.00] Epoch 196, train loss: 1.0589141845703125, val loss: 1.032692313194275, val accuracy: 0.3\n"
     ]
    },
    {
     "name": "stderr",
     "output_type": "stream",
     "text": [
      " 25%|██▍       | 198/800 [30:12<1:31:49,  9.15s/it]"
     ]
    },
    {
     "name": "stdout",
     "output_type": "stream",
     "text": [
      "[1812.15] Epoch 197, train loss: 1.062255859375, val loss: 1.0313907861709595, val accuracy: 0.4\n"
     ]
    },
    {
     "name": "stderr",
     "output_type": "stream",
     "text": [
      " 25%|██▍       | 199/800 [30:21<1:31:40,  9.15s/it]"
     ]
    },
    {
     "name": "stdout",
     "output_type": "stream",
     "text": [
      "[1821.31] Epoch 198, train loss: 1.061492919921875, val loss: 1.0299826860427856, val accuracy: 0.5\n"
     ]
    },
    {
     "name": "stderr",
     "output_type": "stream",
     "text": [
      " 25%|██▌       | 200/800 [30:30<1:31:30,  9.15s/it]"
     ]
    },
    {
     "name": "stdout",
     "output_type": "stream",
     "text": [
      "[1830.46] Epoch 199, train loss: 1.06134033203125, val loss: 1.0303242206573486, val accuracy: 0.5\n"
     ]
    },
    {
     "name": "stderr",
     "output_type": "stream",
     "text": [
      " 25%|██▌       | 201/800 [30:39<1:31:21,  9.15s/it]"
     ]
    },
    {
     "name": "stdout",
     "output_type": "stream",
     "text": [
      "[1839.61] Epoch 200, train loss: 1.056793212890625, val loss: 1.0310008525848389, val accuracy: 0.5\n"
     ]
    },
    {
     "name": "stderr",
     "output_type": "stream",
     "text": [
      " 25%|██▌       | 202/800 [30:48<1:31:12,  9.15s/it]"
     ]
    },
    {
     "name": "stdout",
     "output_type": "stream",
     "text": [
      "[1848.76] Epoch 201, train loss: 1.0552978515625, val loss: 1.0309007167816162, val accuracy: 0.4\n"
     ]
    },
    {
     "name": "stderr",
     "output_type": "stream",
     "text": [
      " 25%|██▌       | 203/800 [30:57<1:31:03,  9.15s/it]"
     ]
    },
    {
     "name": "stdout",
     "output_type": "stream",
     "text": [
      "[1857.91] Epoch 202, train loss: 1.059967041015625, val loss: 1.0310523509979248, val accuracy: 0.4\n"
     ]
    },
    {
     "name": "stderr",
     "output_type": "stream",
     "text": [
      " 26%|██▌       | 204/800 [31:07<1:30:54,  9.15s/it]"
     ]
    },
    {
     "name": "stdout",
     "output_type": "stream",
     "text": [
      "[1867.06] Epoch 203, train loss: 1.05706787109375, val loss: 1.0319560766220093, val accuracy: 0.4\n"
     ]
    },
    {
     "name": "stderr",
     "output_type": "stream",
     "text": [
      " 26%|██▌       | 205/800 [31:16<1:30:45,  9.15s/it]"
     ]
    },
    {
     "name": "stdout",
     "output_type": "stream",
     "text": [
      "[1876.21] Epoch 204, train loss: 1.061065673828125, val loss: 1.0321439504623413, val accuracy: 0.3\n"
     ]
    },
    {
     "name": "stderr",
     "output_type": "stream",
     "text": [
      " 26%|██▌       | 206/800 [31:25<1:30:36,  9.15s/it]"
     ]
    },
    {
     "name": "stdout",
     "output_type": "stream",
     "text": [
      "[1885.37] Epoch 205, train loss: 1.0602264404296875, val loss: 1.0313423871994019, val accuracy: 0.4\n"
     ]
    },
    {
     "name": "stderr",
     "output_type": "stream",
     "text": [
      " 26%|██▌       | 207/800 [31:34<1:30:27,  9.15s/it]"
     ]
    },
    {
     "name": "stdout",
     "output_type": "stream",
     "text": [
      "[1894.52] Epoch 206, train loss: 1.0592803955078125, val loss: 1.0299766063690186, val accuracy: 0.4\n"
     ]
    },
    {
     "name": "stderr",
     "output_type": "stream",
     "text": [
      " 26%|██▌       | 208/800 [31:43<1:30:18,  9.15s/it]"
     ]
    },
    {
     "name": "stdout",
     "output_type": "stream",
     "text": [
      "[1903.67] Epoch 207, train loss: 1.0552978515625, val loss: 1.028444528579712, val accuracy: 0.5\n"
     ]
    },
    {
     "name": "stderr",
     "output_type": "stream",
     "text": [
      " 26%|██▌       | 209/800 [31:52<1:30:08,  9.15s/it]"
     ]
    },
    {
     "name": "stdout",
     "output_type": "stream",
     "text": [
      "[1912.82] Epoch 208, train loss: 1.05889892578125, val loss: 1.0282583236694336, val accuracy: 0.5\n"
     ]
    },
    {
     "name": "stderr",
     "output_type": "stream",
     "text": [
      " 26%|██▋       | 210/800 [32:01<1:30:00,  9.15s/it]"
     ]
    },
    {
     "name": "stdout",
     "output_type": "stream",
     "text": [
      "[1921.98] Epoch 209, train loss: 1.0553131103515625, val loss: 1.0286000967025757, val accuracy: 0.5\n"
     ]
    },
    {
     "name": "stderr",
     "output_type": "stream",
     "text": [
      " 26%|██▋       | 211/800 [32:11<1:29:50,  9.15s/it]"
     ]
    },
    {
     "name": "stdout",
     "output_type": "stream",
     "text": [
      "[1931.13] Epoch 210, train loss: 1.0630645751953125, val loss: 1.0294781923294067, val accuracy: 0.5\n"
     ]
    },
    {
     "name": "stderr",
     "output_type": "stream",
     "text": [
      " 26%|██▋       | 212/800 [32:20<1:29:41,  9.15s/it]"
     ]
    },
    {
     "name": "stdout",
     "output_type": "stream",
     "text": [
      "[1940.28] Epoch 211, train loss: 1.0604705810546875, val loss: 1.030273199081421, val accuracy: 0.4\n"
     ]
    },
    {
     "name": "stderr",
     "output_type": "stream",
     "text": [
      " 27%|██▋       | 213/800 [32:29<1:29:32,  9.15s/it]"
     ]
    },
    {
     "name": "stdout",
     "output_type": "stream",
     "text": [
      "[1949.44] Epoch 212, train loss: 1.0574188232421875, val loss: 1.0310657024383545, val accuracy: 0.4\n"
     ]
    },
    {
     "name": "stderr",
     "output_type": "stream",
     "text": [
      " 27%|██▋       | 214/800 [32:38<1:29:23,  9.15s/it]"
     ]
    },
    {
     "name": "stdout",
     "output_type": "stream",
     "text": [
      "[1958.59] Epoch 213, train loss: 1.0587310791015625, val loss: 1.030153751373291, val accuracy: 0.6\n"
     ]
    },
    {
     "name": "stderr",
     "output_type": "stream",
     "text": [
      " 27%|██▋       | 215/800 [32:47<1:29:14,  9.15s/it]"
     ]
    },
    {
     "name": "stdout",
     "output_type": "stream",
     "text": [
      "[1967.74] Epoch 214, train loss: 1.0631561279296875, val loss: 1.0296716690063477, val accuracy: 0.6\n"
     ]
    },
    {
     "name": "stderr",
     "output_type": "stream",
     "text": [
      " 27%|██▋       | 216/800 [32:56<1:29:05,  9.15s/it]"
     ]
    },
    {
     "name": "stdout",
     "output_type": "stream",
     "text": [
      "[1976.89] Epoch 215, train loss: 1.0563507080078125, val loss: 1.029981255531311, val accuracy: 0.6\n"
     ]
    },
    {
     "name": "stderr",
     "output_type": "stream",
     "text": [
      " 27%|██▋       | 217/800 [33:06<1:28:55,  9.15s/it]"
     ]
    },
    {
     "name": "stdout",
     "output_type": "stream",
     "text": [
      "[1986.05] Epoch 216, train loss: 1.050079345703125, val loss: 1.0295336246490479, val accuracy: 0.5\n"
     ]
    },
    {
     "name": "stderr",
     "output_type": "stream",
     "text": [
      " 27%|██▋       | 218/800 [33:15<1:28:46,  9.15s/it]"
     ]
    },
    {
     "name": "stdout",
     "output_type": "stream",
     "text": [
      "[1995.20] Epoch 217, train loss: 1.0552215576171875, val loss: 1.029293179512024, val accuracy: 0.4\n"
     ]
    },
    {
     "name": "stderr",
     "output_type": "stream",
     "text": [
      " 27%|██▋       | 219/800 [33:24<1:28:37,  9.15s/it]"
     ]
    },
    {
     "name": "stdout",
     "output_type": "stream",
     "text": [
      "[2004.35] Epoch 218, train loss: 1.0520782470703125, val loss: 1.0285546779632568, val accuracy: 0.6\n"
     ]
    },
    {
     "name": "stderr",
     "output_type": "stream",
     "text": [
      " 28%|██▊       | 220/800 [33:33<1:28:28,  9.15s/it]"
     ]
    },
    {
     "name": "stdout",
     "output_type": "stream",
     "text": [
      "[2013.51] Epoch 219, train loss: 1.050872802734375, val loss: 1.028366208076477, val accuracy: 0.6\n"
     ]
    },
    {
     "name": "stderr",
     "output_type": "stream",
     "text": [
      " 28%|██▊       | 221/800 [33:42<1:28:19,  9.15s/it]"
     ]
    },
    {
     "name": "stdout",
     "output_type": "stream",
     "text": [
      "[2022.66] Epoch 220, train loss: 1.0560302734375, val loss: 1.0281925201416016, val accuracy: 0.6\n"
     ]
    },
    {
     "name": "stderr",
     "output_type": "stream",
     "text": [
      " 28%|██▊       | 222/800 [33:51<1:28:10,  9.15s/it]"
     ]
    },
    {
     "name": "stdout",
     "output_type": "stream",
     "text": [
      "[2031.81] Epoch 221, train loss: 1.051116943359375, val loss: 1.0287890434265137, val accuracy: 0.6\n"
     ]
    },
    {
     "name": "stderr",
     "output_type": "stream",
     "text": [
      " 28%|██▊       | 223/800 [34:00<1:28:01,  9.15s/it]"
     ]
    },
    {
     "name": "stdout",
     "output_type": "stream",
     "text": [
      "[2040.97] Epoch 222, train loss: 1.0557708740234375, val loss: 1.0295931100845337, val accuracy: 0.6\n"
     ]
    },
    {
     "name": "stderr",
     "output_type": "stream",
     "text": [
      " 28%|██▊       | 224/800 [34:10<1:27:52,  9.15s/it]"
     ]
    },
    {
     "name": "stdout",
     "output_type": "stream",
     "text": [
      "[2050.12] Epoch 223, train loss: 1.055938720703125, val loss: 1.030556321144104, val accuracy: 0.6\n"
     ]
    },
    {
     "name": "stderr",
     "output_type": "stream",
     "text": [
      " 28%|██▊       | 225/800 [34:19<1:27:43,  9.15s/it]"
     ]
    },
    {
     "name": "stdout",
     "output_type": "stream",
     "text": [
      "[2059.28] Epoch 224, train loss: 1.0553131103515625, val loss: 1.0301814079284668, val accuracy: 0.6\n"
     ]
    },
    {
     "name": "stderr",
     "output_type": "stream",
     "text": [
      " 28%|██▊       | 226/800 [34:28<1:27:34,  9.15s/it]"
     ]
    },
    {
     "name": "stdout",
     "output_type": "stream",
     "text": [
      "[2068.43] Epoch 225, train loss: 1.0530853271484375, val loss: 1.0285570621490479, val accuracy: 0.7\n"
     ]
    },
    {
     "name": "stderr",
     "output_type": "stream",
     "text": [
      " 28%|██▊       | 227/800 [34:37<1:27:25,  9.15s/it]"
     ]
    },
    {
     "name": "stdout",
     "output_type": "stream",
     "text": [
      "[2077.59] Epoch 226, train loss: 1.0528411865234375, val loss: 1.027242660522461, val accuracy: 0.7\n"
     ]
    },
    {
     "name": "stderr",
     "output_type": "stream",
     "text": [
      " 28%|██▊       | 228/800 [34:46<1:27:16,  9.15s/it]"
     ]
    },
    {
     "name": "stdout",
     "output_type": "stream",
     "text": [
      "[2086.74] Epoch 227, train loss: 1.0516510009765625, val loss: 1.027134895324707, val accuracy: 0.7\n"
     ]
    },
    {
     "name": "stderr",
     "output_type": "stream",
     "text": [
      " 29%|██▊       | 229/800 [34:55<1:27:06,  9.15s/it]"
     ]
    },
    {
     "name": "stdout",
     "output_type": "stream",
     "text": [
      "[2095.89] Epoch 228, train loss: 1.055145263671875, val loss: 1.0269770622253418, val accuracy: 0.7\n"
     ]
    },
    {
     "name": "stderr",
     "output_type": "stream",
     "text": [
      " 29%|██▉       | 230/800 [35:05<1:26:57,  9.15s/it]"
     ]
    },
    {
     "name": "stdout",
     "output_type": "stream",
     "text": [
      "[2105.05] Epoch 229, train loss: 1.0526275634765625, val loss: 1.0263723134994507, val accuracy: 0.7\n"
     ]
    },
    {
     "name": "stderr",
     "output_type": "stream",
     "text": [
      " 29%|██▉       | 231/800 [35:14<1:26:48,  9.15s/it]"
     ]
    },
    {
     "name": "stdout",
     "output_type": "stream",
     "text": [
      "[2114.20] Epoch 230, train loss: 1.0495452880859375, val loss: 1.0256521701812744, val accuracy: 0.7\n"
     ]
    },
    {
     "name": "stderr",
     "output_type": "stream",
     "text": [
      " 29%|██▉       | 232/800 [35:23<1:26:39,  9.15s/it]"
     ]
    },
    {
     "name": "stdout",
     "output_type": "stream",
     "text": [
      "[2123.35] Epoch 231, train loss: 1.0497589111328125, val loss: 1.026371717453003, val accuracy: 0.7\n"
     ]
    },
    {
     "name": "stderr",
     "output_type": "stream",
     "text": [
      " 29%|██▉       | 233/800 [35:32<1:26:29,  9.15s/it]"
     ]
    },
    {
     "name": "stdout",
     "output_type": "stream",
     "text": [
      "[2132.50] Epoch 232, train loss: 1.0525054931640625, val loss: 1.026459813117981, val accuracy: 0.7\n"
     ]
    },
    {
     "name": "stderr",
     "output_type": "stream",
     "text": [
      " 29%|██▉       | 234/800 [35:41<1:26:20,  9.15s/it]"
     ]
    },
    {
     "name": "stdout",
     "output_type": "stream",
     "text": [
      "[2141.65] Epoch 233, train loss: 1.055145263671875, val loss: 1.0261108875274658, val accuracy: 0.7\n"
     ]
    },
    {
     "name": "stderr",
     "output_type": "stream",
     "text": [
      " 29%|██▉       | 235/800 [35:50<1:26:10,  9.15s/it]"
     ]
    },
    {
     "name": "stdout",
     "output_type": "stream",
     "text": [
      "[2150.81] Epoch 234, train loss: 1.051849365234375, val loss: 1.0261220932006836, val accuracy: 0.7\n"
     ]
    },
    {
     "name": "stderr",
     "output_type": "stream",
     "text": [
      " 30%|██▉       | 236/800 [35:59<1:26:02,  9.15s/it]"
     ]
    },
    {
     "name": "stdout",
     "output_type": "stream",
     "text": [
      "[2159.96] Epoch 235, train loss: 1.0511016845703125, val loss: 1.026084303855896, val accuracy: 0.7\n"
     ]
    },
    {
     "name": "stderr",
     "output_type": "stream",
     "text": [
      " 30%|██▉       | 237/800 [36:09<1:25:53,  9.15s/it]"
     ]
    },
    {
     "name": "stdout",
     "output_type": "stream",
     "text": [
      "[2169.11] Epoch 236, train loss: 1.0508270263671875, val loss: 1.0252704620361328, val accuracy: 0.7\n"
     ]
    },
    {
     "name": "stderr",
     "output_type": "stream",
     "text": [
      " 30%|██▉       | 238/800 [36:18<1:25:43,  9.15s/it]"
     ]
    },
    {
     "name": "stdout",
     "output_type": "stream",
     "text": [
      "[2178.27] Epoch 237, train loss: 1.0502166748046875, val loss: 1.0249978303909302, val accuracy: 0.7\n"
     ]
    },
    {
     "name": "stderr",
     "output_type": "stream",
     "text": [
      " 30%|██▉       | 239/800 [36:27<1:25:34,  9.15s/it]"
     ]
    },
    {
     "name": "stdout",
     "output_type": "stream",
     "text": [
      "[2187.42] Epoch 238, train loss: 1.050262451171875, val loss: 1.0264428853988647, val accuracy: 0.7\n"
     ]
    },
    {
     "name": "stderr",
     "output_type": "stream",
     "text": [
      " 30%|███       | 240/800 [36:36<1:25:25,  9.15s/it]"
     ]
    },
    {
     "name": "stdout",
     "output_type": "stream",
     "text": [
      "[2196.57] Epoch 239, train loss: 1.047515869140625, val loss: 1.026885986328125, val accuracy: 0.7\n"
     ]
    },
    {
     "name": "stderr",
     "output_type": "stream",
     "text": [
      " 30%|███       | 241/800 [36:45<1:25:16,  9.15s/it]"
     ]
    },
    {
     "name": "stdout",
     "output_type": "stream",
     "text": [
      "[2205.73] Epoch 240, train loss: 1.052276611328125, val loss: 1.0262477397918701, val accuracy: 0.7\n"
     ]
    },
    {
     "name": "stderr",
     "output_type": "stream",
     "text": [
      " 30%|███       | 242/800 [36:54<1:25:07,  9.15s/it]"
     ]
    },
    {
     "name": "stdout",
     "output_type": "stream",
     "text": [
      "[2214.88] Epoch 241, train loss: 1.052001953125, val loss: 1.0262393951416016, val accuracy: 0.7\n"
     ]
    },
    {
     "name": "stderr",
     "output_type": "stream",
     "text": [
      " 30%|███       | 243/800 [37:04<1:24:58,  9.15s/it]"
     ]
    },
    {
     "name": "stdout",
     "output_type": "stream",
     "text": [
      "[2224.03] Epoch 242, train loss: 1.0498809814453125, val loss: 1.0265567302703857, val accuracy: 0.7\n"
     ]
    },
    {
     "name": "stderr",
     "output_type": "stream",
     "text": [
      " 30%|███       | 244/800 [37:13<1:24:49,  9.15s/it]"
     ]
    },
    {
     "name": "stdout",
     "output_type": "stream",
     "text": [
      "[2233.19] Epoch 243, train loss: 1.0446929931640625, val loss: 1.0258253812789917, val accuracy: 0.7\n"
     ]
    },
    {
     "name": "stderr",
     "output_type": "stream",
     "text": [
      " 31%|███       | 245/800 [37:22<1:24:39,  9.15s/it]"
     ]
    },
    {
     "name": "stdout",
     "output_type": "stream",
     "text": [
      "[2242.34] Epoch 244, train loss: 1.04876708984375, val loss: 1.0245800018310547, val accuracy: 0.7\n"
     ]
    },
    {
     "name": "stderr",
     "output_type": "stream",
     "text": [
      " 31%|███       | 246/800 [37:31<1:24:31,  9.15s/it]"
     ]
    },
    {
     "name": "stdout",
     "output_type": "stream",
     "text": [
      "[2251.49] Epoch 245, train loss: 1.047576904296875, val loss: 1.024172067642212, val accuracy: 0.7\n"
     ]
    },
    {
     "name": "stderr",
     "output_type": "stream",
     "text": [
      " 31%|███       | 247/800 [37:40<1:24:21,  9.15s/it]"
     ]
    },
    {
     "name": "stdout",
     "output_type": "stream",
     "text": [
      "[2260.65] Epoch 246, train loss: 1.04815673828125, val loss: 1.023808240890503, val accuracy: 0.7\n"
     ]
    },
    {
     "name": "stderr",
     "output_type": "stream",
     "text": [
      " 31%|███       | 248/800 [37:49<1:24:12,  9.15s/it]"
     ]
    },
    {
     "name": "stdout",
     "output_type": "stream",
     "text": [
      "[2269.80] Epoch 247, train loss: 1.0418243408203125, val loss: 1.0220770835876465, val accuracy: 0.7\n"
     ]
    },
    {
     "name": "stderr",
     "output_type": "stream",
     "text": [
      " 31%|███       | 249/800 [37:58<1:24:03,  9.15s/it]"
     ]
    },
    {
     "name": "stdout",
     "output_type": "stream",
     "text": [
      "[2278.95] Epoch 248, train loss: 1.0493316650390625, val loss: 1.0223207473754883, val accuracy: 0.7\n"
     ]
    },
    {
     "name": "stderr",
     "output_type": "stream",
     "text": [
      " 31%|███▏      | 250/800 [38:08<1:23:54,  9.15s/it]"
     ]
    },
    {
     "name": "stdout",
     "output_type": "stream",
     "text": [
      "[2288.10] Epoch 249, train loss: 1.04962158203125, val loss: 1.024147629737854, val accuracy: 0.7\n"
     ]
    },
    {
     "name": "stderr",
     "output_type": "stream",
     "text": [
      " 31%|███▏      | 251/800 [38:17<1:23:45,  9.15s/it]"
     ]
    },
    {
     "name": "stdout",
     "output_type": "stream",
     "text": [
      "[2297.26] Epoch 250, train loss: 1.0534820556640625, val loss: 1.0249254703521729, val accuracy: 0.7\n"
     ]
    },
    {
     "name": "stderr",
     "output_type": "stream",
     "text": [
      " 32%|███▏      | 252/800 [38:26<1:23:35,  9.15s/it]"
     ]
    },
    {
     "name": "stdout",
     "output_type": "stream",
     "text": [
      "[2306.41] Epoch 251, train loss: 1.044830322265625, val loss: 1.0253430604934692, val accuracy: 0.7\n"
     ]
    },
    {
     "name": "stderr",
     "output_type": "stream",
     "text": [
      " 32%|███▏      | 253/800 [38:35<1:23:26,  9.15s/it]"
     ]
    },
    {
     "name": "stdout",
     "output_type": "stream",
     "text": [
      "[2315.56] Epoch 252, train loss: 1.0471343994140625, val loss: 1.024972677230835, val accuracy: 0.7\n"
     ]
    },
    {
     "name": "stderr",
     "output_type": "stream",
     "text": [
      " 32%|███▏      | 254/800 [38:44<1:23:17,  9.15s/it]"
     ]
    },
    {
     "name": "stdout",
     "output_type": "stream",
     "text": [
      "[2324.72] Epoch 253, train loss: 1.0455474853515625, val loss: 1.0239965915679932, val accuracy: 0.7\n"
     ]
    },
    {
     "name": "stderr",
     "output_type": "stream",
     "text": [
      " 32%|███▏      | 255/800 [38:53<1:23:08,  9.15s/it]"
     ]
    },
    {
     "name": "stdout",
     "output_type": "stream",
     "text": [
      "[2333.87] Epoch 254, train loss: 1.0395660400390625, val loss: 1.0227595567703247, val accuracy: 0.7\n"
     ]
    },
    {
     "name": "stderr",
     "output_type": "stream",
     "text": [
      " 32%|███▏      | 256/800 [39:03<1:22:59,  9.15s/it]"
     ]
    },
    {
     "name": "stdout",
     "output_type": "stream",
     "text": [
      "[2343.02] Epoch 255, train loss: 1.047210693359375, val loss: 1.022633671760559, val accuracy: 0.7\n"
     ]
    },
    {
     "name": "stderr",
     "output_type": "stream",
     "text": [
      " 32%|███▏      | 257/800 [39:12<1:22:50,  9.15s/it]"
     ]
    },
    {
     "name": "stdout",
     "output_type": "stream",
     "text": [
      "[2352.17] Epoch 256, train loss: 1.0442962646484375, val loss: 1.0245862007141113, val accuracy: 0.7\n"
     ]
    },
    {
     "name": "stderr",
     "output_type": "stream",
     "text": [
      " 32%|███▏      | 258/800 [39:21<1:22:40,  9.15s/it]"
     ]
    },
    {
     "name": "stdout",
     "output_type": "stream",
     "text": [
      "[2361.33] Epoch 257, train loss: 1.04473876953125, val loss: 1.0243957042694092, val accuracy: 0.7\n"
     ]
    },
    {
     "name": "stderr",
     "output_type": "stream",
     "text": [
      " 32%|███▏      | 259/800 [39:30<1:22:31,  9.15s/it]"
     ]
    },
    {
     "name": "stdout",
     "output_type": "stream",
     "text": [
      "[2370.48] Epoch 258, train loss: 1.0467681884765625, val loss: 1.0222481489181519, val accuracy: 0.7\n"
     ]
    },
    {
     "name": "stderr",
     "output_type": "stream",
     "text": [
      " 32%|███▎      | 260/800 [39:39<1:22:22,  9.15s/it]"
     ]
    },
    {
     "name": "stdout",
     "output_type": "stream",
     "text": [
      "[2379.63] Epoch 259, train loss: 1.04864501953125, val loss: 1.0209472179412842, val accuracy: 0.7\n"
     ]
    },
    {
     "name": "stderr",
     "output_type": "stream",
     "text": [
      " 33%|███▎      | 261/800 [39:48<1:22:12,  9.15s/it]"
     ]
    },
    {
     "name": "stdout",
     "output_type": "stream",
     "text": [
      "[2388.78] Epoch 260, train loss: 1.046600341796875, val loss: 1.0207970142364502, val accuracy: 0.7\n"
     ]
    },
    {
     "name": "stderr",
     "output_type": "stream",
     "text": [
      " 33%|███▎      | 262/800 [39:57<1:22:03,  9.15s/it]"
     ]
    },
    {
     "name": "stdout",
     "output_type": "stream",
     "text": [
      "[2397.93] Epoch 261, train loss: 1.0431060791015625, val loss: 1.0213234424591064, val accuracy: 0.7\n"
     ]
    },
    {
     "name": "stderr",
     "output_type": "stream",
     "text": [
      " 33%|███▎      | 263/800 [40:07<1:21:54,  9.15s/it]"
     ]
    },
    {
     "name": "stdout",
     "output_type": "stream",
     "text": [
      "[2407.08] Epoch 262, train loss: 1.04339599609375, val loss: 1.0227844715118408, val accuracy: 0.7\n"
     ]
    },
    {
     "name": "stderr",
     "output_type": "stream",
     "text": [
      " 33%|███▎      | 264/800 [40:16<1:21:45,  9.15s/it]"
     ]
    },
    {
     "name": "stdout",
     "output_type": "stream",
     "text": [
      "[2416.24] Epoch 263, train loss: 1.04248046875, val loss: 1.023453950881958, val accuracy: 0.7\n"
     ]
    },
    {
     "name": "stderr",
     "output_type": "stream",
     "text": [
      " 33%|███▎      | 265/800 [40:25<1:21:36,  9.15s/it]"
     ]
    },
    {
     "name": "stdout",
     "output_type": "stream",
     "text": [
      "[2425.39] Epoch 264, train loss: 1.0439453125, val loss: 1.0240739583969116, val accuracy: 0.7\n"
     ]
    },
    {
     "name": "stderr",
     "output_type": "stream",
     "text": [
      " 33%|███▎      | 266/800 [40:34<1:21:27,  9.15s/it]"
     ]
    },
    {
     "name": "stdout",
     "output_type": "stream",
     "text": [
      "[2434.54] Epoch 265, train loss: 1.0484161376953125, val loss: 1.0241615772247314, val accuracy: 0.7\n"
     ]
    },
    {
     "name": "stderr",
     "output_type": "stream",
     "text": [
      " 33%|███▎      | 267/800 [40:43<1:21:17,  9.15s/it]"
     ]
    },
    {
     "name": "stdout",
     "output_type": "stream",
     "text": [
      "[2443.69] Epoch 266, train loss: 1.04229736328125, val loss: 1.024356722831726, val accuracy: 0.7\n"
     ]
    },
    {
     "name": "stderr",
     "output_type": "stream",
     "text": [
      " 34%|███▎      | 268/800 [40:52<1:21:08,  9.15s/it]"
     ]
    },
    {
     "name": "stdout",
     "output_type": "stream",
     "text": [
      "[2452.84] Epoch 267, train loss: 1.0443878173828125, val loss: 1.0245952606201172, val accuracy: 0.7\n"
     ]
    },
    {
     "name": "stderr",
     "output_type": "stream",
     "text": [
      " 34%|███▎      | 269/800 [41:01<1:20:59,  9.15s/it]"
     ]
    },
    {
     "name": "stdout",
     "output_type": "stream",
     "text": [
      "[2461.99] Epoch 268, train loss: 1.0443115234375, val loss: 1.0248639583587646, val accuracy: 0.7\n"
     ]
    },
    {
     "name": "stderr",
     "output_type": "stream",
     "text": [
      " 34%|███▍      | 270/800 [41:11<1:20:50,  9.15s/it]"
     ]
    },
    {
     "name": "stdout",
     "output_type": "stream",
     "text": [
      "[2471.15] Epoch 269, train loss: 1.0451812744140625, val loss: 1.0238041877746582, val accuracy: 0.7\n"
     ]
    },
    {
     "name": "stderr",
     "output_type": "stream",
     "text": [
      " 34%|███▍      | 271/800 [41:20<1:20:41,  9.15s/it]"
     ]
    },
    {
     "name": "stdout",
     "output_type": "stream",
     "text": [
      "[2480.30] Epoch 270, train loss: 1.043304443359375, val loss: 1.0243767499923706, val accuracy: 0.7\n"
     ]
    },
    {
     "name": "stderr",
     "output_type": "stream",
     "text": [
      " 34%|███▍      | 272/800 [41:29<1:20:32,  9.15s/it]"
     ]
    },
    {
     "name": "stdout",
     "output_type": "stream",
     "text": [
      "[2489.45] Epoch 271, train loss: 1.0464019775390625, val loss: 1.0254572629928589, val accuracy: 0.7\n"
     ]
    },
    {
     "name": "stderr",
     "output_type": "stream",
     "text": [
      " 34%|███▍      | 273/800 [41:38<1:20:23,  9.15s/it]"
     ]
    },
    {
     "name": "stdout",
     "output_type": "stream",
     "text": [
      "[2498.61] Epoch 272, train loss: 1.0447235107421875, val loss: 1.0253324508666992, val accuracy: 0.7\n"
     ]
    },
    {
     "name": "stderr",
     "output_type": "stream",
     "text": [
      " 34%|███▍      | 274/800 [41:47<1:20:14,  9.15s/it]"
     ]
    },
    {
     "name": "stdout",
     "output_type": "stream",
     "text": [
      "[2507.76] Epoch 273, train loss: 1.0440826416015625, val loss: 1.0245352983474731, val accuracy: 0.7\n"
     ]
    },
    {
     "name": "stderr",
     "output_type": "stream",
     "text": [
      " 34%|███▍      | 275/800 [41:56<1:20:05,  9.15s/it]"
     ]
    },
    {
     "name": "stdout",
     "output_type": "stream",
     "text": [
      "[2516.91] Epoch 274, train loss: 1.04168701171875, val loss: 1.023039698600769, val accuracy: 0.7\n"
     ]
    },
    {
     "name": "stderr",
     "output_type": "stream",
     "text": [
      " 34%|███▍      | 276/800 [42:06<1:19:56,  9.15s/it]"
     ]
    },
    {
     "name": "stdout",
     "output_type": "stream",
     "text": [
      "[2526.07] Epoch 275, train loss: 1.0440521240234375, val loss: 1.022586703300476, val accuracy: 0.7\n"
     ]
    },
    {
     "name": "stderr",
     "output_type": "stream",
     "text": [
      " 35%|███▍      | 277/800 [42:15<1:19:47,  9.15s/it]"
     ]
    },
    {
     "name": "stdout",
     "output_type": "stream",
     "text": [
      "[2535.22] Epoch 276, train loss: 1.041534423828125, val loss: 1.0222198963165283, val accuracy: 0.7\n"
     ]
    },
    {
     "name": "stderr",
     "output_type": "stream",
     "text": [
      " 35%|███▍      | 278/800 [42:24<1:19:38,  9.15s/it]"
     ]
    },
    {
     "name": "stdout",
     "output_type": "stream",
     "text": [
      "[2544.37] Epoch 277, train loss: 1.0409393310546875, val loss: 1.0221905708312988, val accuracy: 0.7\n"
     ]
    },
    {
     "name": "stderr",
     "output_type": "stream",
     "text": [
      " 35%|███▍      | 279/800 [42:33<1:19:28,  9.15s/it]"
     ]
    },
    {
     "name": "stdout",
     "output_type": "stream",
     "text": [
      "[2553.53] Epoch 278, train loss: 1.04461669921875, val loss: 1.0225749015808105, val accuracy: 0.7\n"
     ]
    },
    {
     "name": "stderr",
     "output_type": "stream",
     "text": [
      " 35%|███▌      | 280/800 [42:42<1:19:19,  9.15s/it]"
     ]
    },
    {
     "name": "stdout",
     "output_type": "stream",
     "text": [
      "[2562.68] Epoch 279, train loss: 1.043487548828125, val loss: 1.0225565433502197, val accuracy: 0.7\n"
     ]
    },
    {
     "name": "stderr",
     "output_type": "stream",
     "text": [
      " 35%|███▌      | 281/800 [42:51<1:19:10,  9.15s/it]"
     ]
    },
    {
     "name": "stdout",
     "output_type": "stream",
     "text": [
      "[2571.83] Epoch 280, train loss: 1.0428619384765625, val loss: 1.0227208137512207, val accuracy: 0.7\n"
     ]
    },
    {
     "name": "stderr",
     "output_type": "stream",
     "text": [
      " 35%|███▌      | 282/800 [43:00<1:19:01,  9.15s/it]"
     ]
    },
    {
     "name": "stdout",
     "output_type": "stream",
     "text": [
      "[2580.99] Epoch 281, train loss: 1.0439910888671875, val loss: 1.022143006324768, val accuracy: 0.7\n"
     ]
    },
    {
     "name": "stderr",
     "output_type": "stream",
     "text": [
      " 35%|███▌      | 283/800 [43:10<1:18:51,  9.15s/it]"
     ]
    },
    {
     "name": "stdout",
     "output_type": "stream",
     "text": [
      "[2590.14] Epoch 282, train loss: 1.043853759765625, val loss: 1.0230329036712646, val accuracy: 0.7\n"
     ]
    },
    {
     "name": "stderr",
     "output_type": "stream",
     "text": [
      " 36%|███▌      | 284/800 [43:19<1:18:42,  9.15s/it]"
     ]
    },
    {
     "name": "stdout",
     "output_type": "stream",
     "text": [
      "[2599.29] Epoch 283, train loss: 1.0415191650390625, val loss: 1.0232726335525513, val accuracy: 0.7\n"
     ]
    },
    {
     "name": "stderr",
     "output_type": "stream",
     "text": [
      " 36%|███▌      | 285/800 [43:28<1:18:33,  9.15s/it]"
     ]
    },
    {
     "name": "stdout",
     "output_type": "stream",
     "text": [
      "[2608.44] Epoch 284, train loss: 1.0371246337890625, val loss: 1.0212558507919312, val accuracy: 0.7\n"
     ]
    },
    {
     "name": "stderr",
     "output_type": "stream",
     "text": [
      " 36%|███▌      | 286/800 [43:37<1:18:24,  9.15s/it]"
     ]
    },
    {
     "name": "stdout",
     "output_type": "stream",
     "text": [
      "[2617.60] Epoch 285, train loss: 1.04180908203125, val loss: 1.0204038619995117, val accuracy: 0.7\n"
     ]
    },
    {
     "name": "stderr",
     "output_type": "stream",
     "text": [
      " 36%|███▌      | 287/800 [43:46<1:18:15,  9.15s/it]"
     ]
    },
    {
     "name": "stdout",
     "output_type": "stream",
     "text": [
      "[2626.75] Epoch 286, train loss: 1.0403900146484375, val loss: 1.02109694480896, val accuracy: 0.7\n"
     ]
    },
    {
     "name": "stderr",
     "output_type": "stream",
     "text": [
      " 36%|███▌      | 288/800 [43:55<1:18:06,  9.15s/it]"
     ]
    },
    {
     "name": "stdout",
     "output_type": "stream",
     "text": [
      "[2635.91] Epoch 287, train loss: 1.0435791015625, val loss: 1.0224443674087524, val accuracy: 0.7\n"
     ]
    },
    {
     "name": "stderr",
     "output_type": "stream",
     "text": [
      " 36%|███▌      | 289/800 [44:05<1:17:57,  9.15s/it]"
     ]
    },
    {
     "name": "stdout",
     "output_type": "stream",
     "text": [
      "[2645.06] Epoch 288, train loss: 1.037384033203125, val loss: 1.0218570232391357, val accuracy: 0.7\n"
     ]
    },
    {
     "name": "stderr",
     "output_type": "stream",
     "text": [
      " 36%|███▋      | 290/800 [44:14<1:17:48,  9.15s/it]"
     ]
    },
    {
     "name": "stdout",
     "output_type": "stream",
     "text": [
      "[2654.21] Epoch 289, train loss: 1.0378265380859375, val loss: 1.0204098224639893, val accuracy: 0.7\n"
     ]
    },
    {
     "name": "stderr",
     "output_type": "stream",
     "text": [
      " 36%|███▋      | 291/800 [44:23<1:17:39,  9.15s/it]"
     ]
    },
    {
     "name": "stdout",
     "output_type": "stream",
     "text": [
      "[2663.37] Epoch 290, train loss: 1.0419769287109375, val loss: 1.0200072526931763, val accuracy: 0.7\n"
     ]
    },
    {
     "name": "stderr",
     "output_type": "stream",
     "text": [
      " 36%|███▋      | 292/800 [44:32<1:17:30,  9.15s/it]"
     ]
    },
    {
     "name": "stdout",
     "output_type": "stream",
     "text": [
      "[2672.52] Epoch 291, train loss: 1.039642333984375, val loss: 1.020470380783081, val accuracy: 0.7\n"
     ]
    },
    {
     "name": "stderr",
     "output_type": "stream",
     "text": [
      " 37%|███▋      | 293/800 [44:41<1:17:20,  9.15s/it]"
     ]
    },
    {
     "name": "stdout",
     "output_type": "stream",
     "text": [
      "[2681.67] Epoch 292, train loss: 1.0386199951171875, val loss: 1.0205556154251099, val accuracy: 0.7\n"
     ]
    },
    {
     "name": "stderr",
     "output_type": "stream",
     "text": [
      " 37%|███▋      | 294/800 [44:50<1:17:11,  9.15s/it]"
     ]
    },
    {
     "name": "stdout",
     "output_type": "stream",
     "text": [
      "[2690.83] Epoch 293, train loss: 1.0393829345703125, val loss: 1.0199315547943115, val accuracy: 0.7\n"
     ]
    },
    {
     "name": "stderr",
     "output_type": "stream",
     "text": [
      " 37%|███▋      | 295/800 [44:59<1:17:02,  9.15s/it]"
     ]
    },
    {
     "name": "stdout",
     "output_type": "stream",
     "text": [
      "[2699.98] Epoch 294, train loss: 1.042572021484375, val loss: 1.0195063352584839, val accuracy: 0.7\n"
     ]
    },
    {
     "name": "stderr",
     "output_type": "stream",
     "text": [
      " 37%|███▋      | 296/800 [45:09<1:16:53,  9.15s/it]"
     ]
    },
    {
     "name": "stdout",
     "output_type": "stream",
     "text": [
      "[2709.14] Epoch 295, train loss: 1.041656494140625, val loss: 1.0206305980682373, val accuracy: 0.7\n"
     ]
    },
    {
     "name": "stderr",
     "output_type": "stream",
     "text": [
      " 37%|███▋      | 297/800 [45:18<1:16:44,  9.15s/it]"
     ]
    },
    {
     "name": "stdout",
     "output_type": "stream",
     "text": [
      "[2718.29] Epoch 296, train loss: 1.0373992919921875, val loss: 1.0216182470321655, val accuracy: 0.7\n"
     ]
    },
    {
     "name": "stderr",
     "output_type": "stream",
     "text": [
      " 37%|███▋      | 298/800 [45:27<1:16:35,  9.15s/it]"
     ]
    },
    {
     "name": "stdout",
     "output_type": "stream",
     "text": [
      "[2727.44] Epoch 297, train loss: 1.0349884033203125, val loss: 1.0228761434555054, val accuracy: 0.7\n"
     ]
    },
    {
     "name": "stderr",
     "output_type": "stream",
     "text": [
      " 37%|███▋      | 299/800 [45:36<1:16:25,  9.15s/it]"
     ]
    },
    {
     "name": "stdout",
     "output_type": "stream",
     "text": [
      "[2736.60] Epoch 298, train loss: 1.038330078125, val loss: 1.0228300094604492, val accuracy: 0.7\n"
     ]
    },
    {
     "name": "stderr",
     "output_type": "stream",
     "text": [
      " 38%|███▊      | 300/800 [45:45<1:16:16,  9.15s/it]"
     ]
    },
    {
     "name": "stdout",
     "output_type": "stream",
     "text": [
      "[2745.75] Epoch 299, train loss: 1.0400543212890625, val loss: 1.0215445756912231, val accuracy: 0.7\n"
     ]
    },
    {
     "name": "stderr",
     "output_type": "stream",
     "text": [
      " 38%|███▊      | 301/800 [45:54<1:16:07,  9.15s/it]"
     ]
    },
    {
     "name": "stdout",
     "output_type": "stream",
     "text": [
      "[2754.90] Epoch 300, train loss: 1.036346435546875, val loss: 1.0217889547348022, val accuracy: 0.7\n"
     ]
    },
    {
     "name": "stderr",
     "output_type": "stream",
     "text": [
      " 38%|███▊      | 302/800 [46:04<1:15:58,  9.15s/it]"
     ]
    },
    {
     "name": "stdout",
     "output_type": "stream",
     "text": [
      "[2764.06] Epoch 301, train loss: 1.0428314208984375, val loss: 1.0221449136734009, val accuracy: 0.7\n"
     ]
    },
    {
     "name": "stderr",
     "output_type": "stream",
     "text": [
      " 38%|███▊      | 303/800 [46:13<1:15:49,  9.15s/it]"
     ]
    },
    {
     "name": "stdout",
     "output_type": "stream",
     "text": [
      "[2773.21] Epoch 302, train loss: 1.0385894775390625, val loss: 1.02145254611969, val accuracy: 0.7\n"
     ]
    },
    {
     "name": "stderr",
     "output_type": "stream",
     "text": [
      " 38%|███▊      | 304/800 [46:22<1:15:39,  9.15s/it]"
     ]
    },
    {
     "name": "stdout",
     "output_type": "stream",
     "text": [
      "[2782.36] Epoch 303, train loss: 1.04107666015625, val loss: 1.0216779708862305, val accuracy: 0.7\n"
     ]
    },
    {
     "name": "stderr",
     "output_type": "stream",
     "text": [
      " 38%|███▊      | 305/800 [46:31<1:15:30,  9.15s/it]"
     ]
    },
    {
     "name": "stdout",
     "output_type": "stream",
     "text": [
      "[2791.52] Epoch 304, train loss: 1.036376953125, val loss: 1.0232112407684326, val accuracy: 0.7\n"
     ]
    },
    {
     "name": "stderr",
     "output_type": "stream",
     "text": [
      " 38%|███▊      | 306/800 [46:40<1:15:21,  9.15s/it]"
     ]
    },
    {
     "name": "stdout",
     "output_type": "stream",
     "text": [
      "[2800.67] Epoch 305, train loss: 1.038848876953125, val loss: 1.0233583450317383, val accuracy: 0.7\n"
     ]
    },
    {
     "name": "stderr",
     "output_type": "stream",
     "text": [
      " 38%|███▊      | 307/800 [46:49<1:15:12,  9.15s/it]"
     ]
    },
    {
     "name": "stdout",
     "output_type": "stream",
     "text": [
      "[2809.82] Epoch 306, train loss: 1.0307159423828125, val loss: 1.0238184928894043, val accuracy: 0.7\n"
     ]
    },
    {
     "name": "stderr",
     "output_type": "stream",
     "text": [
      " 38%|███▊      | 308/800 [46:58<1:15:03,  9.15s/it]"
     ]
    },
    {
     "name": "stdout",
     "output_type": "stream",
     "text": [
      "[2818.98] Epoch 307, train loss: 1.0394744873046875, val loss: 1.0227277278900146, val accuracy: 0.7\n"
     ]
    },
    {
     "name": "stderr",
     "output_type": "stream",
     "text": [
      " 39%|███▊      | 309/800 [47:08<1:14:54,  9.15s/it]"
     ]
    },
    {
     "name": "stdout",
     "output_type": "stream",
     "text": [
      "[2828.13] Epoch 308, train loss: 1.0411376953125, val loss: 1.0212924480438232, val accuracy: 0.7\n"
     ]
    },
    {
     "name": "stderr",
     "output_type": "stream",
     "text": [
      " 39%|███▉      | 310/800 [47:17<1:14:45,  9.15s/it]"
     ]
    },
    {
     "name": "stdout",
     "output_type": "stream",
     "text": [
      "[2837.28] Epoch 309, train loss: 1.03839111328125, val loss: 1.0199544429779053, val accuracy: 0.7\n"
     ]
    },
    {
     "name": "stderr",
     "output_type": "stream",
     "text": [
      " 39%|███▉      | 311/800 [47:26<1:14:35,  9.15s/it]"
     ]
    },
    {
     "name": "stdout",
     "output_type": "stream",
     "text": [
      "[2846.43] Epoch 310, train loss: 1.0348968505859375, val loss: 1.0200568437576294, val accuracy: 0.7\n"
     ]
    },
    {
     "name": "stderr",
     "output_type": "stream",
     "text": [
      " 39%|███▉      | 312/800 [47:35<1:14:26,  9.15s/it]"
     ]
    },
    {
     "name": "stdout",
     "output_type": "stream",
     "text": [
      "[2855.59] Epoch 311, train loss: 1.0405426025390625, val loss: 1.0198585987091064, val accuracy: 0.7\n"
     ]
    },
    {
     "name": "stderr",
     "output_type": "stream",
     "text": [
      " 39%|███▉      | 313/800 [47:44<1:14:17,  9.15s/it]"
     ]
    },
    {
     "name": "stdout",
     "output_type": "stream",
     "text": [
      "[2864.74] Epoch 312, train loss: 1.0332794189453125, val loss: 1.0202653408050537, val accuracy: 0.7\n"
     ]
    },
    {
     "name": "stderr",
     "output_type": "stream",
     "text": [
      " 39%|███▉      | 314/800 [47:53<1:14:08,  9.15s/it]"
     ]
    },
    {
     "name": "stdout",
     "output_type": "stream",
     "text": [
      "[2873.89] Epoch 313, train loss: 1.03094482421875, val loss: 1.0215699672698975, val accuracy: 0.7\n"
     ]
    },
    {
     "name": "stderr",
     "output_type": "stream",
     "text": [
      " 39%|███▉      | 315/800 [48:03<1:13:58,  9.15s/it]"
     ]
    },
    {
     "name": "stdout",
     "output_type": "stream",
     "text": [
      "[2883.04] Epoch 314, train loss: 1.0354766845703125, val loss: 1.0217365026474, val accuracy: 0.7\n"
     ]
    },
    {
     "name": "stderr",
     "output_type": "stream",
     "text": [
      " 40%|███▉      | 316/800 [48:12<1:13:49,  9.15s/it]"
     ]
    },
    {
     "name": "stdout",
     "output_type": "stream",
     "text": [
      "[2892.20] Epoch 315, train loss: 1.0350189208984375, val loss: 1.0204391479492188, val accuracy: 0.7\n"
     ]
    },
    {
     "name": "stderr",
     "output_type": "stream",
     "text": [
      " 40%|███▉      | 317/800 [48:21<1:13:41,  9.15s/it]"
     ]
    },
    {
     "name": "stdout",
     "output_type": "stream",
     "text": [
      "[2901.35] Epoch 316, train loss: 1.037200927734375, val loss: 1.0192458629608154, val accuracy: 0.7\n"
     ]
    },
    {
     "name": "stderr",
     "output_type": "stream",
     "text": [
      " 40%|███▉      | 318/800 [48:30<1:13:31,  9.15s/it]"
     ]
    },
    {
     "name": "stdout",
     "output_type": "stream",
     "text": [
      "[2910.51] Epoch 317, train loss: 1.0312652587890625, val loss: 1.0192654132843018, val accuracy: 0.7\n"
     ]
    },
    {
     "name": "stderr",
     "output_type": "stream",
     "text": [
      " 40%|███▉      | 319/800 [48:39<1:13:22,  9.15s/it]"
     ]
    },
    {
     "name": "stdout",
     "output_type": "stream",
     "text": [
      "[2919.66] Epoch 318, train loss: 1.0276947021484375, val loss: 1.0191457271575928, val accuracy: 0.7\n"
     ]
    },
    {
     "name": "stderr",
     "output_type": "stream",
     "text": [
      " 40%|████      | 320/800 [48:48<1:13:13,  9.15s/it]"
     ]
    },
    {
     "name": "stdout",
     "output_type": "stream",
     "text": [
      "[2928.81] Epoch 319, train loss: 1.0363616943359375, val loss: 1.0186337232589722, val accuracy: 0.7\n"
     ]
    },
    {
     "name": "stderr",
     "output_type": "stream",
     "text": [
      " 40%|████      | 321/800 [48:57<1:13:03,  9.15s/it]"
     ]
    },
    {
     "name": "stdout",
     "output_type": "stream",
     "text": [
      "[2937.96] Epoch 320, train loss: 1.0418243408203125, val loss: 1.0192205905914307, val accuracy: 0.7\n"
     ]
    },
    {
     "name": "stderr",
     "output_type": "stream",
     "text": [
      " 40%|████      | 322/800 [49:07<1:12:54,  9.15s/it]"
     ]
    },
    {
     "name": "stdout",
     "output_type": "stream",
     "text": [
      "[2947.11] Epoch 321, train loss: 1.030731201171875, val loss: 1.020056128501892, val accuracy: 0.7\n"
     ]
    },
    {
     "name": "stderr",
     "output_type": "stream",
     "text": [
      " 40%|████      | 323/800 [49:16<1:12:45,  9.15s/it]"
     ]
    },
    {
     "name": "stdout",
     "output_type": "stream",
     "text": [
      "[2956.26] Epoch 322, train loss: 1.0336761474609375, val loss: 1.0199840068817139, val accuracy: 0.7\n"
     ]
    },
    {
     "name": "stderr",
     "output_type": "stream",
     "text": [
      " 40%|████      | 324/800 [49:25<1:12:36,  9.15s/it]"
     ]
    },
    {
     "name": "stdout",
     "output_type": "stream",
     "text": [
      "[2965.42] Epoch 323, train loss: 1.0361175537109375, val loss: 1.0196845531463623, val accuracy: 0.7\n"
     ]
    },
    {
     "name": "stderr",
     "output_type": "stream",
     "text": [
      " 41%|████      | 325/800 [49:34<1:12:27,  9.15s/it]"
     ]
    },
    {
     "name": "stdout",
     "output_type": "stream",
     "text": [
      "[2974.57] Epoch 324, train loss: 1.02752685546875, val loss: 1.020090937614441, val accuracy: 0.7\n"
     ]
    },
    {
     "name": "stderr",
     "output_type": "stream",
     "text": [
      " 41%|████      | 326/800 [49:43<1:12:18,  9.15s/it]"
     ]
    },
    {
     "name": "stdout",
     "output_type": "stream",
     "text": [
      "[2983.72] Epoch 325, train loss: 1.0324554443359375, val loss: 1.0198075771331787, val accuracy: 0.7\n"
     ]
    },
    {
     "name": "stderr",
     "output_type": "stream",
     "text": [
      " 41%|████      | 327/800 [49:52<1:12:09,  9.15s/it]"
     ]
    },
    {
     "name": "stdout",
     "output_type": "stream",
     "text": [
      "[2992.87] Epoch 326, train loss: 1.03240966796875, val loss: 1.0204238891601562, val accuracy: 0.7\n"
     ]
    },
    {
     "name": "stderr",
     "output_type": "stream",
     "text": [
      " 41%|████      | 328/800 [50:02<1:11:59,  9.15s/it]"
     ]
    },
    {
     "name": "stdout",
     "output_type": "stream",
     "text": [
      "[3002.03] Epoch 327, train loss: 1.0322265625, val loss: 1.0211124420166016, val accuracy: 0.7\n"
     ]
    },
    {
     "name": "stderr",
     "output_type": "stream",
     "text": [
      " 41%|████      | 329/800 [50:11<1:11:50,  9.15s/it]"
     ]
    },
    {
     "name": "stdout",
     "output_type": "stream",
     "text": [
      "[3011.18] Epoch 328, train loss: 1.033203125, val loss: 1.0215137004852295, val accuracy: 0.7\n"
     ]
    },
    {
     "name": "stderr",
     "output_type": "stream",
     "text": [
      " 41%|████▏     | 330/800 [50:20<1:11:41,  9.15s/it]"
     ]
    },
    {
     "name": "stdout",
     "output_type": "stream",
     "text": [
      "[3020.33] Epoch 329, train loss: 1.0323028564453125, val loss: 1.0212211608886719, val accuracy: 0.7\n"
     ]
    },
    {
     "name": "stderr",
     "output_type": "stream",
     "text": [
      " 41%|████▏     | 331/800 [50:29<1:11:32,  9.15s/it]"
     ]
    },
    {
     "name": "stdout",
     "output_type": "stream",
     "text": [
      "[3029.49] Epoch 330, train loss: 1.0308990478515625, val loss: 1.0204814672470093, val accuracy: 0.7\n"
     ]
    },
    {
     "name": "stderr",
     "output_type": "stream",
     "text": [
      " 42%|████▏     | 332/800 [50:38<1:11:23,  9.15s/it]"
     ]
    },
    {
     "name": "stdout",
     "output_type": "stream",
     "text": [
      "[3038.64] Epoch 331, train loss: 1.0285186767578125, val loss: 1.0188007354736328, val accuracy: 0.7\n"
     ]
    },
    {
     "name": "stderr",
     "output_type": "stream",
     "text": [
      " 42%|████▏     | 333/800 [50:47<1:11:14,  9.15s/it]"
     ]
    },
    {
     "name": "stdout",
     "output_type": "stream",
     "text": [
      "[3047.79] Epoch 332, train loss: 1.0341796875, val loss: 1.0180284976959229, val accuracy: 0.7\n"
     ]
    },
    {
     "name": "stderr",
     "output_type": "stream",
     "text": [
      " 42%|████▏     | 334/800 [50:56<1:11:05,  9.15s/it]"
     ]
    },
    {
     "name": "stdout",
     "output_type": "stream",
     "text": [
      "[3056.94] Epoch 333, train loss: 1.02777099609375, val loss: 1.0174105167388916, val accuracy: 0.7\n"
     ]
    },
    {
     "name": "stderr",
     "output_type": "stream",
     "text": [
      " 42%|████▏     | 335/800 [51:06<1:10:56,  9.15s/it]"
     ]
    },
    {
     "name": "stdout",
     "output_type": "stream",
     "text": [
      "[3066.10] Epoch 334, train loss: 1.0298004150390625, val loss: 1.0169172286987305, val accuracy: 0.7\n"
     ]
    },
    {
     "name": "stderr",
     "output_type": "stream",
     "text": [
      " 42%|████▏     | 336/800 [51:15<1:10:47,  9.15s/it]"
     ]
    },
    {
     "name": "stdout",
     "output_type": "stream",
     "text": [
      "[3075.25] Epoch 335, train loss: 1.0343475341796875, val loss: 1.0175305604934692, val accuracy: 0.7\n"
     ]
    },
    {
     "name": "stderr",
     "output_type": "stream",
     "text": [
      " 42%|████▏     | 337/800 [51:24<1:10:38,  9.15s/it]"
     ]
    },
    {
     "name": "stdout",
     "output_type": "stream",
     "text": [
      "[3084.41] Epoch 336, train loss: 1.0254669189453125, val loss: 1.0175460577011108, val accuracy: 0.7\n"
     ]
    },
    {
     "name": "stderr",
     "output_type": "stream",
     "text": [
      " 42%|████▏     | 338/800 [51:33<1:10:29,  9.15s/it]"
     ]
    },
    {
     "name": "stdout",
     "output_type": "stream",
     "text": [
      "[3093.56] Epoch 337, train loss: 1.022796630859375, val loss: 1.017651081085205, val accuracy: 0.7\n"
     ]
    },
    {
     "name": "stderr",
     "output_type": "stream",
     "text": [
      " 42%|████▏     | 339/800 [51:42<1:10:19,  9.15s/it]"
     ]
    },
    {
     "name": "stdout",
     "output_type": "stream",
     "text": [
      "[3102.71] Epoch 338, train loss: 1.0338592529296875, val loss: 1.0175262689590454, val accuracy: 0.7\n"
     ]
    },
    {
     "name": "stderr",
     "output_type": "stream",
     "text": [
      " 42%|████▎     | 340/800 [51:51<1:10:10,  9.15s/it]"
     ]
    },
    {
     "name": "stdout",
     "output_type": "stream",
     "text": [
      "[3111.87] Epoch 339, train loss: 1.0288238525390625, val loss: 1.018005609512329, val accuracy: 0.7\n"
     ]
    },
    {
     "name": "stderr",
     "output_type": "stream",
     "text": [
      " 43%|████▎     | 341/800 [52:01<1:10:01,  9.15s/it]"
     ]
    },
    {
     "name": "stdout",
     "output_type": "stream",
     "text": [
      "[3121.02] Epoch 340, train loss: 1.0229644775390625, val loss: 1.0192415714263916, val accuracy: 0.7\n"
     ]
    },
    {
     "name": "stderr",
     "output_type": "stream",
     "text": [
      " 43%|████▎     | 342/800 [52:10<1:09:52,  9.15s/it]"
     ]
    },
    {
     "name": "stdout",
     "output_type": "stream",
     "text": [
      "[3130.18] Epoch 341, train loss: 1.0306854248046875, val loss: 1.0196335315704346, val accuracy: 0.7\n"
     ]
    },
    {
     "name": "stderr",
     "output_type": "stream",
     "text": [
      " 43%|████▎     | 343/800 [52:19<1:09:42,  9.15s/it]"
     ]
    },
    {
     "name": "stdout",
     "output_type": "stream",
     "text": [
      "[3139.33] Epoch 342, train loss: 1.03277587890625, val loss: 1.020716905593872, val accuracy: 0.7\n"
     ]
    },
    {
     "name": "stderr",
     "output_type": "stream",
     "text": [
      " 43%|████▎     | 344/800 [52:28<1:09:33,  9.15s/it]"
     ]
    },
    {
     "name": "stdout",
     "output_type": "stream",
     "text": [
      "[3148.48] Epoch 343, train loss: 1.0301971435546875, val loss: 1.0202289819717407, val accuracy: 0.7\n"
     ]
    },
    {
     "name": "stderr",
     "output_type": "stream",
     "text": [
      " 43%|████▎     | 345/800 [52:37<1:09:24,  9.15s/it]"
     ]
    },
    {
     "name": "stdout",
     "output_type": "stream",
     "text": [
      "[3157.64] Epoch 344, train loss: 1.0334625244140625, val loss: 1.019881248474121, val accuracy: 0.7\n"
     ]
    },
    {
     "name": "stderr",
     "output_type": "stream",
     "text": [
      " 43%|████▎     | 346/800 [52:46<1:09:15,  9.15s/it]"
     ]
    },
    {
     "name": "stdout",
     "output_type": "stream",
     "text": [
      "[3166.79] Epoch 345, train loss: 1.0263671875, val loss: 1.0191603899002075, val accuracy: 0.7\n"
     ]
    },
    {
     "name": "stderr",
     "output_type": "stream",
     "text": [
      " 43%|████▎     | 347/800 [52:55<1:09:06,  9.15s/it]"
     ]
    },
    {
     "name": "stdout",
     "output_type": "stream",
     "text": [
      "[3175.94] Epoch 346, train loss: 1.024078369140625, val loss: 1.0181941986083984, val accuracy: 0.7\n"
     ]
    },
    {
     "name": "stderr",
     "output_type": "stream",
     "text": [
      " 44%|████▎     | 348/800 [53:05<1:08:57,  9.15s/it]"
     ]
    },
    {
     "name": "stdout",
     "output_type": "stream",
     "text": [
      "[3185.10] Epoch 347, train loss: 1.0267333984375, val loss: 1.0172765254974365, val accuracy: 0.7\n"
     ]
    },
    {
     "name": "stderr",
     "output_type": "stream",
     "text": [
      " 44%|████▎     | 349/800 [53:14<1:08:48,  9.15s/it]"
     ]
    },
    {
     "name": "stdout",
     "output_type": "stream",
     "text": [
      "[3194.25] Epoch 348, train loss: 1.033905029296875, val loss: 1.0167028903961182, val accuracy: 0.7\n"
     ]
    },
    {
     "name": "stderr",
     "output_type": "stream",
     "text": [
      " 44%|████▍     | 350/800 [53:23<1:08:39,  9.15s/it]"
     ]
    },
    {
     "name": "stdout",
     "output_type": "stream",
     "text": [
      "[3203.40] Epoch 349, train loss: 1.0337677001953125, val loss: 1.016939401626587, val accuracy: 0.7\n"
     ]
    },
    {
     "name": "stderr",
     "output_type": "stream",
     "text": [
      " 44%|████▍     | 351/800 [53:32<1:08:30,  9.15s/it]"
     ]
    },
    {
     "name": "stdout",
     "output_type": "stream",
     "text": [
      "[3212.56] Epoch 350, train loss: 1.022796630859375, val loss: 1.016517996788025, val accuracy: 0.7\n"
     ]
    },
    {
     "name": "stderr",
     "output_type": "stream",
     "text": [
      " 44%|████▍     | 352/800 [53:41<1:08:20,  9.15s/it]"
     ]
    },
    {
     "name": "stdout",
     "output_type": "stream",
     "text": [
      "[3221.71] Epoch 351, train loss: 1.02227783203125, val loss: 1.0157828330993652, val accuracy: 0.7\n"
     ]
    },
    {
     "name": "stderr",
     "output_type": "stream",
     "text": [
      " 44%|████▍     | 353/800 [53:50<1:08:11,  9.15s/it]"
     ]
    },
    {
     "name": "stdout",
     "output_type": "stream",
     "text": [
      "[3230.87] Epoch 352, train loss: 1.0278472900390625, val loss: 1.0149290561676025, val accuracy: 0.7\n"
     ]
    },
    {
     "name": "stderr",
     "output_type": "stream",
     "text": [
      " 44%|████▍     | 354/800 [54:00<1:08:02,  9.15s/it]"
     ]
    },
    {
     "name": "stdout",
     "output_type": "stream",
     "text": [
      "[3240.02] Epoch 353, train loss: 1.0281829833984375, val loss: 1.0160585641860962, val accuracy: 0.7\n"
     ]
    },
    {
     "name": "stderr",
     "output_type": "stream",
     "text": [
      " 44%|████▍     | 355/800 [54:09<1:07:53,  9.15s/it]"
     ]
    },
    {
     "name": "stdout",
     "output_type": "stream",
     "text": [
      "[3249.17] Epoch 354, train loss: 1.0341644287109375, val loss: 1.0180187225341797, val accuracy: 0.7\n"
     ]
    },
    {
     "name": "stderr",
     "output_type": "stream",
     "text": [
      " 44%|████▍     | 356/800 [54:18<1:07:44,  9.15s/it]"
     ]
    },
    {
     "name": "stdout",
     "output_type": "stream",
     "text": [
      "[3258.33] Epoch 355, train loss: 1.0298309326171875, val loss: 1.0195938348770142, val accuracy: 0.7\n"
     ]
    },
    {
     "name": "stderr",
     "output_type": "stream",
     "text": [
      " 45%|████▍     | 357/800 [54:27<1:07:34,  9.15s/it]"
     ]
    },
    {
     "name": "stdout",
     "output_type": "stream",
     "text": [
      "[3267.48] Epoch 356, train loss: 1.0311126708984375, val loss: 1.020495891571045, val accuracy: 0.7\n"
     ]
    },
    {
     "name": "stderr",
     "output_type": "stream",
     "text": [
      " 45%|████▍     | 358/800 [54:36<1:07:25,  9.15s/it]"
     ]
    },
    {
     "name": "stdout",
     "output_type": "stream",
     "text": [
      "[3276.63] Epoch 357, train loss: 1.02386474609375, val loss: 1.019748568534851, val accuracy: 0.7\n"
     ]
    },
    {
     "name": "stderr",
     "output_type": "stream",
     "text": [
      " 45%|████▍     | 359/800 [54:45<1:07:16,  9.15s/it]"
     ]
    },
    {
     "name": "stdout",
     "output_type": "stream",
     "text": [
      "[3285.78] Epoch 358, train loss: 1.02825927734375, val loss: 1.018872618675232, val accuracy: 0.7\n"
     ]
    },
    {
     "name": "stderr",
     "output_type": "stream",
     "text": [
      " 45%|████▌     | 360/800 [54:54<1:07:07,  9.15s/it]"
     ]
    },
    {
     "name": "stdout",
     "output_type": "stream",
     "text": [
      "[3294.94] Epoch 359, train loss: 1.0279998779296875, val loss: 1.017637014389038, val accuracy: 0.7\n"
     ]
    },
    {
     "name": "stderr",
     "output_type": "stream",
     "text": [
      " 45%|████▌     | 361/800 [55:04<1:06:58,  9.15s/it]"
     ]
    },
    {
     "name": "stdout",
     "output_type": "stream",
     "text": [
      "[3304.09] Epoch 360, train loss: 1.0283355712890625, val loss: 1.0164096355438232, val accuracy: 0.7\n"
     ]
    },
    {
     "name": "stderr",
     "output_type": "stream",
     "text": [
      " 45%|████▌     | 362/800 [55:13<1:06:48,  9.15s/it]"
     ]
    },
    {
     "name": "stdout",
     "output_type": "stream",
     "text": [
      "[3313.24] Epoch 361, train loss: 1.0241851806640625, val loss: 1.0169315338134766, val accuracy: 0.7\n"
     ]
    },
    {
     "name": "stderr",
     "output_type": "stream",
     "text": [
      " 45%|████▌     | 363/800 [55:22<1:06:39,  9.15s/it]"
     ]
    },
    {
     "name": "stdout",
     "output_type": "stream",
     "text": [
      "[3322.40] Epoch 362, train loss: 1.0310516357421875, val loss: 1.0166914463043213, val accuracy: 0.7\n"
     ]
    },
    {
     "name": "stderr",
     "output_type": "stream",
     "text": [
      " 46%|████▌     | 364/800 [55:31<1:06:30,  9.15s/it]"
     ]
    },
    {
     "name": "stdout",
     "output_type": "stream",
     "text": [
      "[3331.55] Epoch 363, train loss: 1.0259246826171875, val loss: 1.0169962644577026, val accuracy: 0.7\n"
     ]
    },
    {
     "name": "stderr",
     "output_type": "stream",
     "text": [
      " 46%|████▌     | 365/800 [55:40<1:06:21,  9.15s/it]"
     ]
    },
    {
     "name": "stdout",
     "output_type": "stream",
     "text": [
      "[3340.70] Epoch 364, train loss: 1.0326385498046875, val loss: 1.017892837524414, val accuracy: 0.7\n"
     ]
    },
    {
     "name": "stderr",
     "output_type": "stream",
     "text": [
      " 46%|████▌     | 366/800 [55:49<1:06:12,  9.15s/it]"
     ]
    },
    {
     "name": "stdout",
     "output_type": "stream",
     "text": [
      "[3349.85] Epoch 365, train loss: 1.025726318359375, val loss: 1.0184935331344604, val accuracy: 0.7\n"
     ]
    },
    {
     "name": "stderr",
     "output_type": "stream",
     "text": [
      " 46%|████▌     | 367/800 [55:59<1:06:03,  9.15s/it]"
     ]
    },
    {
     "name": "stdout",
     "output_type": "stream",
     "text": [
      "[3359.01] Epoch 366, train loss: 1.0288543701171875, val loss: 1.0170735120773315, val accuracy: 0.7\n"
     ]
    },
    {
     "name": "stderr",
     "output_type": "stream",
     "text": [
      " 46%|████▌     | 368/800 [56:08<1:05:54,  9.15s/it]"
     ]
    },
    {
     "name": "stdout",
     "output_type": "stream",
     "text": [
      "[3368.16] Epoch 367, train loss: 1.0250244140625, val loss: 1.0160715579986572, val accuracy: 0.7\n"
     ]
    },
    {
     "name": "stderr",
     "output_type": "stream",
     "text": [
      " 46%|████▌     | 369/800 [56:17<1:05:44,  9.15s/it]"
     ]
    },
    {
     "name": "stdout",
     "output_type": "stream",
     "text": [
      "[3377.31] Epoch 368, train loss: 1.027557373046875, val loss: 1.0156720876693726, val accuracy: 0.7\n"
     ]
    },
    {
     "name": "stderr",
     "output_type": "stream",
     "text": [
      " 46%|████▋     | 370/800 [56:26<1:05:35,  9.15s/it]"
     ]
    },
    {
     "name": "stdout",
     "output_type": "stream",
     "text": [
      "[3386.47] Epoch 369, train loss: 1.0343780517578125, val loss: 1.0156441926956177, val accuracy: 0.7\n"
     ]
    },
    {
     "name": "stderr",
     "output_type": "stream",
     "text": [
      " 46%|████▋     | 371/800 [56:35<1:05:26,  9.15s/it]"
     ]
    },
    {
     "name": "stdout",
     "output_type": "stream",
     "text": [
      "[3395.62] Epoch 370, train loss: 1.027923583984375, val loss: 1.0134007930755615, val accuracy: 0.7\n"
     ]
    },
    {
     "name": "stderr",
     "output_type": "stream",
     "text": [
      " 46%|████▋     | 372/800 [56:44<1:05:17,  9.15s/it]"
     ]
    },
    {
     "name": "stdout",
     "output_type": "stream",
     "text": [
      "[3404.77] Epoch 371, train loss: 1.0256195068359375, val loss: 1.0127975940704346, val accuracy: 0.7\n"
     ]
    },
    {
     "name": "stderr",
     "output_type": "stream",
     "text": [
      " 47%|████▋     | 373/800 [56:53<1:05:08,  9.15s/it]"
     ]
    },
    {
     "name": "stdout",
     "output_type": "stream",
     "text": [
      "[3413.93] Epoch 372, train loss: 1.025299072265625, val loss: 1.0135891437530518, val accuracy: 0.7\n"
     ]
    },
    {
     "name": "stderr",
     "output_type": "stream",
     "text": [
      " 47%|████▋     | 374/800 [57:03<1:04:59,  9.15s/it]"
     ]
    },
    {
     "name": "stdout",
     "output_type": "stream",
     "text": [
      "[3423.08] Epoch 373, train loss: 1.028717041015625, val loss: 1.0146167278289795, val accuracy: 0.7\n"
     ]
    },
    {
     "name": "stderr",
     "output_type": "stream",
     "text": [
      " 47%|████▋     | 375/800 [57:12<1:04:50,  9.15s/it]"
     ]
    },
    {
     "name": "stdout",
     "output_type": "stream",
     "text": [
      "[3432.24] Epoch 374, train loss: 1.0251617431640625, val loss: 1.015203833580017, val accuracy: 0.7\n"
     ]
    },
    {
     "name": "stderr",
     "output_type": "stream",
     "text": [
      " 47%|████▋     | 376/800 [57:21<1:04:41,  9.15s/it]"
     ]
    },
    {
     "name": "stdout",
     "output_type": "stream",
     "text": [
      "[3441.39] Epoch 375, train loss: 1.021942138671875, val loss: 1.0148347616195679, val accuracy: 0.7\n"
     ]
    },
    {
     "name": "stderr",
     "output_type": "stream",
     "text": [
      " 47%|████▋     | 377/800 [57:30<1:04:32,  9.15s/it]"
     ]
    },
    {
     "name": "stdout",
     "output_type": "stream",
     "text": [
      "[3450.54] Epoch 376, train loss: 1.0211944580078125, val loss: 1.014360785484314, val accuracy: 0.7\n"
     ]
    },
    {
     "name": "stderr",
     "output_type": "stream",
     "text": [
      " 47%|████▋     | 378/800 [57:39<1:04:23,  9.15s/it]"
     ]
    },
    {
     "name": "stdout",
     "output_type": "stream",
     "text": [
      "[3459.70] Epoch 377, train loss: 1.030731201171875, val loss: 1.0148532390594482, val accuracy: 0.7\n"
     ]
    },
    {
     "name": "stderr",
     "output_type": "stream",
     "text": [
      " 47%|████▋     | 379/800 [57:48<1:04:13,  9.15s/it]"
     ]
    },
    {
     "name": "stdout",
     "output_type": "stream",
     "text": [
      "[3468.85] Epoch 378, train loss: 1.021270751953125, val loss: 1.0147947072982788, val accuracy: 0.7\n"
     ]
    },
    {
     "name": "stderr",
     "output_type": "stream",
     "text": [
      " 48%|████▊     | 380/800 [57:58<1:04:04,  9.15s/it]"
     ]
    },
    {
     "name": "stdout",
     "output_type": "stream",
     "text": [
      "[3478.01] Epoch 379, train loss: 1.0247650146484375, val loss: 1.015350341796875, val accuracy: 0.7\n"
     ]
    },
    {
     "name": "stderr",
     "output_type": "stream",
     "text": [
      " 48%|████▊     | 381/800 [58:07<1:03:55,  9.15s/it]"
     ]
    },
    {
     "name": "stdout",
     "output_type": "stream",
     "text": [
      "[3487.16] Epoch 380, train loss: 1.0294952392578125, val loss: 1.0166584253311157, val accuracy: 0.7\n"
     ]
    },
    {
     "name": "stderr",
     "output_type": "stream",
     "text": [
      " 48%|████▊     | 382/800 [58:16<1:03:45,  9.15s/it]"
     ]
    },
    {
     "name": "stdout",
     "output_type": "stream",
     "text": [
      "[3496.31] Epoch 381, train loss: 1.027252197265625, val loss: 1.0173628330230713, val accuracy: 0.7\n"
     ]
    },
    {
     "name": "stderr",
     "output_type": "stream",
     "text": [
      " 48%|████▊     | 383/800 [58:25<1:03:36,  9.15s/it]"
     ]
    },
    {
     "name": "stdout",
     "output_type": "stream",
     "text": [
      "[3505.46] Epoch 382, train loss: 1.0301361083984375, val loss: 1.0166776180267334, val accuracy: 0.7\n"
     ]
    },
    {
     "name": "stderr",
     "output_type": "stream",
     "text": [
      " 48%|████▊     | 384/800 [58:34<1:03:27,  9.15s/it]"
     ]
    },
    {
     "name": "stdout",
     "output_type": "stream",
     "text": [
      "[3514.62] Epoch 383, train loss: 1.0128173828125, val loss: 1.0152488946914673, val accuracy: 0.7\n"
     ]
    },
    {
     "name": "stderr",
     "output_type": "stream",
     "text": [
      " 48%|████▊     | 385/800 [58:43<1:03:18,  9.15s/it]"
     ]
    },
    {
     "name": "stdout",
     "output_type": "stream",
     "text": [
      "[3523.77] Epoch 384, train loss: 1.028228759765625, val loss: 1.015939474105835, val accuracy: 0.7\n"
     ]
    },
    {
     "name": "stderr",
     "output_type": "stream",
     "text": [
      " 48%|████▊     | 386/800 [58:52<1:03:09,  9.15s/it]"
     ]
    },
    {
     "name": "stdout",
     "output_type": "stream",
     "text": [
      "[3532.92] Epoch 385, train loss: 1.01947021484375, val loss: 1.0162734985351562, val accuracy: 0.7\n"
     ]
    },
    {
     "name": "stderr",
     "output_type": "stream",
     "text": [
      " 48%|████▊     | 387/800 [59:02<1:03:00,  9.15s/it]"
     ]
    },
    {
     "name": "stdout",
     "output_type": "stream",
     "text": [
      "[3542.08] Epoch 386, train loss: 1.027252197265625, val loss: 1.0159350633621216, val accuracy: 0.7\n"
     ]
    },
    {
     "name": "stderr",
     "output_type": "stream",
     "text": [
      " 48%|████▊     | 388/800 [59:11<1:02:51,  9.15s/it]"
     ]
    },
    {
     "name": "stdout",
     "output_type": "stream",
     "text": [
      "[3551.23] Epoch 387, train loss: 1.0242156982421875, val loss: 1.014747977256775, val accuracy: 0.7\n"
     ]
    },
    {
     "name": "stderr",
     "output_type": "stream",
     "text": [
      " 49%|████▊     | 389/800 [59:20<1:02:42,  9.15s/it]"
     ]
    },
    {
     "name": "stdout",
     "output_type": "stream",
     "text": [
      "[3560.39] Epoch 388, train loss: 1.0346832275390625, val loss: 1.0138250589370728, val accuracy: 0.7\n"
     ]
    },
    {
     "name": "stderr",
     "output_type": "stream",
     "text": [
      " 49%|████▉     | 390/800 [59:29<1:02:33,  9.15s/it]"
     ]
    },
    {
     "name": "stdout",
     "output_type": "stream",
     "text": [
      "[3569.54] Epoch 389, train loss: 1.022064208984375, val loss: 1.0137388706207275, val accuracy: 0.7\n"
     ]
    },
    {
     "name": "stderr",
     "output_type": "stream",
     "text": [
      " 49%|████▉     | 391/800 [59:38<1:02:23,  9.15s/it]"
     ]
    },
    {
     "name": "stdout",
     "output_type": "stream",
     "text": [
      "[3578.70] Epoch 390, train loss: 1.02227783203125, val loss: 1.013951063156128, val accuracy: 0.7\n"
     ]
    },
    {
     "name": "stderr",
     "output_type": "stream",
     "text": [
      " 49%|████▉     | 392/800 [59:47<1:02:14,  9.15s/it]"
     ]
    },
    {
     "name": "stdout",
     "output_type": "stream",
     "text": [
      "[3587.85] Epoch 391, train loss: 1.0301513671875, val loss: 1.01454758644104, val accuracy: 0.7\n"
     ]
    },
    {
     "name": "stderr",
     "output_type": "stream",
     "text": [
      " 49%|████▉     | 393/800 [59:57<1:02:05,  9.15s/it]"
     ]
    },
    {
     "name": "stdout",
     "output_type": "stream",
     "text": [
      "[3597.00] Epoch 392, train loss: 1.020751953125, val loss: 1.0158597230911255, val accuracy: 0.7\n"
     ]
    },
    {
     "name": "stderr",
     "output_type": "stream",
     "text": [
      " 49%|████▉     | 394/800 [1:00:06<1:01:56,  9.15s/it]"
     ]
    },
    {
     "name": "stdout",
     "output_type": "stream",
     "text": [
      "[3606.16] Epoch 393, train loss: 1.0218963623046875, val loss: 1.0160558223724365, val accuracy: 0.7\n"
     ]
    },
    {
     "name": "stderr",
     "output_type": "stream",
     "text": [
      " 49%|████▉     | 395/800 [1:00:15<1:01:47,  9.15s/it]"
     ]
    },
    {
     "name": "stdout",
     "output_type": "stream",
     "text": [
      "[3615.31] Epoch 394, train loss: 1.02215576171875, val loss: 1.0155963897705078, val accuracy: 0.7\n"
     ]
    },
    {
     "name": "stderr",
     "output_type": "stream",
     "text": [
      " 50%|████▉     | 396/800 [1:00:24<1:01:38,  9.15s/it]"
     ]
    },
    {
     "name": "stdout",
     "output_type": "stream",
     "text": [
      "[3624.47] Epoch 395, train loss: 1.016082763671875, val loss: 1.0148282051086426, val accuracy: 0.7\n"
     ]
    },
    {
     "name": "stderr",
     "output_type": "stream",
     "text": [
      " 50%|████▉     | 397/800 [1:00:33<1:01:28,  9.15s/it]"
     ]
    },
    {
     "name": "stdout",
     "output_type": "stream",
     "text": [
      "[3633.62] Epoch 396, train loss: 1.0205230712890625, val loss: 1.0146218538284302, val accuracy: 0.7\n"
     ]
    },
    {
     "name": "stderr",
     "output_type": "stream",
     "text": [
      " 50%|████▉     | 398/800 [1:00:42<1:01:19,  9.15s/it]"
     ]
    },
    {
     "name": "stdout",
     "output_type": "stream",
     "text": [
      "[3642.77] Epoch 397, train loss: 1.020416259765625, val loss: 1.0140602588653564, val accuracy: 0.7\n"
     ]
    },
    {
     "name": "stderr",
     "output_type": "stream",
     "text": [
      " 50%|████▉     | 399/800 [1:00:51<1:01:10,  9.15s/it]"
     ]
    },
    {
     "name": "stdout",
     "output_type": "stream",
     "text": [
      "[3651.93] Epoch 398, train loss: 1.0164566040039062, val loss: 1.014002799987793, val accuracy: 0.7\n"
     ]
    },
    {
     "name": "stderr",
     "output_type": "stream",
     "text": [
      " 50%|█████     | 400/800 [1:01:01<1:01:01,  9.15s/it]"
     ]
    },
    {
     "name": "stdout",
     "output_type": "stream",
     "text": [
      "[3661.08] Epoch 399, train loss: 1.0180206298828125, val loss: 1.0143659114837646, val accuracy: 0.7\n"
     ]
    },
    {
     "name": "stderr",
     "output_type": "stream",
     "text": [
      " 50%|█████     | 401/800 [1:01:10<1:00:52,  9.15s/it]"
     ]
    },
    {
     "name": "stdout",
     "output_type": "stream",
     "text": [
      "[3670.23] Epoch 400, train loss: 1.010101318359375, val loss: 1.014078140258789, val accuracy: 0.7\n"
     ]
    },
    {
     "name": "stderr",
     "output_type": "stream",
     "text": [
      " 50%|█████     | 402/800 [1:01:19<1:00:43,  9.15s/it]"
     ]
    },
    {
     "name": "stdout",
     "output_type": "stream",
     "text": [
      "[3679.39] Epoch 401, train loss: 1.0280609130859375, val loss: 1.014742136001587, val accuracy: 0.7\n"
     ]
    },
    {
     "name": "stderr",
     "output_type": "stream",
     "text": [
      " 50%|█████     | 403/800 [1:01:28<1:00:34,  9.15s/it]"
     ]
    },
    {
     "name": "stdout",
     "output_type": "stream",
     "text": [
      "[3688.54] Epoch 402, train loss: 1.0296478271484375, val loss: 1.0157995223999023, val accuracy: 0.7\n"
     ]
    },
    {
     "name": "stderr",
     "output_type": "stream",
     "text": [
      " 50%|█████     | 404/800 [1:01:37<1:00:25,  9.15s/it]"
     ]
    },
    {
     "name": "stdout",
     "output_type": "stream",
     "text": [
      "[3697.70] Epoch 403, train loss: 1.0160064697265625, val loss: 1.0171959400177002, val accuracy: 0.7\n"
     ]
    },
    {
     "name": "stderr",
     "output_type": "stream",
     "text": [
      " 51%|█████     | 405/800 [1:01:46<1:00:15,  9.15s/it]"
     ]
    },
    {
     "name": "stdout",
     "output_type": "stream",
     "text": [
      "[3706.85] Epoch 404, train loss: 1.014404296875, val loss: 1.0174715518951416, val accuracy: 0.7\n"
     ]
    },
    {
     "name": "stderr",
     "output_type": "stream",
     "text": [
      " 51%|█████     | 406/800 [1:01:56<1:00:06,  9.15s/it]"
     ]
    },
    {
     "name": "stdout",
     "output_type": "stream",
     "text": [
      "[3716.00] Epoch 405, train loss: 1.029144287109375, val loss: 1.017346739768982, val accuracy: 0.7\n"
     ]
    },
    {
     "name": "stderr",
     "output_type": "stream",
     "text": [
      " 51%|█████     | 407/800 [1:02:05<59:57,  9.15s/it]  "
     ]
    },
    {
     "name": "stdout",
     "output_type": "stream",
     "text": [
      "[3725.16] Epoch 406, train loss: 1.02020263671875, val loss: 1.0164903402328491, val accuracy: 0.7\n"
     ]
    },
    {
     "name": "stderr",
     "output_type": "stream",
     "text": [
      " 51%|█████     | 408/800 [1:02:14<59:48,  9.15s/it]"
     ]
    },
    {
     "name": "stdout",
     "output_type": "stream",
     "text": [
      "[3734.31] Epoch 407, train loss: 1.0178070068359375, val loss: 1.0156606435775757, val accuracy: 0.7\n"
     ]
    },
    {
     "name": "stderr",
     "output_type": "stream",
     "text": [
      " 51%|█████     | 409/800 [1:02:23<59:39,  9.15s/it]"
     ]
    },
    {
     "name": "stdout",
     "output_type": "stream",
     "text": [
      "[3743.47] Epoch 408, train loss: 1.0274200439453125, val loss: 1.014676809310913, val accuracy: 0.7\n"
     ]
    },
    {
     "name": "stderr",
     "output_type": "stream",
     "text": [
      " 51%|█████▏    | 410/800 [1:02:32<59:29,  9.15s/it]"
     ]
    },
    {
     "name": "stdout",
     "output_type": "stream",
     "text": [
      "[3752.62] Epoch 409, train loss: 1.0276947021484375, val loss: 1.0141634941101074, val accuracy: 0.7\n"
     ]
    },
    {
     "name": "stderr",
     "output_type": "stream",
     "text": [
      " 51%|█████▏    | 411/800 [1:02:41<59:20,  9.15s/it]"
     ]
    },
    {
     "name": "stdout",
     "output_type": "stream",
     "text": [
      "[3761.77] Epoch 410, train loss: 1.0317840576171875, val loss: 1.01357102394104, val accuracy: 0.7\n"
     ]
    },
    {
     "name": "stderr",
     "output_type": "stream",
     "text": [
      " 52%|█████▏    | 412/800 [1:02:50<59:11,  9.15s/it]"
     ]
    },
    {
     "name": "stdout",
     "output_type": "stream",
     "text": [
      "[3770.93] Epoch 411, train loss: 1.0102081298828125, val loss: 1.0134378671646118, val accuracy: 0.7\n"
     ]
    },
    {
     "name": "stderr",
     "output_type": "stream",
     "text": [
      " 52%|█████▏    | 413/800 [1:03:00<59:02,  9.15s/it]"
     ]
    },
    {
     "name": "stdout",
     "output_type": "stream",
     "text": [
      "[3780.08] Epoch 412, train loss: 1.0258026123046875, val loss: 1.013519048690796, val accuracy: 0.7\n"
     ]
    },
    {
     "name": "stderr",
     "output_type": "stream",
     "text": [
      " 52%|█████▏    | 414/800 [1:03:09<58:53,  9.15s/it]"
     ]
    },
    {
     "name": "stdout",
     "output_type": "stream",
     "text": [
      "[3789.23] Epoch 413, train loss: 1.016632080078125, val loss: 1.0142009258270264, val accuracy: 0.7\n"
     ]
    },
    {
     "name": "stderr",
     "output_type": "stream",
     "text": [
      " 52%|█████▏    | 415/800 [1:03:18<58:43,  9.15s/it]"
     ]
    },
    {
     "name": "stdout",
     "output_type": "stream",
     "text": [
      "[3798.38] Epoch 414, train loss: 1.0189666748046875, val loss: 1.0154608488082886, val accuracy: 0.7\n"
     ]
    },
    {
     "name": "stderr",
     "output_type": "stream",
     "text": [
      " 52%|█████▏    | 416/800 [1:03:27<58:35,  9.15s/it]"
     ]
    },
    {
     "name": "stdout",
     "output_type": "stream",
     "text": [
      "[3807.54] Epoch 415, train loss: 1.0184783935546875, val loss: 1.0155079364776611, val accuracy: 0.7\n"
     ]
    },
    {
     "name": "stderr",
     "output_type": "stream",
     "text": [
      " 52%|█████▏    | 417/800 [1:03:36<58:25,  9.15s/it]"
     ]
    },
    {
     "name": "stdout",
     "output_type": "stream",
     "text": [
      "[3816.69] Epoch 416, train loss: 1.0131072998046875, val loss: 1.0153263807296753, val accuracy: 0.7\n"
     ]
    },
    {
     "name": "stderr",
     "output_type": "stream",
     "text": [
      " 52%|█████▏    | 418/800 [1:03:45<58:16,  9.15s/it]"
     ]
    },
    {
     "name": "stdout",
     "output_type": "stream",
     "text": [
      "[3825.85] Epoch 417, train loss: 1.0224456787109375, val loss: 1.0149099826812744, val accuracy: 0.7\n"
     ]
    },
    {
     "name": "stderr",
     "output_type": "stream",
     "text": [
      " 52%|█████▏    | 419/800 [1:03:55<58:07,  9.15s/it]"
     ]
    },
    {
     "name": "stdout",
     "output_type": "stream",
     "text": [
      "[3835.00] Epoch 418, train loss: 1.017669677734375, val loss: 1.015421748161316, val accuracy: 0.7\n"
     ]
    },
    {
     "name": "stderr",
     "output_type": "stream",
     "text": [
      " 52%|█████▎    | 420/800 [1:04:04<57:58,  9.15s/it]"
     ]
    },
    {
     "name": "stdout",
     "output_type": "stream",
     "text": [
      "[3844.16] Epoch 419, train loss: 1.021575927734375, val loss: 1.0158393383026123, val accuracy: 0.7\n"
     ]
    },
    {
     "name": "stderr",
     "output_type": "stream",
     "text": [
      " 53%|█████▎    | 421/800 [1:04:13<57:49,  9.15s/it]"
     ]
    },
    {
     "name": "stdout",
     "output_type": "stream",
     "text": [
      "[3853.31] Epoch 420, train loss: 1.021240234375, val loss: 1.0157530307769775, val accuracy: 0.7\n"
     ]
    },
    {
     "name": "stderr",
     "output_type": "stream",
     "text": [
      " 53%|█████▎    | 422/800 [1:04:22<57:40,  9.15s/it]"
     ]
    },
    {
     "name": "stdout",
     "output_type": "stream",
     "text": [
      "[3862.46] Epoch 421, train loss: 1.01483154296875, val loss: 1.0150054693222046, val accuracy: 0.7\n"
     ]
    },
    {
     "name": "stderr",
     "output_type": "stream",
     "text": [
      " 53%|█████▎    | 423/800 [1:04:31<57:31,  9.15s/it]"
     ]
    },
    {
     "name": "stdout",
     "output_type": "stream",
     "text": [
      "[3871.62] Epoch 422, train loss: 1.0206146240234375, val loss: 1.0139868259429932, val accuracy: 0.7\n"
     ]
    },
    {
     "name": "stderr",
     "output_type": "stream",
     "text": [
      " 53%|█████▎    | 424/800 [1:04:40<57:21,  9.15s/it]"
     ]
    },
    {
     "name": "stdout",
     "output_type": "stream",
     "text": [
      "[3880.77] Epoch 423, train loss: 1.016571044921875, val loss: 1.0132031440734863, val accuracy: 0.7\n"
     ]
    },
    {
     "name": "stderr",
     "output_type": "stream",
     "text": [
      " 53%|█████▎    | 425/800 [1:04:49<57:12,  9.15s/it]"
     ]
    },
    {
     "name": "stdout",
     "output_type": "stream",
     "text": [
      "[3889.92] Epoch 424, train loss: 1.0146331787109375, val loss: 1.0126144886016846, val accuracy: 0.7\n"
     ]
    },
    {
     "name": "stderr",
     "output_type": "stream",
     "text": [
      " 53%|█████▎    | 426/800 [1:04:59<57:03,  9.15s/it]"
     ]
    },
    {
     "name": "stdout",
     "output_type": "stream",
     "text": [
      "[3899.08] Epoch 425, train loss: 1.011138916015625, val loss: 1.0128390789031982, val accuracy: 0.7\n"
     ]
    },
    {
     "name": "stderr",
     "output_type": "stream",
     "text": [
      " 53%|█████▎    | 427/800 [1:05:08<56:54,  9.15s/it]"
     ]
    },
    {
     "name": "stdout",
     "output_type": "stream",
     "text": [
      "[3908.23] Epoch 426, train loss: 1.0118255615234375, val loss: 1.012749433517456, val accuracy: 0.7\n"
     ]
    },
    {
     "name": "stderr",
     "output_type": "stream",
     "text": [
      " 54%|█████▎    | 428/800 [1:05:17<56:45,  9.15s/it]"
     ]
    },
    {
     "name": "stdout",
     "output_type": "stream",
     "text": [
      "[3917.39] Epoch 427, train loss: 1.0099029541015625, val loss: 1.0123627185821533, val accuracy: 0.7\n"
     ]
    },
    {
     "name": "stderr",
     "output_type": "stream",
     "text": [
      " 54%|█████▎    | 429/800 [1:05:26<56:36,  9.15s/it]"
     ]
    },
    {
     "name": "stdout",
     "output_type": "stream",
     "text": [
      "[3926.54] Epoch 428, train loss: 1.0129547119140625, val loss: 1.0122102499008179, val accuracy: 0.7\n"
     ]
    },
    {
     "name": "stderr",
     "output_type": "stream",
     "text": [
      " 54%|█████▍    | 430/800 [1:05:35<56:26,  9.15s/it]"
     ]
    },
    {
     "name": "stdout",
     "output_type": "stream",
     "text": [
      "[3935.69] Epoch 429, train loss: 1.0154876708984375, val loss: 1.0116291046142578, val accuracy: 0.7\n"
     ]
    },
    {
     "name": "stderr",
     "output_type": "stream",
     "text": [
      " 54%|█████▍    | 431/800 [1:05:44<56:17,  9.15s/it]"
     ]
    },
    {
     "name": "stdout",
     "output_type": "stream",
     "text": [
      "[3944.85] Epoch 430, train loss: 1.025238037109375, val loss: 1.0117180347442627, val accuracy: 0.7\n"
     ]
    },
    {
     "name": "stderr",
     "output_type": "stream",
     "text": [
      " 54%|█████▍    | 432/800 [1:05:54<56:08,  9.15s/it]"
     ]
    },
    {
     "name": "stdout",
     "output_type": "stream",
     "text": [
      "[3954.00] Epoch 431, train loss: 1.0104522705078125, val loss: 1.0135995149612427, val accuracy: 0.7\n"
     ]
    },
    {
     "name": "stderr",
     "output_type": "stream",
     "text": [
      " 54%|█████▍    | 433/800 [1:06:03<55:59,  9.15s/it]"
     ]
    },
    {
     "name": "stdout",
     "output_type": "stream",
     "text": [
      "[3963.16] Epoch 432, train loss: 1.0080413818359375, val loss: 1.0139871835708618, val accuracy: 0.7\n"
     ]
    },
    {
     "name": "stderr",
     "output_type": "stream",
     "text": [
      " 54%|█████▍    | 434/800 [1:06:12<55:50,  9.15s/it]"
     ]
    },
    {
     "name": "stdout",
     "output_type": "stream",
     "text": [
      "[3972.31] Epoch 433, train loss: 1.0175933837890625, val loss: 1.0142412185668945, val accuracy: 0.7\n"
     ]
    },
    {
     "name": "stderr",
     "output_type": "stream",
     "text": [
      " 54%|█████▍    | 435/800 [1:06:21<55:41,  9.15s/it]"
     ]
    },
    {
     "name": "stdout",
     "output_type": "stream",
     "text": [
      "[3981.46] Epoch 434, train loss: 1.017730712890625, val loss: 1.015016794204712, val accuracy: 0.7\n"
     ]
    },
    {
     "name": "stderr",
     "output_type": "stream",
     "text": [
      " 55%|█████▍    | 436/800 [1:06:30<55:32,  9.15s/it]"
     ]
    },
    {
     "name": "stdout",
     "output_type": "stream",
     "text": [
      "[3990.62] Epoch 435, train loss: 1.014251708984375, val loss: 1.0155065059661865, val accuracy: 0.7\n"
     ]
    },
    {
     "name": "stderr",
     "output_type": "stream",
     "text": [
      " 55%|█████▍    | 437/800 [1:06:39<55:22,  9.15s/it]"
     ]
    },
    {
     "name": "stdout",
     "output_type": "stream",
     "text": [
      "[3999.77] Epoch 436, train loss: 1.022857666015625, val loss: 1.0160973072052002, val accuracy: 0.7\n"
     ]
    },
    {
     "name": "stderr",
     "output_type": "stream",
     "text": [
      " 55%|█████▍    | 438/800 [1:06:48<55:13,  9.15s/it]"
     ]
    },
    {
     "name": "stdout",
     "output_type": "stream",
     "text": [
      "[4008.93] Epoch 437, train loss: 1.0164031982421875, val loss: 1.016366720199585, val accuracy: 0.7\n"
     ]
    },
    {
     "name": "stderr",
     "output_type": "stream",
     "text": [
      " 55%|█████▍    | 439/800 [1:06:58<55:04,  9.15s/it]"
     ]
    },
    {
     "name": "stdout",
     "output_type": "stream",
     "text": [
      "[4018.08] Epoch 438, train loss: 1.0156097412109375, val loss: 1.0162715911865234, val accuracy: 0.7\n"
     ]
    },
    {
     "name": "stderr",
     "output_type": "stream",
     "text": [
      " 55%|█████▌    | 440/800 [1:07:07<54:55,  9.15s/it]"
     ]
    },
    {
     "name": "stdout",
     "output_type": "stream",
     "text": [
      "[4027.24] Epoch 439, train loss: 1.0061492919921875, val loss: 1.0150024890899658, val accuracy: 0.7\n"
     ]
    },
    {
     "name": "stderr",
     "output_type": "stream",
     "text": [
      " 55%|█████▌    | 441/800 [1:07:16<54:46,  9.15s/it]"
     ]
    },
    {
     "name": "stdout",
     "output_type": "stream",
     "text": [
      "[4036.39] Epoch 440, train loss: 1.01336669921875, val loss: 1.0137439966201782, val accuracy: 0.7\n"
     ]
    },
    {
     "name": "stderr",
     "output_type": "stream",
     "text": [
      " 55%|█████▌    | 442/800 [1:07:25<54:37,  9.15s/it]"
     ]
    },
    {
     "name": "stdout",
     "output_type": "stream",
     "text": [
      "[4045.55] Epoch 441, train loss: 1.016357421875, val loss: 1.012061595916748, val accuracy: 0.7\n"
     ]
    },
    {
     "name": "stderr",
     "output_type": "stream",
     "text": [
      " 55%|█████▌    | 443/800 [1:07:34<54:28,  9.15s/it]"
     ]
    },
    {
     "name": "stdout",
     "output_type": "stream",
     "text": [
      "[4054.70] Epoch 442, train loss: 1.0201873779296875, val loss: 1.0117679834365845, val accuracy: 0.7\n"
     ]
    },
    {
     "name": "stderr",
     "output_type": "stream",
     "text": [
      " 56%|█████▌    | 444/800 [1:07:43<54:18,  9.15s/it]"
     ]
    },
    {
     "name": "stdout",
     "output_type": "stream",
     "text": [
      "[4063.86] Epoch 443, train loss: 1.02056884765625, val loss: 1.012467861175537, val accuracy: 0.7\n"
     ]
    },
    {
     "name": "stderr",
     "output_type": "stream",
     "text": [
      " 56%|█████▌    | 445/800 [1:07:53<54:09,  9.15s/it]"
     ]
    },
    {
     "name": "stdout",
     "output_type": "stream",
     "text": [
      "[4073.01] Epoch 444, train loss: 1.017303466796875, val loss: 1.0127284526824951, val accuracy: 0.7\n"
     ]
    },
    {
     "name": "stderr",
     "output_type": "stream",
     "text": [
      " 56%|█████▌    | 446/800 [1:08:02<54:00,  9.15s/it]"
     ]
    },
    {
     "name": "stdout",
     "output_type": "stream",
     "text": [
      "[4082.17] Epoch 445, train loss: 1.01837158203125, val loss: 1.0127235651016235, val accuracy: 0.7\n"
     ]
    },
    {
     "name": "stderr",
     "output_type": "stream",
     "text": [
      " 56%|█████▌    | 447/800 [1:08:11<53:51,  9.15s/it]"
     ]
    },
    {
     "name": "stdout",
     "output_type": "stream",
     "text": [
      "[4091.32] Epoch 446, train loss: 1.018951416015625, val loss: 1.013537883758545, val accuracy: 0.7\n"
     ]
    },
    {
     "name": "stderr",
     "output_type": "stream",
     "text": [
      " 56%|█████▌    | 448/800 [1:08:20<53:42,  9.15s/it]"
     ]
    },
    {
     "name": "stdout",
     "output_type": "stream",
     "text": [
      "[4100.47] Epoch 447, train loss: 1.011962890625, val loss: 1.0155088901519775, val accuracy: 0.7\n"
     ]
    },
    {
     "name": "stderr",
     "output_type": "stream",
     "text": [
      " 56%|█████▌    | 449/800 [1:08:29<53:33,  9.15s/it]"
     ]
    },
    {
     "name": "stdout",
     "output_type": "stream",
     "text": [
      "[4109.63] Epoch 448, train loss: 1.0129852294921875, val loss: 1.0162765979766846, val accuracy: 0.7\n"
     ]
    },
    {
     "name": "stderr",
     "output_type": "stream",
     "text": [
      " 56%|█████▋    | 450/800 [1:08:38<53:24,  9.15s/it]"
     ]
    },
    {
     "name": "stdout",
     "output_type": "stream",
     "text": [
      "[4118.78] Epoch 449, train loss: 1.0185394287109375, val loss: 1.0152919292449951, val accuracy: 0.7\n"
     ]
    },
    {
     "name": "stderr",
     "output_type": "stream",
     "text": [
      " 56%|█████▋    | 451/800 [1:08:47<53:14,  9.15s/it]"
     ]
    },
    {
     "name": "stdout",
     "output_type": "stream",
     "text": [
      "[4127.94] Epoch 450, train loss: 1.0154876708984375, val loss: 1.014224886894226, val accuracy: 0.7\n"
     ]
    },
    {
     "name": "stderr",
     "output_type": "stream",
     "text": [
      " 56%|█████▋    | 452/800 [1:08:57<53:05,  9.15s/it]"
     ]
    },
    {
     "name": "stdout",
     "output_type": "stream",
     "text": [
      "[4137.09] Epoch 451, train loss: 1.0121002197265625, val loss: 1.013244867324829, val accuracy: 0.7\n"
     ]
    },
    {
     "name": "stderr",
     "output_type": "stream",
     "text": [
      " 57%|█████▋    | 453/800 [1:09:06<52:56,  9.15s/it]"
     ]
    },
    {
     "name": "stdout",
     "output_type": "stream",
     "text": [
      "[4146.25] Epoch 452, train loss: 1.0196380615234375, val loss: 1.0124783515930176, val accuracy: 0.7\n"
     ]
    },
    {
     "name": "stderr",
     "output_type": "stream",
     "text": [
      " 57%|█████▋    | 454/800 [1:09:15<52:47,  9.15s/it]"
     ]
    },
    {
     "name": "stdout",
     "output_type": "stream",
     "text": [
      "[4155.40] Epoch 453, train loss: 1.0126953125, val loss: 1.0119717121124268, val accuracy: 0.7\n"
     ]
    },
    {
     "name": "stderr",
     "output_type": "stream",
     "text": [
      " 57%|█████▋    | 455/800 [1:09:24<52:38,  9.15s/it]"
     ]
    },
    {
     "name": "stdout",
     "output_type": "stream",
     "text": [
      "[4164.56] Epoch 454, train loss: 1.028839111328125, val loss: 1.0122371912002563, val accuracy: 0.7\n"
     ]
    },
    {
     "name": "stderr",
     "output_type": "stream",
     "text": [
      " 57%|█████▋    | 456/800 [1:09:33<52:29,  9.15s/it]"
     ]
    },
    {
     "name": "stdout",
     "output_type": "stream",
     "text": [
      "[4173.71] Epoch 455, train loss: 1.014129638671875, val loss: 1.0123085975646973, val accuracy: 0.7\n"
     ]
    },
    {
     "name": "stderr",
     "output_type": "stream",
     "text": [
      " 57%|█████▋    | 457/800 [1:09:42<52:19,  9.15s/it]"
     ]
    },
    {
     "name": "stdout",
     "output_type": "stream",
     "text": [
      "[4182.86] Epoch 456, train loss: 1.0145263671875, val loss: 1.0123794078826904, val accuracy: 0.7\n"
     ]
    },
    {
     "name": "stderr",
     "output_type": "stream",
     "text": [
      " 57%|█████▋    | 458/800 [1:09:52<52:10,  9.15s/it]"
     ]
    },
    {
     "name": "stdout",
     "output_type": "stream",
     "text": [
      "[4192.02] Epoch 457, train loss: 1.0190582275390625, val loss: 1.0124120712280273, val accuracy: 0.7\n"
     ]
    },
    {
     "name": "stderr",
     "output_type": "stream",
     "text": [
      " 57%|█████▋    | 459/800 [1:10:01<52:01,  9.15s/it]"
     ]
    },
    {
     "name": "stdout",
     "output_type": "stream",
     "text": [
      "[4201.17] Epoch 458, train loss: 1.0126495361328125, val loss: 1.0131455659866333, val accuracy: 0.7\n"
     ]
    },
    {
     "name": "stderr",
     "output_type": "stream",
     "text": [
      " 57%|█████▊    | 460/800 [1:10:10<51:52,  9.15s/it]"
     ]
    },
    {
     "name": "stdout",
     "output_type": "stream",
     "text": [
      "[4210.33] Epoch 459, train loss: 1.004791259765625, val loss: 1.0130712985992432, val accuracy: 0.7\n"
     ]
    },
    {
     "name": "stderr",
     "output_type": "stream",
     "text": [
      " 58%|█████▊    | 461/800 [1:10:19<51:43,  9.15s/it]"
     ]
    },
    {
     "name": "stdout",
     "output_type": "stream",
     "text": [
      "[4219.48] Epoch 460, train loss: 1.0139312744140625, val loss: 1.0129435062408447, val accuracy: 0.7\n"
     ]
    },
    {
     "name": "stderr",
     "output_type": "stream",
     "text": [
      " 58%|█████▊    | 462/800 [1:10:28<51:34,  9.15s/it]"
     ]
    },
    {
     "name": "stdout",
     "output_type": "stream",
     "text": [
      "[4228.64] Epoch 461, train loss: 1.02264404296875, val loss: 1.0126068592071533, val accuracy: 0.7\n"
     ]
    },
    {
     "name": "stderr",
     "output_type": "stream",
     "text": [
      " 58%|█████▊    | 463/800 [1:10:37<51:24,  9.15s/it]"
     ]
    },
    {
     "name": "stdout",
     "output_type": "stream",
     "text": [
      "[4237.79] Epoch 462, train loss: 1.0186614990234375, val loss: 1.0132800340652466, val accuracy: 0.7\n"
     ]
    },
    {
     "name": "stderr",
     "output_type": "stream",
     "text": [
      " 58%|█████▊    | 464/800 [1:10:46<51:15,  9.15s/it]"
     ]
    },
    {
     "name": "stdout",
     "output_type": "stream",
     "text": [
      "[4246.94] Epoch 463, train loss: 1.0144500732421875, val loss: 1.0139944553375244, val accuracy: 0.7\n"
     ]
    },
    {
     "name": "stderr",
     "output_type": "stream",
     "text": [
      " 58%|█████▊    | 465/800 [1:10:56<51:06,  9.15s/it]"
     ]
    },
    {
     "name": "stdout",
     "output_type": "stream",
     "text": [
      "[4256.10] Epoch 464, train loss: 1.0136566162109375, val loss: 1.0139315128326416, val accuracy: 0.7\n"
     ]
    },
    {
     "name": "stderr",
     "output_type": "stream",
     "text": [
      " 58%|█████▊    | 466/800 [1:11:05<50:57,  9.15s/it]"
     ]
    },
    {
     "name": "stdout",
     "output_type": "stream",
     "text": [
      "[4265.25] Epoch 465, train loss: 1.0050201416015625, val loss: 1.013474702835083, val accuracy: 0.7\n"
     ]
    },
    {
     "name": "stderr",
     "output_type": "stream",
     "text": [
      " 58%|█████▊    | 467/800 [1:11:14<50:48,  9.15s/it]"
     ]
    },
    {
     "name": "stdout",
     "output_type": "stream",
     "text": [
      "[4274.40] Epoch 466, train loss: 1.01727294921875, val loss: 1.0125954151153564, val accuracy: 0.7\n"
     ]
    },
    {
     "name": "stderr",
     "output_type": "stream",
     "text": [
      " 58%|█████▊    | 468/800 [1:11:23<50:39,  9.15s/it]"
     ]
    },
    {
     "name": "stdout",
     "output_type": "stream",
     "text": [
      "[4283.56] Epoch 467, train loss: 1.0078582763671875, val loss: 1.0126739740371704, val accuracy: 0.7\n"
     ]
    },
    {
     "name": "stderr",
     "output_type": "stream",
     "text": [
      " 59%|█████▊    | 469/800 [1:11:32<50:29,  9.15s/it]"
     ]
    },
    {
     "name": "stdout",
     "output_type": "stream",
     "text": [
      "[4292.71] Epoch 468, train loss: 1.00885009765625, val loss: 1.0128940343856812, val accuracy: 0.7\n"
     ]
    },
    {
     "name": "stderr",
     "output_type": "stream",
     "text": [
      " 59%|█████▉    | 470/800 [1:11:41<50:20,  9.15s/it]"
     ]
    },
    {
     "name": "stdout",
     "output_type": "stream",
     "text": [
      "[4301.86] Epoch 469, train loss: 1.0201492309570312, val loss: 1.0129092931747437, val accuracy: 0.7\n"
     ]
    },
    {
     "name": "stderr",
     "output_type": "stream",
     "text": [
      " 59%|█████▉    | 471/800 [1:11:51<50:11,  9.15s/it]"
     ]
    },
    {
     "name": "stdout",
     "output_type": "stream",
     "text": [
      "[4311.02] Epoch 470, train loss: 1.0100555419921875, val loss: 1.0132319927215576, val accuracy: 0.7\n"
     ]
    },
    {
     "name": "stderr",
     "output_type": "stream",
     "text": [
      " 59%|█████▉    | 472/800 [1:12:00<50:02,  9.15s/it]"
     ]
    },
    {
     "name": "stdout",
     "output_type": "stream",
     "text": [
      "[4320.17] Epoch 471, train loss: 1.0166168212890625, val loss: 1.0140600204467773, val accuracy: 0.7\n"
     ]
    },
    {
     "name": "stderr",
     "output_type": "stream",
     "text": [
      " 59%|█████▉    | 473/800 [1:12:09<49:53,  9.15s/it]"
     ]
    },
    {
     "name": "stdout",
     "output_type": "stream",
     "text": [
      "[4329.32] Epoch 472, train loss: 1.02044677734375, val loss: 1.0144853591918945, val accuracy: 0.7\n"
     ]
    },
    {
     "name": "stderr",
     "output_type": "stream",
     "text": [
      " 59%|█████▉    | 474/800 [1:12:18<49:44,  9.15s/it]"
     ]
    },
    {
     "name": "stdout",
     "output_type": "stream",
     "text": [
      "[4338.48] Epoch 473, train loss: 1.0228118896484375, val loss: 1.01360023021698, val accuracy: 0.7\n"
     ]
    },
    {
     "name": "stderr",
     "output_type": "stream",
     "text": [
      " 59%|█████▉    | 475/800 [1:12:27<49:34,  9.15s/it]"
     ]
    },
    {
     "name": "stdout",
     "output_type": "stream",
     "text": [
      "[4347.63] Epoch 474, train loss: 1.0059967041015625, val loss: 1.013067364692688, val accuracy: 0.7\n"
     ]
    },
    {
     "name": "stderr",
     "output_type": "stream",
     "text": [
      " 60%|█████▉    | 476/800 [1:12:36<49:25,  9.15s/it]"
     ]
    },
    {
     "name": "stdout",
     "output_type": "stream",
     "text": [
      "[4356.79] Epoch 475, train loss: 1.0128326416015625, val loss: 1.0128405094146729, val accuracy: 0.7\n"
     ]
    },
    {
     "name": "stderr",
     "output_type": "stream",
     "text": [
      " 60%|█████▉    | 477/800 [1:12:45<49:16,  9.15s/it]"
     ]
    },
    {
     "name": "stdout",
     "output_type": "stream",
     "text": [
      "[4365.94] Epoch 476, train loss: 1.0159149169921875, val loss: 1.0132158994674683, val accuracy: 0.7\n"
     ]
    },
    {
     "name": "stderr",
     "output_type": "stream",
     "text": [
      " 60%|█████▉    | 478/800 [1:12:55<49:07,  9.15s/it]"
     ]
    },
    {
     "name": "stdout",
     "output_type": "stream",
     "text": [
      "[4375.09] Epoch 477, train loss: 1.0048675537109375, val loss: 1.0138003826141357, val accuracy: 0.7\n"
     ]
    },
    {
     "name": "stderr",
     "output_type": "stream",
     "text": [
      " 60%|█████▉    | 479/800 [1:13:04<48:58,  9.15s/it]"
     ]
    },
    {
     "name": "stdout",
     "output_type": "stream",
     "text": [
      "[4384.25] Epoch 478, train loss: 1.0179443359375, val loss: 1.0141382217407227, val accuracy: 0.7\n"
     ]
    },
    {
     "name": "stderr",
     "output_type": "stream",
     "text": [
      " 60%|██████    | 480/800 [1:13:13<48:49,  9.15s/it]"
     ]
    },
    {
     "name": "stdout",
     "output_type": "stream",
     "text": [
      "[4393.40] Epoch 479, train loss: 1.012969970703125, val loss: 1.0149497985839844, val accuracy: 0.7\n"
     ]
    },
    {
     "name": "stderr",
     "output_type": "stream",
     "text": [
      " 60%|██████    | 481/800 [1:13:22<48:40,  9.15s/it]"
     ]
    },
    {
     "name": "stdout",
     "output_type": "stream",
     "text": [
      "[4402.56] Epoch 480, train loss: 1.011627197265625, val loss: 1.0153207778930664, val accuracy: 0.7\n"
     ]
    },
    {
     "name": "stderr",
     "output_type": "stream",
     "text": [
      " 60%|██████    | 482/800 [1:13:31<48:31,  9.15s/it]"
     ]
    },
    {
     "name": "stdout",
     "output_type": "stream",
     "text": [
      "[4411.71] Epoch 481, train loss: 1.02191162109375, val loss: 1.0149112939834595, val accuracy: 0.7\n"
     ]
    },
    {
     "name": "stderr",
     "output_type": "stream",
     "text": [
      " 60%|██████    | 483/800 [1:13:40<48:21,  9.15s/it]"
     ]
    },
    {
     "name": "stdout",
     "output_type": "stream",
     "text": [
      "[4420.87] Epoch 482, train loss: 1.0138397216796875, val loss: 1.0147936344146729, val accuracy: 0.7\n"
     ]
    },
    {
     "name": "stderr",
     "output_type": "stream",
     "text": [
      " 60%|██████    | 484/800 [1:13:50<48:12,  9.15s/it]"
     ]
    },
    {
     "name": "stdout",
     "output_type": "stream",
     "text": [
      "[4430.02] Epoch 483, train loss: 1.013580322265625, val loss: 1.0137908458709717, val accuracy: 0.7\n"
     ]
    },
    {
     "name": "stderr",
     "output_type": "stream",
     "text": [
      " 61%|██████    | 485/800 [1:13:59<48:03,  9.15s/it]"
     ]
    },
    {
     "name": "stdout",
     "output_type": "stream",
     "text": [
      "[4439.17] Epoch 484, train loss: 1.0115814208984375, val loss: 1.0123989582061768, val accuracy: 0.7\n"
     ]
    },
    {
     "name": "stderr",
     "output_type": "stream",
     "text": [
      " 61%|██████    | 486/800 [1:14:08<47:54,  9.15s/it]"
     ]
    },
    {
     "name": "stdout",
     "output_type": "stream",
     "text": [
      "[4448.33] Epoch 485, train loss: 1.009979248046875, val loss: 1.0113723278045654, val accuracy: 0.7\n"
     ]
    },
    {
     "name": "stderr",
     "output_type": "stream",
     "text": [
      " 61%|██████    | 487/800 [1:14:17<47:45,  9.15s/it]"
     ]
    },
    {
     "name": "stdout",
     "output_type": "stream",
     "text": [
      "[4457.48] Epoch 486, train loss: 1.01190185546875, val loss: 1.0108674764633179, val accuracy: 0.7\n"
     ]
    },
    {
     "name": "stderr",
     "output_type": "stream",
     "text": [
      " 61%|██████    | 488/800 [1:14:26<47:36,  9.15s/it]"
     ]
    },
    {
     "name": "stdout",
     "output_type": "stream",
     "text": [
      "[4466.64] Epoch 487, train loss: 1.014739990234375, val loss: 1.011132001876831, val accuracy: 0.7\n"
     ]
    },
    {
     "name": "stderr",
     "output_type": "stream",
     "text": [
      " 61%|██████    | 489/800 [1:14:35<47:27,  9.15s/it]"
     ]
    },
    {
     "name": "stdout",
     "output_type": "stream",
     "text": [
      "[4475.79] Epoch 488, train loss: 1.0093154907226562, val loss: 1.012384057044983, val accuracy: 0.7\n"
     ]
    },
    {
     "name": "stderr",
     "output_type": "stream",
     "text": [
      " 61%|██████▏   | 490/800 [1:14:44<47:17,  9.15s/it]"
     ]
    },
    {
     "name": "stdout",
     "output_type": "stream",
     "text": [
      "[4484.95] Epoch 489, train loss: 1.01336669921875, val loss: 1.013744831085205, val accuracy: 0.7\n"
     ]
    },
    {
     "name": "stderr",
     "output_type": "stream",
     "text": [
      " 61%|██████▏   | 491/800 [1:14:54<47:08,  9.15s/it]"
     ]
    },
    {
     "name": "stdout",
     "output_type": "stream",
     "text": [
      "[4494.10] Epoch 490, train loss: 1.013275146484375, val loss: 1.0147185325622559, val accuracy: 0.7\n"
     ]
    },
    {
     "name": "stderr",
     "output_type": "stream",
     "text": [
      " 62%|██████▏   | 492/800 [1:15:03<46:59,  9.15s/it]"
     ]
    },
    {
     "name": "stdout",
     "output_type": "stream",
     "text": [
      "[4503.25] Epoch 491, train loss: 1.020751953125, val loss: 1.0151517391204834, val accuracy: 0.7\n"
     ]
    },
    {
     "name": "stderr",
     "output_type": "stream",
     "text": [
      " 62%|██████▏   | 493/800 [1:15:12<46:50,  9.15s/it]"
     ]
    },
    {
     "name": "stdout",
     "output_type": "stream",
     "text": [
      "[4512.41] Epoch 492, train loss: 1.0143890380859375, val loss: 1.0145705938339233, val accuracy: 0.7\n"
     ]
    },
    {
     "name": "stderr",
     "output_type": "stream",
     "text": [
      " 62%|██████▏   | 494/800 [1:15:21<46:41,  9.15s/it]"
     ]
    },
    {
     "name": "stdout",
     "output_type": "stream",
     "text": [
      "[4521.56] Epoch 493, train loss: 1.0141754150390625, val loss: 1.0141170024871826, val accuracy: 0.7\n"
     ]
    },
    {
     "name": "stderr",
     "output_type": "stream",
     "text": [
      " 62%|██████▏   | 495/800 [1:15:30<46:31,  9.15s/it]"
     ]
    },
    {
     "name": "stdout",
     "output_type": "stream",
     "text": [
      "[4530.71] Epoch 494, train loss: 1.0098419189453125, val loss: 1.0137807130813599, val accuracy: 0.7\n"
     ]
    },
    {
     "name": "stderr",
     "output_type": "stream",
     "text": [
      " 62%|██████▏   | 496/800 [1:15:39<46:22,  9.15s/it]"
     ]
    },
    {
     "name": "stdout",
     "output_type": "stream",
     "text": [
      "[4539.87] Epoch 495, train loss: 1.0036163330078125, val loss: 1.0139110088348389, val accuracy: 0.7\n"
     ]
    },
    {
     "name": "stderr",
     "output_type": "stream",
     "text": [
      " 62%|██████▏   | 497/800 [1:15:49<46:13,  9.15s/it]"
     ]
    },
    {
     "name": "stdout",
     "output_type": "stream",
     "text": [
      "[4549.02] Epoch 496, train loss: 1.017578125, val loss: 1.0140273571014404, val accuracy: 0.7\n"
     ]
    },
    {
     "name": "stderr",
     "output_type": "stream",
     "text": [
      " 62%|██████▏   | 498/800 [1:15:58<46:04,  9.15s/it]"
     ]
    },
    {
     "name": "stdout",
     "output_type": "stream",
     "text": [
      "[4558.17] Epoch 497, train loss: 1.0143280029296875, val loss: 1.01393461227417, val accuracy: 0.7\n"
     ]
    },
    {
     "name": "stderr",
     "output_type": "stream",
     "text": [
      " 62%|██████▏   | 499/800 [1:16:07<45:55,  9.15s/it]"
     ]
    },
    {
     "name": "stdout",
     "output_type": "stream",
     "text": [
      "[4567.33] Epoch 498, train loss: 1.0145416259765625, val loss: 1.0143547058105469, val accuracy: 0.7\n"
     ]
    },
    {
     "name": "stderr",
     "output_type": "stream",
     "text": [
      " 62%|██████▎   | 500/800 [1:16:16<45:45,  9.15s/it]"
     ]
    },
    {
     "name": "stdout",
     "output_type": "stream",
     "text": [
      "[4576.48] Epoch 499, train loss: 0.999176025390625, val loss: 1.0150587558746338, val accuracy: 0.7\n"
     ]
    },
    {
     "name": "stderr",
     "output_type": "stream",
     "text": [
      " 63%|██████▎   | 501/800 [1:16:25<45:36,  9.15s/it]"
     ]
    },
    {
     "name": "stdout",
     "output_type": "stream",
     "text": [
      "[4585.63] Epoch 500, train loss: 1.0161590576171875, val loss: 1.0157880783081055, val accuracy: 0.7\n"
     ]
    },
    {
     "name": "stderr",
     "output_type": "stream",
     "text": [
      " 63%|██████▎   | 502/800 [1:16:34<45:27,  9.15s/it]"
     ]
    },
    {
     "name": "stdout",
     "output_type": "stream",
     "text": [
      "[4594.78] Epoch 501, train loss: 1.009674072265625, val loss: 1.0156887769699097, val accuracy: 0.7\n"
     ]
    },
    {
     "name": "stderr",
     "output_type": "stream",
     "text": [
      " 63%|██████▎   | 503/800 [1:16:43<45:18,  9.15s/it]"
     ]
    },
    {
     "name": "stdout",
     "output_type": "stream",
     "text": [
      "[4603.94] Epoch 502, train loss: 1.0070343017578125, val loss: 1.0146596431732178, val accuracy: 0.7\n"
     ]
    },
    {
     "name": "stderr",
     "output_type": "stream",
     "text": [
      " 63%|██████▎   | 504/800 [1:16:53<45:09,  9.15s/it]"
     ]
    },
    {
     "name": "stdout",
     "output_type": "stream",
     "text": [
      "[4613.09] Epoch 503, train loss: 1.0077667236328125, val loss: 1.0130821466445923, val accuracy: 0.7\n"
     ]
    },
    {
     "name": "stderr",
     "output_type": "stream",
     "text": [
      " 63%|██████▎   | 505/800 [1:17:02<45:00,  9.15s/it]"
     ]
    },
    {
     "name": "stdout",
     "output_type": "stream",
     "text": [
      "[4622.24] Epoch 504, train loss: 1.0066070556640625, val loss: 1.0120594501495361, val accuracy: 0.7\n"
     ]
    },
    {
     "name": "stderr",
     "output_type": "stream",
     "text": [
      " 63%|██████▎   | 506/800 [1:17:11<44:51,  9.15s/it]"
     ]
    },
    {
     "name": "stdout",
     "output_type": "stream",
     "text": [
      "[4631.40] Epoch 505, train loss: 1.005126953125, val loss: 1.0119136571884155, val accuracy: 0.7\n"
     ]
    },
    {
     "name": "stderr",
     "output_type": "stream",
     "text": [
      " 63%|██████▎   | 507/800 [1:17:20<44:41,  9.15s/it]"
     ]
    },
    {
     "name": "stdout",
     "output_type": "stream",
     "text": [
      "[4640.55] Epoch 506, train loss: 1.000640869140625, val loss: 1.0116102695465088, val accuracy: 0.7\n"
     ]
    },
    {
     "name": "stderr",
     "output_type": "stream",
     "text": [
      " 64%|██████▎   | 508/800 [1:17:29<44:32,  9.15s/it]"
     ]
    },
    {
     "name": "stdout",
     "output_type": "stream",
     "text": [
      "[4649.70] Epoch 507, train loss: 1.002716064453125, val loss: 1.0113688707351685, val accuracy: 0.7\n"
     ]
    },
    {
     "name": "stderr",
     "output_type": "stream",
     "text": [
      " 64%|██████▎   | 509/800 [1:17:38<44:23,  9.15s/it]"
     ]
    },
    {
     "name": "stdout",
     "output_type": "stream",
     "text": [
      "[4658.86] Epoch 508, train loss: 1.018707275390625, val loss: 1.0111991167068481, val accuracy: 0.7\n"
     ]
    },
    {
     "name": "stderr",
     "output_type": "stream",
     "text": [
      " 64%|██████▍   | 510/800 [1:17:48<44:14,  9.15s/it]"
     ]
    },
    {
     "name": "stdout",
     "output_type": "stream",
     "text": [
      "[4668.01] Epoch 509, train loss: 1.01800537109375, val loss: 1.0112392902374268, val accuracy: 0.7\n"
     ]
    },
    {
     "name": "stderr",
     "output_type": "stream",
     "text": [
      " 64%|██████▍   | 511/800 [1:17:57<44:05,  9.15s/it]"
     ]
    },
    {
     "name": "stdout",
     "output_type": "stream",
     "text": [
      "[4677.16] Epoch 510, train loss: 1.0151519775390625, val loss: 1.0108246803283691, val accuracy: 0.7\n"
     ]
    },
    {
     "name": "stderr",
     "output_type": "stream",
     "text": [
      " 64%|██████▍   | 512/800 [1:18:06<43:55,  9.15s/it]"
     ]
    },
    {
     "name": "stdout",
     "output_type": "stream",
     "text": [
      "[4686.31] Epoch 511, train loss: 1.00628662109375, val loss: 1.0105923414230347, val accuracy: 0.7\n"
     ]
    },
    {
     "name": "stderr",
     "output_type": "stream",
     "text": [
      " 64%|██████▍   | 513/800 [1:18:15<43:46,  9.15s/it]"
     ]
    },
    {
     "name": "stdout",
     "output_type": "stream",
     "text": [
      "[4695.47] Epoch 512, train loss: 1.0069427490234375, val loss: 1.0107223987579346, val accuracy: 0.7\n"
     ]
    },
    {
     "name": "stderr",
     "output_type": "stream",
     "text": [
      " 64%|██████▍   | 514/800 [1:18:24<43:37,  9.15s/it]"
     ]
    },
    {
     "name": "stdout",
     "output_type": "stream",
     "text": [
      "[4704.62] Epoch 513, train loss: 1.0009765625, val loss: 1.0107613801956177, val accuracy: 0.7\n"
     ]
    },
    {
     "name": "stderr",
     "output_type": "stream",
     "text": [
      " 64%|██████▍   | 515/800 [1:18:33<43:28,  9.15s/it]"
     ]
    },
    {
     "name": "stdout",
     "output_type": "stream",
     "text": [
      "[4713.77] Epoch 514, train loss: 1.009613037109375, val loss: 1.0112531185150146, val accuracy: 0.7\n"
     ]
    },
    {
     "name": "stderr",
     "output_type": "stream",
     "text": [
      " 64%|██████▍   | 516/800 [1:18:42<43:19,  9.15s/it]"
     ]
    },
    {
     "name": "stdout",
     "output_type": "stream",
     "text": [
      "[4722.92] Epoch 515, train loss: 1.0059967041015625, val loss: 1.0116853713989258, val accuracy: 0.7\n"
     ]
    },
    {
     "name": "stderr",
     "output_type": "stream",
     "text": [
      " 65%|██████▍   | 517/800 [1:18:52<43:10,  9.15s/it]"
     ]
    },
    {
     "name": "stdout",
     "output_type": "stream",
     "text": [
      "[4732.07] Epoch 516, train loss: 1.0074234008789062, val loss: 1.0121431350708008, val accuracy: 0.7\n"
     ]
    },
    {
     "name": "stderr",
     "output_type": "stream",
     "text": [
      " 65%|██████▍   | 518/800 [1:19:01<43:00,  9.15s/it]"
     ]
    },
    {
     "name": "stdout",
     "output_type": "stream",
     "text": [
      "[4741.23] Epoch 517, train loss: 1.006988525390625, val loss: 1.0128014087677002, val accuracy: 0.7\n"
     ]
    },
    {
     "name": "stderr",
     "output_type": "stream",
     "text": [
      " 65%|██████▍   | 519/800 [1:19:10<42:51,  9.15s/it]"
     ]
    },
    {
     "name": "stdout",
     "output_type": "stream",
     "text": [
      "[4750.38] Epoch 518, train loss: 1.0031280517578125, val loss: 1.0133333206176758, val accuracy: 0.7\n"
     ]
    },
    {
     "name": "stderr",
     "output_type": "stream",
     "text": [
      " 65%|██████▌   | 520/800 [1:19:19<42:42,  9.15s/it]"
     ]
    },
    {
     "name": "stdout",
     "output_type": "stream",
     "text": [
      "[4759.53] Epoch 519, train loss: 1.0016021728515625, val loss: 1.0135853290557861, val accuracy: 0.7\n"
     ]
    },
    {
     "name": "stderr",
     "output_type": "stream",
     "text": [
      " 65%|██████▌   | 521/800 [1:19:28<42:33,  9.15s/it]"
     ]
    },
    {
     "name": "stdout",
     "output_type": "stream",
     "text": [
      "[4768.68] Epoch 520, train loss: 1.006927490234375, val loss: 1.013434886932373, val accuracy: 0.7\n"
     ]
    },
    {
     "name": "stderr",
     "output_type": "stream",
     "text": [
      " 65%|██████▌   | 522/800 [1:19:37<42:24,  9.15s/it]"
     ]
    },
    {
     "name": "stdout",
     "output_type": "stream",
     "text": [
      "[4777.84] Epoch 521, train loss: 1.0064849853515625, val loss: 1.0132718086242676, val accuracy: 0.7\n"
     ]
    },
    {
     "name": "stderr",
     "output_type": "stream",
     "text": [
      " 65%|██████▌   | 523/800 [1:19:46<42:15,  9.15s/it]"
     ]
    },
    {
     "name": "stdout",
     "output_type": "stream",
     "text": [
      "[4786.99] Epoch 522, train loss: 1.0132064819335938, val loss: 1.0130277872085571, val accuracy: 0.7\n"
     ]
    },
    {
     "name": "stderr",
     "output_type": "stream",
     "text": [
      " 66%|██████▌   | 524/800 [1:19:56<42:05,  9.15s/it]"
     ]
    },
    {
     "name": "stdout",
     "output_type": "stream",
     "text": [
      "[4796.14] Epoch 523, train loss: 1.0093536376953125, val loss: 1.0131065845489502, val accuracy: 0.7\n"
     ]
    },
    {
     "name": "stderr",
     "output_type": "stream",
     "text": [
      " 66%|██████▌   | 525/800 [1:20:05<41:56,  9.15s/it]"
     ]
    },
    {
     "name": "stdout",
     "output_type": "stream",
     "text": [
      "[4805.29] Epoch 524, train loss: 1.012847900390625, val loss: 1.0130832195281982, val accuracy: 0.7\n"
     ]
    },
    {
     "name": "stderr",
     "output_type": "stream",
     "text": [
      " 66%|██████▌   | 526/800 [1:20:14<41:47,  9.15s/it]"
     ]
    },
    {
     "name": "stdout",
     "output_type": "stream",
     "text": [
      "[4814.44] Epoch 525, train loss: 1.0170745849609375, val loss: 1.012639045715332, val accuracy: 0.7\n"
     ]
    },
    {
     "name": "stderr",
     "output_type": "stream",
     "text": [
      " 66%|██████▌   | 527/800 [1:20:23<41:38,  9.15s/it]"
     ]
    },
    {
     "name": "stdout",
     "output_type": "stream",
     "text": [
      "[4823.59] Epoch 526, train loss: 1.00927734375, val loss: 1.0119569301605225, val accuracy: 0.7\n"
     ]
    },
    {
     "name": "stderr",
     "output_type": "stream",
     "text": [
      " 66%|██████▌   | 528/800 [1:20:32<41:29,  9.15s/it]"
     ]
    },
    {
     "name": "stdout",
     "output_type": "stream",
     "text": [
      "[4832.74] Epoch 527, train loss: 1.0036163330078125, val loss: 1.0117571353912354, val accuracy: 0.7\n"
     ]
    },
    {
     "name": "stderr",
     "output_type": "stream",
     "text": [
      " 66%|██████▌   | 529/800 [1:20:41<41:20,  9.15s/it]"
     ]
    },
    {
     "name": "stdout",
     "output_type": "stream",
     "text": [
      "[4841.90] Epoch 528, train loss: 1.0028839111328125, val loss: 1.011810064315796, val accuracy: 0.7\n"
     ]
    },
    {
     "name": "stderr",
     "output_type": "stream",
     "text": [
      " 66%|██████▋   | 530/800 [1:20:51<41:10,  9.15s/it]"
     ]
    },
    {
     "name": "stdout",
     "output_type": "stream",
     "text": [
      "[4851.05] Epoch 529, train loss: 1.0120391845703125, val loss: 1.012751817703247, val accuracy: 0.7\n"
     ]
    },
    {
     "name": "stderr",
     "output_type": "stream",
     "text": [
      " 66%|██████▋   | 531/800 [1:21:00<41:01,  9.15s/it]"
     ]
    },
    {
     "name": "stdout",
     "output_type": "stream",
     "text": [
      "[4860.20] Epoch 530, train loss: 1.0035400390625, val loss: 1.0136752128601074, val accuracy: 0.7\n"
     ]
    },
    {
     "name": "stderr",
     "output_type": "stream",
     "text": [
      " 66%|██████▋   | 532/800 [1:21:09<40:52,  9.15s/it]"
     ]
    },
    {
     "name": "stdout",
     "output_type": "stream",
     "text": [
      "[4869.35] Epoch 531, train loss: 1.0052032470703125, val loss: 1.0146210193634033, val accuracy: 0.7\n"
     ]
    },
    {
     "name": "stderr",
     "output_type": "stream",
     "text": [
      " 67%|██████▋   | 533/800 [1:21:18<40:43,  9.15s/it]"
     ]
    },
    {
     "name": "stdout",
     "output_type": "stream",
     "text": [
      "[4878.50] Epoch 532, train loss: 0.9998550415039062, val loss: 1.015550136566162, val accuracy: 0.7\n"
     ]
    },
    {
     "name": "stderr",
     "output_type": "stream",
     "text": [
      " 67%|██████▋   | 534/800 [1:21:27<40:34,  9.15s/it]"
     ]
    },
    {
     "name": "stdout",
     "output_type": "stream",
     "text": [
      "[4887.65] Epoch 533, train loss: 1.00714111328125, val loss: 1.0156762599945068, val accuracy: 0.7\n"
     ]
    },
    {
     "name": "stderr",
     "output_type": "stream",
     "text": [
      " 67%|██████▋   | 535/800 [1:21:36<40:25,  9.15s/it]"
     ]
    },
    {
     "name": "stdout",
     "output_type": "stream",
     "text": [
      "[4896.80] Epoch 534, train loss: 1.007049560546875, val loss: 1.0148959159851074, val accuracy: 0.7\n"
     ]
    },
    {
     "name": "stderr",
     "output_type": "stream",
     "text": [
      " 67%|██████▋   | 536/800 [1:21:45<40:15,  9.15s/it]"
     ]
    },
    {
     "name": "stdout",
     "output_type": "stream",
     "text": [
      "[4905.96] Epoch 535, train loss: 1.0232391357421875, val loss: 1.0136215686798096, val accuracy: 0.7\n"
     ]
    },
    {
     "name": "stderr",
     "output_type": "stream",
     "text": [
      " 67%|██████▋   | 537/800 [1:21:55<40:06,  9.15s/it]"
     ]
    },
    {
     "name": "stdout",
     "output_type": "stream",
     "text": [
      "[4915.11] Epoch 536, train loss: 1.0084075927734375, val loss: 1.0121902227401733, val accuracy: 0.7\n"
     ]
    },
    {
     "name": "stderr",
     "output_type": "stream",
     "text": [
      " 67%|██████▋   | 538/800 [1:22:04<39:57,  9.15s/it]"
     ]
    },
    {
     "name": "stdout",
     "output_type": "stream",
     "text": [
      "[4924.26] Epoch 537, train loss: 1.00677490234375, val loss: 1.0112844705581665, val accuracy: 0.7\n"
     ]
    },
    {
     "name": "stderr",
     "output_type": "stream",
     "text": [
      " 67%|██████▋   | 539/800 [1:22:13<39:48,  9.15s/it]"
     ]
    },
    {
     "name": "stdout",
     "output_type": "stream",
     "text": [
      "[4933.41] Epoch 538, train loss: 1.0016632080078125, val loss: 1.0110132694244385, val accuracy: 0.7\n"
     ]
    },
    {
     "name": "stderr",
     "output_type": "stream",
     "text": [
      " 68%|██████▊   | 540/800 [1:22:22<39:39,  9.15s/it]"
     ]
    },
    {
     "name": "stdout",
     "output_type": "stream",
     "text": [
      "[4942.56] Epoch 539, train loss: 1.0050811767578125, val loss: 1.0114187002182007, val accuracy: 0.7\n"
     ]
    },
    {
     "name": "stderr",
     "output_type": "stream",
     "text": [
      " 68%|██████▊   | 541/800 [1:22:31<39:30,  9.15s/it]"
     ]
    },
    {
     "name": "stdout",
     "output_type": "stream",
     "text": [
      "[4951.71] Epoch 540, train loss: 1.011810302734375, val loss: 1.0121166706085205, val accuracy: 0.7\n"
     ]
    },
    {
     "name": "stderr",
     "output_type": "stream",
     "text": [
      " 68%|██████▊   | 542/800 [1:22:40<39:21,  9.15s/it]"
     ]
    },
    {
     "name": "stdout",
     "output_type": "stream",
     "text": [
      "[4960.87] Epoch 541, train loss: 1.005828857421875, val loss: 1.0120866298675537, val accuracy: 0.7\n"
     ]
    },
    {
     "name": "stderr",
     "output_type": "stream",
     "text": [
      " 68%|██████▊   | 543/800 [1:22:50<39:12,  9.15s/it]"
     ]
    },
    {
     "name": "stdout",
     "output_type": "stream",
     "text": [
      "[4970.02] Epoch 542, train loss: 1.006805419921875, val loss: 1.0117323398590088, val accuracy: 0.7\n"
     ]
    },
    {
     "name": "stderr",
     "output_type": "stream",
     "text": [
      " 68%|██████▊   | 544/800 [1:22:59<39:02,  9.15s/it]"
     ]
    },
    {
     "name": "stdout",
     "output_type": "stream",
     "text": [
      "[4979.17] Epoch 543, train loss: 1.0109405517578125, val loss: 1.0119671821594238, val accuracy: 0.7\n"
     ]
    },
    {
     "name": "stderr",
     "output_type": "stream",
     "text": [
      " 68%|██████▊   | 545/800 [1:23:08<38:53,  9.15s/it]"
     ]
    },
    {
     "name": "stdout",
     "output_type": "stream",
     "text": [
      "[4988.32] Epoch 544, train loss: 1.002899169921875, val loss: 1.01179838180542, val accuracy: 0.7\n"
     ]
    },
    {
     "name": "stderr",
     "output_type": "stream",
     "text": [
      " 68%|██████▊   | 546/800 [1:23:17<38:44,  9.15s/it]"
     ]
    },
    {
     "name": "stdout",
     "output_type": "stream",
     "text": [
      "[4997.48] Epoch 545, train loss: 1.0028228759765625, val loss: 1.0113568305969238, val accuracy: 0.7\n"
     ]
    },
    {
     "name": "stderr",
     "output_type": "stream",
     "text": [
      " 68%|██████▊   | 547/800 [1:23:26<38:35,  9.15s/it]"
     ]
    },
    {
     "name": "stdout",
     "output_type": "stream",
     "text": [
      "[5006.63] Epoch 546, train loss: 1.0125885009765625, val loss: 1.0109193325042725, val accuracy: 0.7\n"
     ]
    },
    {
     "name": "stderr",
     "output_type": "stream",
     "text": [
      " 68%|██████▊   | 548/800 [1:23:35<38:26,  9.15s/it]"
     ]
    },
    {
     "name": "stdout",
     "output_type": "stream",
     "text": [
      "[5015.78] Epoch 547, train loss: 1.0150604248046875, val loss: 1.01044499874115, val accuracy: 0.7\n"
     ]
    },
    {
     "name": "stderr",
     "output_type": "stream",
     "text": [
      " 69%|██████▊   | 549/800 [1:23:44<38:17,  9.15s/it]"
     ]
    },
    {
     "name": "stdout",
     "output_type": "stream",
     "text": [
      "[5024.94] Epoch 548, train loss: 1.0015106201171875, val loss: 1.010360836982727, val accuracy: 0.7\n"
     ]
    },
    {
     "name": "stderr",
     "output_type": "stream",
     "text": [
      " 69%|██████▉   | 550/800 [1:23:54<38:08,  9.15s/it]"
     ]
    },
    {
     "name": "stdout",
     "output_type": "stream",
     "text": [
      "[5034.09] Epoch 549, train loss: 1.0063323974609375, val loss: 1.0105760097503662, val accuracy: 0.7\n"
     ]
    },
    {
     "name": "stderr",
     "output_type": "stream",
     "text": [
      " 69%|██████▉   | 551/800 [1:24:03<37:58,  9.15s/it]"
     ]
    },
    {
     "name": "stdout",
     "output_type": "stream",
     "text": [
      "[5043.24] Epoch 550, train loss: 1.005828857421875, val loss: 1.011184573173523, val accuracy: 0.7\n"
     ]
    },
    {
     "name": "stderr",
     "output_type": "stream",
     "text": [
      " 69%|██████▉   | 552/800 [1:24:12<37:49,  9.15s/it]"
     ]
    },
    {
     "name": "stdout",
     "output_type": "stream",
     "text": [
      "[5052.39] Epoch 551, train loss: 1.0067901611328125, val loss: 1.0110493898391724, val accuracy: 0.7\n"
     ]
    },
    {
     "name": "stderr",
     "output_type": "stream",
     "text": [
      " 69%|██████▉   | 553/800 [1:24:21<37:40,  9.15s/it]"
     ]
    },
    {
     "name": "stdout",
     "output_type": "stream",
     "text": [
      "[5061.54] Epoch 552, train loss: 0.998626708984375, val loss: 1.0107827186584473, val accuracy: 0.7\n"
     ]
    },
    {
     "name": "stderr",
     "output_type": "stream",
     "text": [
      " 69%|██████▉   | 554/800 [1:24:30<37:31,  9.15s/it]"
     ]
    },
    {
     "name": "stdout",
     "output_type": "stream",
     "text": [
      "[5070.69] Epoch 553, train loss: 0.998931884765625, val loss: 1.0110044479370117, val accuracy: 0.7\n"
     ]
    },
    {
     "name": "stderr",
     "output_type": "stream",
     "text": [
      " 69%|██████▉   | 555/800 [1:24:39<37:22,  9.15s/it]"
     ]
    },
    {
     "name": "stdout",
     "output_type": "stream",
     "text": [
      "[5079.85] Epoch 554, train loss: 1.0121917724609375, val loss: 1.0115028619766235, val accuracy: 0.7\n"
     ]
    },
    {
     "name": "stderr",
     "output_type": "stream",
     "text": [
      " 70%|██████▉   | 556/800 [1:24:48<37:13,  9.15s/it]"
     ]
    },
    {
     "name": "stdout",
     "output_type": "stream",
     "text": [
      "[5089.00] Epoch 555, train loss: 1.006591796875, val loss: 1.0124720335006714, val accuracy: 0.7\n"
     ]
    },
    {
     "name": "stderr",
     "output_type": "stream",
     "text": [
      " 70%|██████▉   | 557/800 [1:24:58<37:03,  9.15s/it]"
     ]
    },
    {
     "name": "stdout",
     "output_type": "stream",
     "text": [
      "[5098.15] Epoch 556, train loss: 0.9964447021484375, val loss: 1.0130703449249268, val accuracy: 0.7\n"
     ]
    },
    {
     "name": "stderr",
     "output_type": "stream",
     "text": [
      " 70%|██████▉   | 558/800 [1:25:07<36:54,  9.15s/it]"
     ]
    },
    {
     "name": "stdout",
     "output_type": "stream",
     "text": [
      "[5107.30] Epoch 557, train loss: 1.0066757202148438, val loss: 1.0133287906646729, val accuracy: 0.7\n"
     ]
    },
    {
     "name": "stderr",
     "output_type": "stream",
     "text": [
      " 70%|██████▉   | 559/800 [1:25:16<36:45,  9.15s/it]"
     ]
    },
    {
     "name": "stdout",
     "output_type": "stream",
     "text": [
      "[5116.46] Epoch 558, train loss: 1.0032196044921875, val loss: 1.013077974319458, val accuracy: 0.7\n"
     ]
    },
    {
     "name": "stderr",
     "output_type": "stream",
     "text": [
      " 70%|███████   | 560/800 [1:25:25<36:36,  9.15s/it]"
     ]
    },
    {
     "name": "stdout",
     "output_type": "stream",
     "text": [
      "[5125.61] Epoch 559, train loss: 1.010284423828125, val loss: 1.01279878616333, val accuracy: 0.7\n"
     ]
    },
    {
     "name": "stderr",
     "output_type": "stream",
     "text": [
      " 70%|███████   | 561/800 [1:25:34<36:27,  9.15s/it]"
     ]
    },
    {
     "name": "stdout",
     "output_type": "stream",
     "text": [
      "[5134.76] Epoch 560, train loss: 1.005859375, val loss: 1.0123965740203857, val accuracy: 0.7\n"
     ]
    },
    {
     "name": "stderr",
     "output_type": "stream",
     "text": [
      " 70%|███████   | 562/800 [1:25:43<36:18,  9.15s/it]"
     ]
    },
    {
     "name": "stdout",
     "output_type": "stream",
     "text": [
      "[5143.91] Epoch 561, train loss: 1.005279541015625, val loss: 1.0120844841003418, val accuracy: 0.7\n"
     ]
    },
    {
     "name": "stderr",
     "output_type": "stream",
     "text": [
      " 70%|███████   | 563/800 [1:25:53<36:09,  9.15s/it]"
     ]
    },
    {
     "name": "stdout",
     "output_type": "stream",
     "text": [
      "[5153.07] Epoch 562, train loss: 1.0054168701171875, val loss: 1.011716604232788, val accuracy: 0.7\n"
     ]
    },
    {
     "name": "stderr",
     "output_type": "stream",
     "text": [
      " 70%|███████   | 564/800 [1:26:02<36:00,  9.15s/it]"
     ]
    },
    {
     "name": "stdout",
     "output_type": "stream",
     "text": [
      "[5162.22] Epoch 563, train loss: 1.0005645751953125, val loss: 1.0111773014068604, val accuracy: 0.7\n"
     ]
    },
    {
     "name": "stderr",
     "output_type": "stream",
     "text": [
      " 71%|███████   | 565/800 [1:26:11<35:50,  9.15s/it]"
     ]
    },
    {
     "name": "stdout",
     "output_type": "stream",
     "text": [
      "[5171.37] Epoch 564, train loss: 0.9990692138671875, val loss: 1.0107203722000122, val accuracy: 0.7\n"
     ]
    },
    {
     "name": "stderr",
     "output_type": "stream",
     "text": [
      " 71%|███████   | 566/800 [1:26:20<35:41,  9.15s/it]"
     ]
    },
    {
     "name": "stdout",
     "output_type": "stream",
     "text": [
      "[5180.53] Epoch 565, train loss: 1.01104736328125, val loss: 1.0110671520233154, val accuracy: 0.7\n"
     ]
    },
    {
     "name": "stderr",
     "output_type": "stream",
     "text": [
      " 71%|███████   | 567/800 [1:26:29<35:32,  9.15s/it]"
     ]
    },
    {
     "name": "stdout",
     "output_type": "stream",
     "text": [
      "[5189.68] Epoch 566, train loss: 1.00390625, val loss: 1.0123302936553955, val accuracy: 0.7\n"
     ]
    },
    {
     "name": "stderr",
     "output_type": "stream",
     "text": [
      " 71%|███████   | 568/800 [1:26:38<35:23,  9.15s/it]"
     ]
    },
    {
     "name": "stdout",
     "output_type": "stream",
     "text": [
      "[5198.83] Epoch 567, train loss: 1.0046234130859375, val loss: 1.0132312774658203, val accuracy: 0.7\n"
     ]
    },
    {
     "name": "stderr",
     "output_type": "stream",
     "text": [
      " 71%|███████   | 569/800 [1:26:47<35:14,  9.15s/it]"
     ]
    },
    {
     "name": "stdout",
     "output_type": "stream",
     "text": [
      "[5207.99] Epoch 568, train loss: 1.0013275146484375, val loss: 1.0137360095977783, val accuracy: 0.7\n"
     ]
    },
    {
     "name": "stderr",
     "output_type": "stream",
     "text": [
      " 71%|███████▏  | 570/800 [1:26:57<35:05,  9.15s/it]"
     ]
    },
    {
     "name": "stdout",
     "output_type": "stream",
     "text": [
      "[5217.14] Epoch 569, train loss: 1.0039215087890625, val loss: 1.013647198677063, val accuracy: 0.7\n"
     ]
    },
    {
     "name": "stderr",
     "output_type": "stream",
     "text": [
      " 71%|███████▏  | 571/800 [1:27:06<34:56,  9.15s/it]"
     ]
    },
    {
     "name": "stdout",
     "output_type": "stream",
     "text": [
      "[5226.29] Epoch 570, train loss: 0.9984893798828125, val loss: 1.0131089687347412, val accuracy: 0.7\n"
     ]
    },
    {
     "name": "stderr",
     "output_type": "stream",
     "text": [
      " 72%|███████▏  | 572/800 [1:27:15<34:47,  9.15s/it]"
     ]
    },
    {
     "name": "stdout",
     "output_type": "stream",
     "text": [
      "[5235.45] Epoch 571, train loss: 1.0051116943359375, val loss: 1.0127248764038086, val accuracy: 0.7\n"
     ]
    },
    {
     "name": "stderr",
     "output_type": "stream",
     "text": [
      " 72%|███████▏  | 573/800 [1:27:24<34:37,  9.15s/it]"
     ]
    },
    {
     "name": "stdout",
     "output_type": "stream",
     "text": [
      "[5244.60] Epoch 572, train loss: 1.01495361328125, val loss: 1.0122902393341064, val accuracy: 0.7\n"
     ]
    },
    {
     "name": "stderr",
     "output_type": "stream",
     "text": [
      " 72%|███████▏  | 574/800 [1:27:33<34:28,  9.15s/it]"
     ]
    },
    {
     "name": "stdout",
     "output_type": "stream",
     "text": [
      "[5253.75] Epoch 573, train loss: 1.00726318359375, val loss: 1.0119855403900146, val accuracy: 0.7\n"
     ]
    },
    {
     "name": "stderr",
     "output_type": "stream",
     "text": [
      " 72%|███████▏  | 575/800 [1:27:42<34:19,  9.15s/it]"
     ]
    },
    {
     "name": "stdout",
     "output_type": "stream",
     "text": [
      "[5262.91] Epoch 574, train loss: 1.0014190673828125, val loss: 1.0120608806610107, val accuracy: 0.7\n"
     ]
    },
    {
     "name": "stderr",
     "output_type": "stream",
     "text": [
      " 72%|███████▏  | 576/800 [1:27:52<34:10,  9.15s/it]"
     ]
    },
    {
     "name": "stdout",
     "output_type": "stream",
     "text": [
      "[5272.06] Epoch 575, train loss: 1.005645751953125, val loss: 1.0119502544403076, val accuracy: 0.7\n"
     ]
    },
    {
     "name": "stderr",
     "output_type": "stream",
     "text": [
      " 72%|███████▏  | 577/800 [1:28:01<34:01,  9.15s/it]"
     ]
    },
    {
     "name": "stdout",
     "output_type": "stream",
     "text": [
      "[5281.21] Epoch 576, train loss: 1.0074462890625, val loss: 1.01188325881958, val accuracy: 0.7\n"
     ]
    },
    {
     "name": "stderr",
     "output_type": "stream",
     "text": [
      " 72%|███████▏  | 578/800 [1:28:10<33:52,  9.15s/it]"
     ]
    },
    {
     "name": "stdout",
     "output_type": "stream",
     "text": [
      "[5290.37] Epoch 577, train loss: 1.0066986083984375, val loss: 1.0117723941802979, val accuracy: 0.7\n"
     ]
    },
    {
     "name": "stderr",
     "output_type": "stream",
     "text": [
      " 72%|███████▏  | 579/800 [1:28:19<33:42,  9.15s/it]"
     ]
    },
    {
     "name": "stdout",
     "output_type": "stream",
     "text": [
      "[5299.52] Epoch 578, train loss: 1.01190185546875, val loss: 1.011623740196228, val accuracy: 0.7\n"
     ]
    },
    {
     "name": "stderr",
     "output_type": "stream",
     "text": [
      " 72%|███████▎  | 580/800 [1:28:28<33:33,  9.15s/it]"
     ]
    },
    {
     "name": "stdout",
     "output_type": "stream",
     "text": [
      "[5308.67] Epoch 579, train loss: 1.0022735595703125, val loss: 1.0115644931793213, val accuracy: 0.7\n"
     ]
    },
    {
     "name": "stderr",
     "output_type": "stream",
     "text": [
      " 73%|███████▎  | 581/800 [1:28:37<33:24,  9.15s/it]"
     ]
    },
    {
     "name": "stdout",
     "output_type": "stream",
     "text": [
      "[5317.83] Epoch 580, train loss: 1.0023040771484375, val loss: 1.0116021633148193, val accuracy: 0.7\n"
     ]
    },
    {
     "name": "stderr",
     "output_type": "stream",
     "text": [
      " 73%|███████▎  | 582/800 [1:28:46<33:15,  9.15s/it]"
     ]
    },
    {
     "name": "stdout",
     "output_type": "stream",
     "text": [
      "[5326.98] Epoch 581, train loss: 1.0029678344726562, val loss: 1.0118095874786377, val accuracy: 0.7\n"
     ]
    },
    {
     "name": "stderr",
     "output_type": "stream",
     "text": [
      " 73%|███████▎  | 583/800 [1:28:56<33:06,  9.15s/it]"
     ]
    },
    {
     "name": "stdout",
     "output_type": "stream",
     "text": [
      "[5336.13] Epoch 582, train loss: 1.0088348388671875, val loss: 1.0120913982391357, val accuracy: 0.7\n"
     ]
    },
    {
     "name": "stderr",
     "output_type": "stream",
     "text": [
      " 73%|███████▎  | 584/800 [1:29:05<32:56,  9.15s/it]"
     ]
    },
    {
     "name": "stdout",
     "output_type": "stream",
     "text": [
      "[5345.29] Epoch 583, train loss: 1.00103759765625, val loss: 1.012446403503418, val accuracy: 0.7\n"
     ]
    },
    {
     "name": "stderr",
     "output_type": "stream",
     "text": [
      " 73%|███████▎  | 585/800 [1:29:14<32:47,  9.15s/it]"
     ]
    },
    {
     "name": "stdout",
     "output_type": "stream",
     "text": [
      "[5354.44] Epoch 584, train loss: 0.998687744140625, val loss: 1.0130183696746826, val accuracy: 0.7\n"
     ]
    },
    {
     "name": "stderr",
     "output_type": "stream",
     "text": [
      " 73%|███████▎  | 586/800 [1:29:23<32:38,  9.15s/it]"
     ]
    },
    {
     "name": "stdout",
     "output_type": "stream",
     "text": [
      "[5363.59] Epoch 585, train loss: 1.0008697509765625, val loss: 1.0134915113449097, val accuracy: 0.7\n"
     ]
    },
    {
     "name": "stderr",
     "output_type": "stream",
     "text": [
      " 73%|███████▎  | 587/800 [1:29:32<32:29,  9.15s/it]"
     ]
    },
    {
     "name": "stdout",
     "output_type": "stream",
     "text": [
      "[5372.74] Epoch 586, train loss: 1.00408935546875, val loss: 1.0135517120361328, val accuracy: 0.7\n"
     ]
    },
    {
     "name": "stderr",
     "output_type": "stream",
     "text": [
      " 74%|███████▎  | 588/800 [1:29:41<32:20,  9.15s/it]"
     ]
    },
    {
     "name": "stdout",
     "output_type": "stream",
     "text": [
      "[5381.90] Epoch 587, train loss: 0.999114990234375, val loss: 1.0137178897857666, val accuracy: 0.7\n"
     ]
    },
    {
     "name": "stderr",
     "output_type": "stream",
     "text": [
      " 74%|███████▎  | 589/800 [1:29:51<32:11,  9.15s/it]"
     ]
    },
    {
     "name": "stdout",
     "output_type": "stream",
     "text": [
      "[5391.05] Epoch 588, train loss: 1.001068115234375, val loss: 1.0137306451797485, val accuracy: 0.7\n"
     ]
    },
    {
     "name": "stderr",
     "output_type": "stream",
     "text": [
      " 74%|███████▍  | 590/800 [1:30:00<32:02,  9.15s/it]"
     ]
    },
    {
     "name": "stdout",
     "output_type": "stream",
     "text": [
      "[5400.20] Epoch 589, train loss: 1.01019287109375, val loss: 1.0136864185333252, val accuracy: 0.7\n"
     ]
    },
    {
     "name": "stderr",
     "output_type": "stream",
     "text": [
      " 74%|███████▍  | 591/800 [1:30:09<31:52,  9.15s/it]"
     ]
    },
    {
     "name": "stdout",
     "output_type": "stream",
     "text": [
      "[5409.35] Epoch 590, train loss: 1.0004730224609375, val loss: 1.0137794017791748, val accuracy: 0.7\n"
     ]
    },
    {
     "name": "stderr",
     "output_type": "stream",
     "text": [
      " 74%|███████▍  | 592/800 [1:30:18<31:43,  9.15s/it]"
     ]
    },
    {
     "name": "stdout",
     "output_type": "stream",
     "text": [
      "[5418.51] Epoch 591, train loss: 1.0051116943359375, val loss: 1.0136802196502686, val accuracy: 0.7\n"
     ]
    },
    {
     "name": "stderr",
     "output_type": "stream",
     "text": [
      " 74%|███████▍  | 593/800 [1:30:27<31:34,  9.15s/it]"
     ]
    },
    {
     "name": "stdout",
     "output_type": "stream",
     "text": [
      "[5427.66] Epoch 592, train loss: 1.002471923828125, val loss: 1.0132930278778076, val accuracy: 0.7\n"
     ]
    },
    {
     "name": "stderr",
     "output_type": "stream",
     "text": [
      " 74%|███████▍  | 594/800 [1:30:36<31:25,  9.15s/it]"
     ]
    },
    {
     "name": "stdout",
     "output_type": "stream",
     "text": [
      "[5436.81] Epoch 593, train loss: 1.010833740234375, val loss: 1.0132787227630615, val accuracy: 0.7\n"
     ]
    },
    {
     "name": "stderr",
     "output_type": "stream",
     "text": [
      " 74%|███████▍  | 595/800 [1:30:45<31:16,  9.15s/it]"
     ]
    },
    {
     "name": "stdout",
     "output_type": "stream",
     "text": [
      "[5445.96] Epoch 594, train loss: 1.00909423828125, val loss: 1.0131616592407227, val accuracy: 0.7\n"
     ]
    },
    {
     "name": "stderr",
     "output_type": "stream",
     "text": [
      " 74%|███████▍  | 596/800 [1:30:55<31:07,  9.15s/it]"
     ]
    },
    {
     "name": "stdout",
     "output_type": "stream",
     "text": [
      "[5455.12] Epoch 595, train loss: 1.00762939453125, val loss: 1.0131182670593262, val accuracy: 0.7\n"
     ]
    },
    {
     "name": "stderr",
     "output_type": "stream",
     "text": [
      " 75%|███████▍  | 597/800 [1:31:04<30:57,  9.15s/it]"
     ]
    },
    {
     "name": "stdout",
     "output_type": "stream",
     "text": [
      "[5464.27] Epoch 596, train loss: 1.0077667236328125, val loss: 1.0129979848861694, val accuracy: 0.7\n"
     ]
    },
    {
     "name": "stderr",
     "output_type": "stream",
     "text": [
      " 75%|███████▍  | 598/800 [1:31:13<30:48,  9.15s/it]"
     ]
    },
    {
     "name": "stdout",
     "output_type": "stream",
     "text": [
      "[5473.42] Epoch 597, train loss: 1.0156707763671875, val loss: 1.0129210948944092, val accuracy: 0.7\n"
     ]
    },
    {
     "name": "stderr",
     "output_type": "stream",
     "text": [
      " 75%|███████▍  | 599/800 [1:31:22<30:39,  9.15s/it]"
     ]
    },
    {
     "name": "stdout",
     "output_type": "stream",
     "text": [
      "[5482.57] Epoch 598, train loss: 1.0046844482421875, val loss: 1.0127794742584229, val accuracy: 0.7\n"
     ]
    },
    {
     "name": "stderr",
     "output_type": "stream",
     "text": [
      " 75%|███████▌  | 600/800 [1:31:31<30:30,  9.15s/it]"
     ]
    },
    {
     "name": "stdout",
     "output_type": "stream",
     "text": [
      "[5491.73] Epoch 599, train loss: 1.00518798828125, val loss: 1.0127167701721191, val accuracy: 0.7\n"
     ]
    },
    {
     "name": "stderr",
     "output_type": "stream",
     "text": [
      " 75%|███████▌  | 601/800 [1:31:40<30:21,  9.15s/it]"
     ]
    },
    {
     "name": "stdout",
     "output_type": "stream",
     "text": [
      "[5500.88] Epoch 600, train loss: 1.012542724609375, val loss: 1.0126938819885254, val accuracy: 0.7\n"
     ]
    },
    {
     "name": "stderr",
     "output_type": "stream",
     "text": [
      " 75%|███████▌  | 602/800 [1:31:50<30:12,  9.15s/it]"
     ]
    },
    {
     "name": "stdout",
     "output_type": "stream",
     "text": [
      "[5510.03] Epoch 601, train loss: 0.9985198974609375, val loss: 1.012773036956787, val accuracy: 0.7\n"
     ]
    },
    {
     "name": "stderr",
     "output_type": "stream",
     "text": [
      " 75%|███████▌  | 603/800 [1:31:59<30:02,  9.15s/it]"
     ]
    },
    {
     "name": "stdout",
     "output_type": "stream",
     "text": [
      "[5519.18] Epoch 602, train loss: 1.0042266845703125, val loss: 1.0126769542694092, val accuracy: 0.7\n"
     ]
    },
    {
     "name": "stderr",
     "output_type": "stream",
     "text": [
      " 76%|███████▌  | 604/800 [1:32:08<29:53,  9.15s/it]"
     ]
    },
    {
     "name": "stdout",
     "output_type": "stream",
     "text": [
      "[5528.33] Epoch 603, train loss: 0.9977493286132812, val loss: 1.0126889944076538, val accuracy: 0.7\n"
     ]
    },
    {
     "name": "stderr",
     "output_type": "stream",
     "text": [
      " 76%|███████▌  | 605/800 [1:32:17<29:44,  9.15s/it]"
     ]
    },
    {
     "name": "stdout",
     "output_type": "stream",
     "text": [
      "[5537.48] Epoch 604, train loss: 0.99822998046875, val loss: 1.0131056308746338, val accuracy: 0.7\n"
     ]
    },
    {
     "name": "stderr",
     "output_type": "stream",
     "text": [
      " 76%|███████▌  | 606/800 [1:32:26<29:35,  9.15s/it]"
     ]
    },
    {
     "name": "stdout",
     "output_type": "stream",
     "text": [
      "[5546.64] Epoch 605, train loss: 1.0118255615234375, val loss: 1.0136363506317139, val accuracy: 0.7\n"
     ]
    },
    {
     "name": "stderr",
     "output_type": "stream",
     "text": [
      " 76%|███████▌  | 607/800 [1:32:35<29:26,  9.15s/it]"
     ]
    },
    {
     "name": "stdout",
     "output_type": "stream",
     "text": [
      "[5555.79] Epoch 606, train loss: 1.0076751708984375, val loss: 1.0140377283096313, val accuracy: 0.7\n"
     ]
    },
    {
     "name": "stderr",
     "output_type": "stream",
     "text": [
      " 76%|███████▌  | 608/800 [1:32:44<29:17,  9.15s/it]"
     ]
    },
    {
     "name": "stdout",
     "output_type": "stream",
     "text": [
      "[5564.94] Epoch 607, train loss: 1.0000152587890625, val loss: 1.0142321586608887, val accuracy: 0.7\n"
     ]
    },
    {
     "name": "stderr",
     "output_type": "stream",
     "text": [
      " 76%|███████▌  | 609/800 [1:32:54<29:07,  9.15s/it]"
     ]
    },
    {
     "name": "stdout",
     "output_type": "stream",
     "text": [
      "[5574.09] Epoch 608, train loss: 1.0037841796875, val loss: 1.013995885848999, val accuracy: 0.7\n"
     ]
    },
    {
     "name": "stderr",
     "output_type": "stream",
     "text": [
      " 76%|███████▋  | 610/800 [1:33:03<28:58,  9.15s/it]"
     ]
    },
    {
     "name": "stdout",
     "output_type": "stream",
     "text": [
      "[5583.24] Epoch 609, train loss: 1.006683349609375, val loss: 1.0135843753814697, val accuracy: 0.7\n"
     ]
    },
    {
     "name": "stderr",
     "output_type": "stream",
     "text": [
      " 76%|███████▋  | 611/800 [1:33:12<28:49,  9.15s/it]"
     ]
    },
    {
     "name": "stdout",
     "output_type": "stream",
     "text": [
      "[5592.39] Epoch 610, train loss: 1.006866455078125, val loss: 1.0131796598434448, val accuracy: 0.7\n"
     ]
    },
    {
     "name": "stderr",
     "output_type": "stream",
     "text": [
      " 76%|███████▋  | 612/800 [1:33:21<28:40,  9.15s/it]"
     ]
    },
    {
     "name": "stdout",
     "output_type": "stream",
     "text": [
      "[5601.55] Epoch 611, train loss: 0.9990615844726562, val loss: 1.0128008127212524, val accuracy: 0.7\n"
     ]
    },
    {
     "name": "stderr",
     "output_type": "stream",
     "text": [
      " 77%|███████▋  | 613/800 [1:33:30<28:31,  9.15s/it]"
     ]
    },
    {
     "name": "stdout",
     "output_type": "stream",
     "text": [
      "[5610.70] Epoch 612, train loss: 0.9991455078125, val loss: 1.012567162513733, val accuracy: 0.7\n"
     ]
    },
    {
     "name": "stderr",
     "output_type": "stream",
     "text": [
      " 77%|███████▋  | 614/800 [1:33:39<28:22,  9.15s/it]"
     ]
    },
    {
     "name": "stdout",
     "output_type": "stream",
     "text": [
      "[5619.85] Epoch 613, train loss: 1.0074920654296875, val loss: 1.0122873783111572, val accuracy: 0.7\n"
     ]
    },
    {
     "name": "stderr",
     "output_type": "stream",
     "text": [
      " 77%|███████▋  | 615/800 [1:33:48<28:13,  9.15s/it]"
     ]
    },
    {
     "name": "stdout",
     "output_type": "stream",
     "text": [
      "[5629.00] Epoch 614, train loss: 0.9957962036132812, val loss: 1.0120006799697876, val accuracy: 0.7\n"
     ]
    },
    {
     "name": "stderr",
     "output_type": "stream",
     "text": [
      " 77%|███████▋  | 616/800 [1:33:58<28:03,  9.15s/it]"
     ]
    },
    {
     "name": "stdout",
     "output_type": "stream",
     "text": [
      "[5638.15] Epoch 615, train loss: 0.9971923828125, val loss: 1.011778712272644, val accuracy: 0.7\n"
     ]
    },
    {
     "name": "stderr",
     "output_type": "stream",
     "text": [
      " 77%|███████▋  | 617/800 [1:34:07<27:54,  9.15s/it]"
     ]
    },
    {
     "name": "stdout",
     "output_type": "stream",
     "text": [
      "[5647.30] Epoch 616, train loss: 1.010009765625, val loss: 1.0113483667373657, val accuracy: 0.7\n"
     ]
    },
    {
     "name": "stderr",
     "output_type": "stream",
     "text": [
      " 77%|███████▋  | 618/800 [1:34:16<27:45,  9.15s/it]"
     ]
    },
    {
     "name": "stdout",
     "output_type": "stream",
     "text": [
      "[5656.45] Epoch 617, train loss: 1.0009918212890625, val loss: 1.010946273803711, val accuracy: 0.7\n"
     ]
    },
    {
     "name": "stderr",
     "output_type": "stream",
     "text": [
      " 77%|███████▋  | 619/800 [1:34:25<27:36,  9.15s/it]"
     ]
    },
    {
     "name": "stdout",
     "output_type": "stream",
     "text": [
      "[5665.61] Epoch 618, train loss: 1.0046539306640625, val loss: 1.0109078884124756, val accuracy: 0.7\n"
     ]
    },
    {
     "name": "stderr",
     "output_type": "stream",
     "text": [
      " 78%|███████▊  | 620/800 [1:34:34<27:27,  9.15s/it]"
     ]
    },
    {
     "name": "stdout",
     "output_type": "stream",
     "text": [
      "[5674.76] Epoch 619, train loss: 1.00030517578125, val loss: 1.0112382173538208, val accuracy: 0.7\n"
     ]
    },
    {
     "name": "stderr",
     "output_type": "stream",
     "text": [
      " 78%|███████▊  | 621/800 [1:34:43<27:18,  9.15s/it]"
     ]
    },
    {
     "name": "stdout",
     "output_type": "stream",
     "text": [
      "[5683.91] Epoch 620, train loss: 1.0060043334960938, val loss: 1.0118563175201416, val accuracy: 0.7\n"
     ]
    },
    {
     "name": "stderr",
     "output_type": "stream",
     "text": [
      " 78%|███████▊  | 622/800 [1:34:53<27:09,  9.15s/it]"
     ]
    },
    {
     "name": "stdout",
     "output_type": "stream",
     "text": [
      "[5693.07] Epoch 621, train loss: 1.0086212158203125, val loss: 1.0125367641448975, val accuracy: 0.7\n"
     ]
    },
    {
     "name": "stderr",
     "output_type": "stream",
     "text": [
      " 78%|███████▊  | 623/800 [1:35:02<26:59,  9.15s/it]"
     ]
    },
    {
     "name": "stdout",
     "output_type": "stream",
     "text": [
      "[5702.22] Epoch 622, train loss: 0.9998550415039062, val loss: 1.0129239559173584, val accuracy: 0.7\n"
     ]
    },
    {
     "name": "stderr",
     "output_type": "stream",
     "text": [
      " 78%|███████▊  | 624/800 [1:35:11<26:50,  9.15s/it]"
     ]
    },
    {
     "name": "stdout",
     "output_type": "stream",
     "text": [
      "[5711.37] Epoch 623, train loss: 1.0065460205078125, val loss: 1.0134165287017822, val accuracy: 0.7\n"
     ]
    },
    {
     "name": "stderr",
     "output_type": "stream",
     "text": [
      " 78%|███████▊  | 625/800 [1:35:20<26:41,  9.15s/it]"
     ]
    },
    {
     "name": "stdout",
     "output_type": "stream",
     "text": [
      "[5720.52] Epoch 624, train loss: 0.99664306640625, val loss: 1.0137174129486084, val accuracy: 0.7\n"
     ]
    },
    {
     "name": "stderr",
     "output_type": "stream",
     "text": [
      " 78%|███████▊  | 626/800 [1:35:29<26:32,  9.15s/it]"
     ]
    },
    {
     "name": "stdout",
     "output_type": "stream",
     "text": [
      "[5729.67] Epoch 625, train loss: 1.0034027099609375, val loss: 1.0139000415802002, val accuracy: 0.7\n"
     ]
    },
    {
     "name": "stderr",
     "output_type": "stream",
     "text": [
      " 78%|███████▊  | 627/800 [1:35:38<26:23,  9.15s/it]"
     ]
    },
    {
     "name": "stdout",
     "output_type": "stream",
     "text": [
      "[5738.83] Epoch 626, train loss: 1.00360107421875, val loss: 1.0138201713562012, val accuracy: 0.7\n"
     ]
    },
    {
     "name": "stderr",
     "output_type": "stream",
     "text": [
      " 78%|███████▊  | 628/800 [1:35:47<26:14,  9.15s/it]"
     ]
    },
    {
     "name": "stdout",
     "output_type": "stream",
     "text": [
      "[5747.98] Epoch 627, train loss: 0.9950103759765625, val loss: 1.0132932662963867, val accuracy: 0.7\n"
     ]
    },
    {
     "name": "stderr",
     "output_type": "stream",
     "text": [
      " 79%|███████▊  | 629/800 [1:35:57<26:05,  9.15s/it]"
     ]
    },
    {
     "name": "stdout",
     "output_type": "stream",
     "text": [
      "[5757.13] Epoch 628, train loss: 1.0015411376953125, val loss: 1.0127294063568115, val accuracy: 0.7\n"
     ]
    },
    {
     "name": "stderr",
     "output_type": "stream",
     "text": [
      " 79%|███████▉  | 630/800 [1:36:06<25:55,  9.15s/it]"
     ]
    },
    {
     "name": "stdout",
     "output_type": "stream",
     "text": [
      "[5766.28] Epoch 629, train loss: 1.0048065185546875, val loss: 1.0122746229171753, val accuracy: 0.7\n"
     ]
    },
    {
     "name": "stderr",
     "output_type": "stream",
     "text": [
      " 79%|███████▉  | 631/800 [1:36:15<25:46,  9.15s/it]"
     ]
    },
    {
     "name": "stdout",
     "output_type": "stream",
     "text": [
      "[5775.43] Epoch 630, train loss: 0.99237060546875, val loss: 1.0121723413467407, val accuracy: 0.7\n"
     ]
    },
    {
     "name": "stderr",
     "output_type": "stream",
     "text": [
      " 79%|███████▉  | 632/800 [1:36:24<25:37,  9.15s/it]"
     ]
    },
    {
     "name": "stdout",
     "output_type": "stream",
     "text": [
      "[5784.59] Epoch 631, train loss: 0.9979248046875, val loss: 1.01217782497406, val accuracy: 0.7\n"
     ]
    },
    {
     "name": "stderr",
     "output_type": "stream",
     "text": [
      " 79%|███████▉  | 633/800 [1:36:33<25:28,  9.15s/it]"
     ]
    },
    {
     "name": "stdout",
     "output_type": "stream",
     "text": [
      "[5793.74] Epoch 632, train loss: 1.0046539306640625, val loss: 1.0121510028839111, val accuracy: 0.7\n"
     ]
    },
    {
     "name": "stderr",
     "output_type": "stream",
     "text": [
      " 79%|███████▉  | 634/800 [1:36:42<25:19,  9.15s/it]"
     ]
    },
    {
     "name": "stdout",
     "output_type": "stream",
     "text": [
      "[5802.89] Epoch 633, train loss: 0.9933013916015625, val loss: 1.012095332145691, val accuracy: 0.7\n"
     ]
    },
    {
     "name": "stderr",
     "output_type": "stream",
     "text": [
      " 79%|███████▉  | 635/800 [1:36:52<25:10,  9.15s/it]"
     ]
    },
    {
     "name": "stdout",
     "output_type": "stream",
     "text": [
      "[5812.04] Epoch 634, train loss: 1.0056610107421875, val loss: 1.0121052265167236, val accuracy: 0.7\n"
     ]
    },
    {
     "name": "stderr",
     "output_type": "stream",
     "text": [
      " 80%|███████▉  | 636/800 [1:37:01<25:00,  9.15s/it]"
     ]
    },
    {
     "name": "stdout",
     "output_type": "stream",
     "text": [
      "[5821.20] Epoch 635, train loss: 0.994232177734375, val loss: 1.012091040611267, val accuracy: 0.7\n"
     ]
    },
    {
     "name": "stderr",
     "output_type": "stream",
     "text": [
      " 80%|███████▉  | 637/800 [1:37:10<24:51,  9.15s/it]"
     ]
    },
    {
     "name": "stdout",
     "output_type": "stream",
     "text": [
      "[5830.35] Epoch 636, train loss: 1.0045318603515625, val loss: 1.0124073028564453, val accuracy: 0.7\n"
     ]
    },
    {
     "name": "stderr",
     "output_type": "stream",
     "text": [
      " 80%|███████▉  | 638/800 [1:37:19<24:42,  9.15s/it]"
     ]
    },
    {
     "name": "stdout",
     "output_type": "stream",
     "text": [
      "[5839.50] Epoch 637, train loss: 0.9984893798828125, val loss: 1.0127397775650024, val accuracy: 0.7\n"
     ]
    },
    {
     "name": "stderr",
     "output_type": "stream",
     "text": [
      " 80%|███████▉  | 639/800 [1:37:28<24:33,  9.15s/it]"
     ]
    },
    {
     "name": "stdout",
     "output_type": "stream",
     "text": [
      "[5848.65] Epoch 638, train loss: 0.9931793212890625, val loss: 1.0131988525390625, val accuracy: 0.7\n"
     ]
    },
    {
     "name": "stderr",
     "output_type": "stream",
     "text": [
      " 80%|████████  | 640/800 [1:37:37<24:24,  9.15s/it]"
     ]
    },
    {
     "name": "stdout",
     "output_type": "stream",
     "text": [
      "[5857.81] Epoch 639, train loss: 1.0045013427734375, val loss: 1.013624906539917, val accuracy: 0.7\n"
     ]
    },
    {
     "name": "stderr",
     "output_type": "stream",
     "text": [
      " 80%|████████  | 641/800 [1:37:46<24:15,  9.15s/it]"
     ]
    },
    {
     "name": "stdout",
     "output_type": "stream",
     "text": [
      "[5866.96] Epoch 640, train loss: 1.00604248046875, val loss: 1.0140312910079956, val accuracy: 0.7\n"
     ]
    },
    {
     "name": "stderr",
     "output_type": "stream",
     "text": [
      " 80%|████████  | 642/800 [1:37:56<24:06,  9.15s/it]"
     ]
    },
    {
     "name": "stdout",
     "output_type": "stream",
     "text": [
      "[5876.11] Epoch 641, train loss: 1.0005950927734375, val loss: 1.0142407417297363, val accuracy: 0.7\n"
     ]
    },
    {
     "name": "stderr",
     "output_type": "stream",
     "text": [
      " 80%|████████  | 643/800 [1:38:05<23:57,  9.15s/it]"
     ]
    },
    {
     "name": "stdout",
     "output_type": "stream",
     "text": [
      "[5885.27] Epoch 642, train loss: 1.0053863525390625, val loss: 1.0143424272537231, val accuracy: 0.7\n"
     ]
    },
    {
     "name": "stderr",
     "output_type": "stream",
     "text": [
      " 80%|████████  | 644/800 [1:38:14<23:47,  9.15s/it]"
     ]
    },
    {
     "name": "stdout",
     "output_type": "stream",
     "text": [
      "[5894.42] Epoch 643, train loss: 0.9980239868164062, val loss: 1.0142638683319092, val accuracy: 0.7\n"
     ]
    },
    {
     "name": "stderr",
     "output_type": "stream",
     "text": [
      " 81%|████████  | 645/800 [1:38:23<23:38,  9.15s/it]"
     ]
    },
    {
     "name": "stdout",
     "output_type": "stream",
     "text": [
      "[5903.57] Epoch 644, train loss: 0.9870147705078125, val loss: 1.0141150951385498, val accuracy: 0.7\n"
     ]
    },
    {
     "name": "stderr",
     "output_type": "stream",
     "text": [
      " 81%|████████  | 646/800 [1:38:32<23:29,  9.15s/it]"
     ]
    },
    {
     "name": "stdout",
     "output_type": "stream",
     "text": [
      "[5912.73] Epoch 645, train loss: 1.0023040771484375, val loss: 1.014056921005249, val accuracy: 0.7\n"
     ]
    },
    {
     "name": "stderr",
     "output_type": "stream",
     "text": [
      " 81%|████████  | 647/800 [1:38:41<23:20,  9.15s/it]"
     ]
    },
    {
     "name": "stdout",
     "output_type": "stream",
     "text": [
      "[5921.88] Epoch 646, train loss: 1.005950927734375, val loss: 1.0139524936676025, val accuracy: 0.7\n"
     ]
    },
    {
     "name": "stderr",
     "output_type": "stream",
     "text": [
      " 81%|████████  | 648/800 [1:38:51<23:11,  9.15s/it]"
     ]
    },
    {
     "name": "stdout",
     "output_type": "stream",
     "text": [
      "[5931.03] Epoch 647, train loss: 0.9955291748046875, val loss: 1.013633131980896, val accuracy: 0.7\n"
     ]
    },
    {
     "name": "stderr",
     "output_type": "stream",
     "text": [
      " 81%|████████  | 649/800 [1:39:00<23:02,  9.15s/it]"
     ]
    },
    {
     "name": "stdout",
     "output_type": "stream",
     "text": [
      "[5940.18] Epoch 648, train loss: 1.0026016235351562, val loss: 1.0133240222930908, val accuracy: 0.7\n"
     ]
    },
    {
     "name": "stderr",
     "output_type": "stream",
     "text": [
      " 81%|████████▏ | 650/800 [1:39:09<22:53,  9.15s/it]"
     ]
    },
    {
     "name": "stdout",
     "output_type": "stream",
     "text": [
      "[5949.34] Epoch 649, train loss: 1.00567626953125, val loss: 1.0131064653396606, val accuracy: 0.7\n"
     ]
    },
    {
     "name": "stderr",
     "output_type": "stream",
     "text": [
      " 81%|████████▏ | 651/800 [1:39:18<22:43,  9.15s/it]"
     ]
    },
    {
     "name": "stdout",
     "output_type": "stream",
     "text": [
      "[5958.49] Epoch 650, train loss: 1.0020599365234375, val loss: 1.0130221843719482, val accuracy: 0.7\n"
     ]
    },
    {
     "name": "stderr",
     "output_type": "stream",
     "text": [
      " 82%|████████▏ | 652/800 [1:39:27<22:34,  9.15s/it]"
     ]
    },
    {
     "name": "stdout",
     "output_type": "stream",
     "text": [
      "[5967.64] Epoch 651, train loss: 1.0076141357421875, val loss: 1.0130336284637451, val accuracy: 0.7\n"
     ]
    },
    {
     "name": "stderr",
     "output_type": "stream",
     "text": [
      " 82%|████████▏ | 653/800 [1:39:36<22:25,  9.15s/it]"
     ]
    },
    {
     "name": "stdout",
     "output_type": "stream",
     "text": [
      "[5976.80] Epoch 652, train loss: 1.001800537109375, val loss: 1.0131072998046875, val accuracy: 0.7\n"
     ]
    },
    {
     "name": "stderr",
     "output_type": "stream",
     "text": [
      " 82%|████████▏ | 654/800 [1:39:45<22:16,  9.15s/it]"
     ]
    },
    {
     "name": "stdout",
     "output_type": "stream",
     "text": [
      "[5985.95] Epoch 653, train loss: 1.0016326904296875, val loss: 1.01317298412323, val accuracy: 0.7\n"
     ]
    },
    {
     "name": "stderr",
     "output_type": "stream",
     "text": [
      " 82%|████████▏ | 655/800 [1:39:55<22:07,  9.15s/it]"
     ]
    },
    {
     "name": "stdout",
     "output_type": "stream",
     "text": [
      "[5995.10] Epoch 654, train loss: 1.0016632080078125, val loss: 1.0130538940429688, val accuracy: 0.7\n"
     ]
    },
    {
     "name": "stderr",
     "output_type": "stream",
     "text": [
      " 82%|████████▏ | 656/800 [1:40:04<21:58,  9.15s/it]"
     ]
    },
    {
     "name": "stdout",
     "output_type": "stream",
     "text": [
      "[6004.26] Epoch 655, train loss: 1.001190185546875, val loss: 1.0129289627075195, val accuracy: 0.7\n"
     ]
    },
    {
     "name": "stderr",
     "output_type": "stream",
     "text": [
      " 82%|████████▏ | 657/800 [1:40:13<21:48,  9.15s/it]"
     ]
    },
    {
     "name": "stdout",
     "output_type": "stream",
     "text": [
      "[6013.41] Epoch 656, train loss: 1.0000686645507812, val loss: 1.0127900838851929, val accuracy: 0.7\n"
     ]
    },
    {
     "name": "stderr",
     "output_type": "stream",
     "text": [
      " 82%|████████▏ | 658/800 [1:40:22<21:39,  9.15s/it]"
     ]
    },
    {
     "name": "stdout",
     "output_type": "stream",
     "text": [
      "[6022.56] Epoch 657, train loss: 0.9933624267578125, val loss: 1.0127109289169312, val accuracy: 0.7\n"
     ]
    },
    {
     "name": "stderr",
     "output_type": "stream",
     "text": [
      " 82%|████████▏ | 659/800 [1:40:31<21:30,  9.15s/it]"
     ]
    },
    {
     "name": "stdout",
     "output_type": "stream",
     "text": [
      "[6031.71] Epoch 658, train loss: 1.0021820068359375, val loss: 1.0127220153808594, val accuracy: 0.7\n"
     ]
    },
    {
     "name": "stderr",
     "output_type": "stream",
     "text": [
      " 82%|████████▎ | 660/800 [1:40:40<21:21,  9.15s/it]"
     ]
    },
    {
     "name": "stdout",
     "output_type": "stream",
     "text": [
      "[6040.87] Epoch 659, train loss: 1.0053558349609375, val loss: 1.0127547979354858, val accuracy: 0.7\n"
     ]
    },
    {
     "name": "stderr",
     "output_type": "stream",
     "text": [
      " 83%|████████▎ | 661/800 [1:40:50<21:12,  9.15s/it]"
     ]
    },
    {
     "name": "stdout",
     "output_type": "stream",
     "text": [
      "[6050.02] Epoch 660, train loss: 1.00433349609375, val loss: 1.0129605531692505, val accuracy: 0.7\n"
     ]
    },
    {
     "name": "stderr",
     "output_type": "stream",
     "text": [
      " 83%|████████▎ | 662/800 [1:40:59<21:03,  9.15s/it]"
     ]
    },
    {
     "name": "stdout",
     "output_type": "stream",
     "text": [
      "[6059.17] Epoch 661, train loss: 1.0103302001953125, val loss: 1.0131471157073975, val accuracy: 0.7\n"
     ]
    },
    {
     "name": "stderr",
     "output_type": "stream",
     "text": [
      " 83%|████████▎ | 663/800 [1:41:08<20:54,  9.15s/it]"
     ]
    },
    {
     "name": "stdout",
     "output_type": "stream",
     "text": [
      "[6068.33] Epoch 662, train loss: 0.9996185302734375, val loss: 1.0133001804351807, val accuracy: 0.7\n"
     ]
    },
    {
     "name": "stderr",
     "output_type": "stream",
     "text": [
      " 83%|████████▎ | 664/800 [1:41:17<20:44,  9.15s/it]"
     ]
    },
    {
     "name": "stdout",
     "output_type": "stream",
     "text": [
      "[6077.48] Epoch 663, train loss: 1.0022048950195312, val loss: 1.0134267807006836, val accuracy: 0.7\n"
     ]
    },
    {
     "name": "stderr",
     "output_type": "stream",
     "text": [
      " 83%|████████▎ | 665/800 [1:41:26<20:35,  9.15s/it]"
     ]
    },
    {
     "name": "stdout",
     "output_type": "stream",
     "text": [
      "[6086.63] Epoch 664, train loss: 0.9988555908203125, val loss: 1.0135071277618408, val accuracy: 0.7\n"
     ]
    },
    {
     "name": "stderr",
     "output_type": "stream",
     "text": [
      " 83%|████████▎ | 666/800 [1:41:35<20:26,  9.15s/it]"
     ]
    },
    {
     "name": "stdout",
     "output_type": "stream",
     "text": [
      "[6095.79] Epoch 665, train loss: 1.0103912353515625, val loss: 1.0135128498077393, val accuracy: 0.7\n"
     ]
    },
    {
     "name": "stderr",
     "output_type": "stream",
     "text": [
      " 83%|████████▎ | 667/800 [1:41:44<20:17,  9.15s/it]"
     ]
    },
    {
     "name": "stdout",
     "output_type": "stream",
     "text": [
      "[6104.94] Epoch 666, train loss: 1.0043792724609375, val loss: 1.0134533643722534, val accuracy: 0.7\n"
     ]
    },
    {
     "name": "stderr",
     "output_type": "stream",
     "text": [
      " 84%|████████▎ | 668/800 [1:41:54<20:08,  9.15s/it]"
     ]
    },
    {
     "name": "stdout",
     "output_type": "stream",
     "text": [
      "[6114.09] Epoch 667, train loss: 1.0032196044921875, val loss: 1.0133492946624756, val accuracy: 0.7\n"
     ]
    },
    {
     "name": "stderr",
     "output_type": "stream",
     "text": [
      " 84%|████████▎ | 669/800 [1:42:03<19:59,  9.15s/it]"
     ]
    },
    {
     "name": "stdout",
     "output_type": "stream",
     "text": [
      "[6123.25] Epoch 668, train loss: 1.002044677734375, val loss: 1.0130952596664429, val accuracy: 0.7\n"
     ]
    },
    {
     "name": "stderr",
     "output_type": "stream",
     "text": [
      " 84%|████████▍ | 670/800 [1:42:12<19:49,  9.15s/it]"
     ]
    },
    {
     "name": "stdout",
     "output_type": "stream",
     "text": [
      "[6132.40] Epoch 669, train loss: 1.0029449462890625, val loss: 1.0127921104431152, val accuracy: 0.7\n"
     ]
    },
    {
     "name": "stderr",
     "output_type": "stream",
     "text": [
      " 84%|████████▍ | 671/800 [1:42:21<19:40,  9.15s/it]"
     ]
    },
    {
     "name": "stdout",
     "output_type": "stream",
     "text": [
      "[6141.56] Epoch 670, train loss: 1.0019912719726562, val loss: 1.012519121170044, val accuracy: 0.7\n"
     ]
    },
    {
     "name": "stderr",
     "output_type": "stream",
     "text": [
      " 84%|████████▍ | 672/800 [1:42:30<19:31,  9.15s/it]"
     ]
    },
    {
     "name": "stdout",
     "output_type": "stream",
     "text": [
      "[6150.71] Epoch 671, train loss: 1.00408935546875, val loss: 1.0122054815292358, val accuracy: 0.7\n"
     ]
    },
    {
     "name": "stderr",
     "output_type": "stream",
     "text": [
      " 84%|████████▍ | 673/800 [1:42:39<19:22,  9.15s/it]"
     ]
    },
    {
     "name": "stdout",
     "output_type": "stream",
     "text": [
      "[6159.86] Epoch 672, train loss: 0.9984283447265625, val loss: 1.0120172500610352, val accuracy: 0.7\n"
     ]
    },
    {
     "name": "stderr",
     "output_type": "stream",
     "text": [
      " 84%|████████▍ | 674/800 [1:42:49<19:13,  9.15s/it]"
     ]
    },
    {
     "name": "stdout",
     "output_type": "stream",
     "text": [
      "[6169.02] Epoch 673, train loss: 1.0048370361328125, val loss: 1.0119329690933228, val accuracy: 0.7\n"
     ]
    },
    {
     "name": "stderr",
     "output_type": "stream",
     "text": [
      " 84%|████████▍ | 675/800 [1:42:58<19:04,  9.15s/it]"
     ]
    },
    {
     "name": "stdout",
     "output_type": "stream",
     "text": [
      "[6178.17] Epoch 674, train loss: 0.99786376953125, val loss: 1.0118604898452759, val accuracy: 0.7\n"
     ]
    },
    {
     "name": "stderr",
     "output_type": "stream",
     "text": [
      " 84%|████████▍ | 676/800 [1:43:07<18:55,  9.15s/it]"
     ]
    },
    {
     "name": "stdout",
     "output_type": "stream",
     "text": [
      "[6187.32] Epoch 675, train loss: 1.0046844482421875, val loss: 1.0118446350097656, val accuracy: 0.7\n"
     ]
    },
    {
     "name": "stderr",
     "output_type": "stream",
     "text": [
      " 85%|████████▍ | 677/800 [1:43:16<18:45,  9.15s/it]"
     ]
    },
    {
     "name": "stdout",
     "output_type": "stream",
     "text": [
      "[6196.48] Epoch 676, train loss: 1.00738525390625, val loss: 1.0118480920791626, val accuracy: 0.7\n"
     ]
    },
    {
     "name": "stderr",
     "output_type": "stream",
     "text": [
      " 85%|████████▍ | 678/800 [1:43:25<18:36,  9.15s/it]"
     ]
    },
    {
     "name": "stdout",
     "output_type": "stream",
     "text": [
      "[6205.63] Epoch 677, train loss: 0.9930343627929688, val loss: 1.011915683746338, val accuracy: 0.7\n"
     ]
    },
    {
     "name": "stderr",
     "output_type": "stream",
     "text": [
      " 85%|████████▍ | 679/800 [1:43:34<18:27,  9.15s/it]"
     ]
    },
    {
     "name": "stdout",
     "output_type": "stream",
     "text": [
      "[6214.78] Epoch 678, train loss: 1.0001602172851562, val loss: 1.0119510889053345, val accuracy: 0.7\n"
     ]
    },
    {
     "name": "stderr",
     "output_type": "stream",
     "text": [
      " 85%|████████▌ | 680/800 [1:43:43<18:18,  9.15s/it]"
     ]
    },
    {
     "name": "stdout",
     "output_type": "stream",
     "text": [
      "[6223.93] Epoch 679, train loss: 1.001953125, val loss: 1.0119515657424927, val accuracy: 0.7\n"
     ]
    },
    {
     "name": "stderr",
     "output_type": "stream",
     "text": [
      " 85%|████████▌ | 681/800 [1:43:53<18:09,  9.15s/it]"
     ]
    },
    {
     "name": "stdout",
     "output_type": "stream",
     "text": [
      "[6233.09] Epoch 680, train loss: 0.9970855712890625, val loss: 1.0119450092315674, val accuracy: 0.7\n"
     ]
    },
    {
     "name": "stderr",
     "output_type": "stream",
     "text": [
      " 85%|████████▌ | 682/800 [1:44:02<18:00,  9.15s/it]"
     ]
    },
    {
     "name": "stdout",
     "output_type": "stream",
     "text": [
      "[6242.24] Epoch 681, train loss: 0.9981613159179688, val loss: 1.0119774341583252, val accuracy: 0.7\n"
     ]
    },
    {
     "name": "stderr",
     "output_type": "stream",
     "text": [
      " 85%|████████▌ | 683/800 [1:44:11<17:50,  9.15s/it]"
     ]
    },
    {
     "name": "stdout",
     "output_type": "stream",
     "text": [
      "[6251.39] Epoch 682, train loss: 1.00634765625, val loss: 1.0120058059692383, val accuracy: 0.7\n"
     ]
    },
    {
     "name": "stderr",
     "output_type": "stream",
     "text": [
      " 86%|████████▌ | 684/800 [1:44:20<17:41,  9.15s/it]"
     ]
    },
    {
     "name": "stdout",
     "output_type": "stream",
     "text": [
      "[6260.54] Epoch 683, train loss: 0.9929962158203125, val loss: 1.0120786428451538, val accuracy: 0.7\n"
     ]
    },
    {
     "name": "stderr",
     "output_type": "stream",
     "text": [
      " 86%|████████▌ | 685/800 [1:44:29<17:32,  9.15s/it]"
     ]
    },
    {
     "name": "stdout",
     "output_type": "stream",
     "text": [
      "[6269.70] Epoch 684, train loss: 0.9963455200195312, val loss: 1.012156367301941, val accuracy: 0.7\n"
     ]
    },
    {
     "name": "stderr",
     "output_type": "stream",
     "text": [
      " 86%|████████▌ | 686/800 [1:44:38<17:23,  9.15s/it]"
     ]
    },
    {
     "name": "stdout",
     "output_type": "stream",
     "text": [
      "[6278.85] Epoch 685, train loss: 0.9949874877929688, val loss: 1.012235403060913, val accuracy: 0.7\n"
     ]
    },
    {
     "name": "stderr",
     "output_type": "stream",
     "text": [
      " 86%|████████▌ | 687/800 [1:44:48<17:14,  9.15s/it]"
     ]
    },
    {
     "name": "stdout",
     "output_type": "stream",
     "text": [
      "[6288.01] Epoch 686, train loss: 0.9895782470703125, val loss: 1.0122356414794922, val accuracy: 0.7\n"
     ]
    },
    {
     "name": "stderr",
     "output_type": "stream",
     "text": [
      " 86%|████████▌ | 688/800 [1:44:57<17:05,  9.15s/it]"
     ]
    },
    {
     "name": "stdout",
     "output_type": "stream",
     "text": [
      "[6297.16] Epoch 687, train loss: 1.0087890625, val loss: 1.0121842622756958, val accuracy: 0.7\n"
     ]
    },
    {
     "name": "stderr",
     "output_type": "stream",
     "text": [
      " 86%|████████▌ | 689/800 [1:45:06<16:55,  9.15s/it]"
     ]
    },
    {
     "name": "stdout",
     "output_type": "stream",
     "text": [
      "[6306.31] Epoch 688, train loss: 1.0022430419921875, val loss: 1.0120865106582642, val accuracy: 0.7\n"
     ]
    },
    {
     "name": "stderr",
     "output_type": "stream",
     "text": [
      " 86%|████████▋ | 690/800 [1:45:15<16:46,  9.15s/it]"
     ]
    },
    {
     "name": "stdout",
     "output_type": "stream",
     "text": [
      "[6315.46] Epoch 689, train loss: 0.9954376220703125, val loss: 1.0119742155075073, val accuracy: 0.7\n"
     ]
    },
    {
     "name": "stderr",
     "output_type": "stream",
     "text": [
      " 86%|████████▋ | 691/800 [1:45:24<16:37,  9.15s/it]"
     ]
    },
    {
     "name": "stdout",
     "output_type": "stream",
     "text": [
      "[6324.62] Epoch 690, train loss: 1.0020294189453125, val loss: 1.0119119882583618, val accuracy: 0.7\n"
     ]
    },
    {
     "name": "stderr",
     "output_type": "stream",
     "text": [
      " 86%|████████▋ | 692/800 [1:45:33<16:28,  9.15s/it]"
     ]
    },
    {
     "name": "stdout",
     "output_type": "stream",
     "text": [
      "[6333.77] Epoch 691, train loss: 0.99951171875, val loss: 1.0118476152420044, val accuracy: 0.7\n"
     ]
    },
    {
     "name": "stderr",
     "output_type": "stream",
     "text": [
      " 87%|████████▋ | 693/800 [1:45:42<16:19,  9.15s/it]"
     ]
    },
    {
     "name": "stdout",
     "output_type": "stream",
     "text": [
      "[6342.92] Epoch 692, train loss: 1.0032501220703125, val loss: 1.0118186473846436, val accuracy: 0.7\n"
     ]
    },
    {
     "name": "stderr",
     "output_type": "stream",
     "text": [
      " 87%|████████▋ | 694/800 [1:45:52<16:10,  9.15s/it]"
     ]
    },
    {
     "name": "stdout",
     "output_type": "stream",
     "text": [
      "[6352.07] Epoch 693, train loss: 0.999725341796875, val loss: 1.0118602514266968, val accuracy: 0.7\n"
     ]
    },
    {
     "name": "stderr",
     "output_type": "stream",
     "text": [
      " 87%|████████▋ | 695/800 [1:46:01<16:00,  9.15s/it]"
     ]
    },
    {
     "name": "stdout",
     "output_type": "stream",
     "text": [
      "[6361.23] Epoch 694, train loss: 1.0079116821289062, val loss: 1.011918544769287, val accuracy: 0.7\n"
     ]
    },
    {
     "name": "stderr",
     "output_type": "stream",
     "text": [
      " 87%|████████▋ | 696/800 [1:46:10<15:51,  9.15s/it]"
     ]
    },
    {
     "name": "stdout",
     "output_type": "stream",
     "text": [
      "[6370.38] Epoch 695, train loss: 0.99462890625, val loss: 1.0119861364364624, val accuracy: 0.7\n"
     ]
    },
    {
     "name": "stderr",
     "output_type": "stream",
     "text": [
      " 87%|████████▋ | 697/800 [1:46:19<15:42,  9.15s/it]"
     ]
    },
    {
     "name": "stdout",
     "output_type": "stream",
     "text": [
      "[6379.53] Epoch 696, train loss: 0.9928054809570312, val loss: 1.0121448040008545, val accuracy: 0.7\n"
     ]
    },
    {
     "name": "stderr",
     "output_type": "stream",
     "text": [
      " 87%|████████▋ | 698/800 [1:46:28<15:33,  9.15s/it]"
     ]
    },
    {
     "name": "stdout",
     "output_type": "stream",
     "text": [
      "[6388.68] Epoch 697, train loss: 0.9958648681640625, val loss: 1.012319564819336, val accuracy: 0.7\n"
     ]
    },
    {
     "name": "stderr",
     "output_type": "stream",
     "text": [
      " 87%|████████▋ | 699/800 [1:46:37<15:24,  9.15s/it]"
     ]
    },
    {
     "name": "stdout",
     "output_type": "stream",
     "text": [
      "[6397.84] Epoch 698, train loss: 1.003082275390625, val loss: 1.0124824047088623, val accuracy: 0.7\n"
     ]
    },
    {
     "name": "stderr",
     "output_type": "stream",
     "text": [
      " 88%|████████▊ | 700/800 [1:46:46<15:15,  9.15s/it]"
     ]
    },
    {
     "name": "stdout",
     "output_type": "stream",
     "text": [
      "[6406.99] Epoch 699, train loss: 1.0026626586914062, val loss: 1.0125882625579834, val accuracy: 0.7\n"
     ]
    },
    {
     "name": "stderr",
     "output_type": "stream",
     "text": [
      " 88%|████████▊ | 701/800 [1:46:56<15:06,  9.15s/it]"
     ]
    },
    {
     "name": "stdout",
     "output_type": "stream",
     "text": [
      "[6416.14] Epoch 700, train loss: 0.99871826171875, val loss: 1.012603521347046, val accuracy: 0.7\n"
     ]
    },
    {
     "name": "stderr",
     "output_type": "stream",
     "text": [
      " 88%|████████▊ | 702/800 [1:47:05<14:56,  9.15s/it]"
     ]
    },
    {
     "name": "stdout",
     "output_type": "stream",
     "text": [
      "[6425.30] Epoch 701, train loss: 1.001373291015625, val loss: 1.0125046968460083, val accuracy: 0.7\n"
     ]
    },
    {
     "name": "stderr",
     "output_type": "stream",
     "text": [
      " 88%|████████▊ | 703/800 [1:47:14<14:47,  9.15s/it]"
     ]
    },
    {
     "name": "stdout",
     "output_type": "stream",
     "text": [
      "[6434.45] Epoch 702, train loss: 1.0005340576171875, val loss: 1.0123612880706787, val accuracy: 0.7\n"
     ]
    },
    {
     "name": "stderr",
     "output_type": "stream",
     "text": [
      " 88%|████████▊ | 704/800 [1:47:23<14:38,  9.15s/it]"
     ]
    },
    {
     "name": "stdout",
     "output_type": "stream",
     "text": [
      "[6443.60] Epoch 703, train loss: 1.00482177734375, val loss: 1.0122606754302979, val accuracy: 0.7\n"
     ]
    },
    {
     "name": "stderr",
     "output_type": "stream",
     "text": [
      " 88%|████████▊ | 705/800 [1:47:32<14:29,  9.15s/it]"
     ]
    },
    {
     "name": "stdout",
     "output_type": "stream",
     "text": [
      "[6452.75] Epoch 704, train loss: 1.00189208984375, val loss: 1.0121605396270752, val accuracy: 0.7\n"
     ]
    },
    {
     "name": "stderr",
     "output_type": "stream",
     "text": [
      " 88%|████████▊ | 706/800 [1:47:41<14:20,  9.15s/it]"
     ]
    },
    {
     "name": "stdout",
     "output_type": "stream",
     "text": [
      "[6461.91] Epoch 705, train loss: 1.0019912719726562, val loss: 1.0120916366577148, val accuracy: 0.7\n"
     ]
    },
    {
     "name": "stderr",
     "output_type": "stream",
     "text": [
      " 88%|████████▊ | 707/800 [1:47:51<14:11,  9.15s/it]"
     ]
    },
    {
     "name": "stdout",
     "output_type": "stream",
     "text": [
      "[6471.06] Epoch 706, train loss: 1.001708984375, val loss: 1.0121114253997803, val accuracy: 0.7\n"
     ]
    },
    {
     "name": "stderr",
     "output_type": "stream",
     "text": [
      " 88%|████████▊ | 708/800 [1:48:00<14:02,  9.15s/it]"
     ]
    },
    {
     "name": "stdout",
     "output_type": "stream",
     "text": [
      "[6480.21] Epoch 707, train loss: 0.99798583984375, val loss: 1.0121278762817383, val accuracy: 0.7\n"
     ]
    },
    {
     "name": "stderr",
     "output_type": "stream",
     "text": [
      " 89%|████████▊ | 709/800 [1:48:09<13:52,  9.15s/it]"
     ]
    },
    {
     "name": "stdout",
     "output_type": "stream",
     "text": [
      "[6489.37] Epoch 708, train loss: 0.9999160766601562, val loss: 1.0121322870254517, val accuracy: 0.7\n"
     ]
    },
    {
     "name": "stderr",
     "output_type": "stream",
     "text": [
      " 89%|████████▉ | 710/800 [1:48:18<13:43,  9.15s/it]"
     ]
    },
    {
     "name": "stdout",
     "output_type": "stream",
     "text": [
      "[6498.52] Epoch 709, train loss: 1.0027618408203125, val loss: 1.0121557712554932, val accuracy: 0.7\n"
     ]
    },
    {
     "name": "stderr",
     "output_type": "stream",
     "text": [
      " 89%|████████▉ | 711/800 [1:48:27<13:34,  9.15s/it]"
     ]
    },
    {
     "name": "stdout",
     "output_type": "stream",
     "text": [
      "[6507.67] Epoch 710, train loss: 1.0019302368164062, val loss: 1.0121978521347046, val accuracy: 0.7\n"
     ]
    },
    {
     "name": "stderr",
     "output_type": "stream",
     "text": [
      " 89%|████████▉ | 712/800 [1:48:36<13:25,  9.15s/it]"
     ]
    },
    {
     "name": "stdout",
     "output_type": "stream",
     "text": [
      "[6516.82] Epoch 711, train loss: 1.0077362060546875, val loss: 1.0122098922729492, val accuracy: 0.7\n"
     ]
    },
    {
     "name": "stderr",
     "output_type": "stream",
     "text": [
      " 89%|████████▉ | 713/800 [1:48:45<13:16,  9.15s/it]"
     ]
    },
    {
     "name": "stdout",
     "output_type": "stream",
     "text": [
      "[6525.98] Epoch 712, train loss: 1.001251220703125, val loss: 1.0122253894805908, val accuracy: 0.7\n"
     ]
    },
    {
     "name": "stderr",
     "output_type": "stream",
     "text": [
      " 89%|████████▉ | 714/800 [1:48:55<13:07,  9.15s/it]"
     ]
    },
    {
     "name": "stdout",
     "output_type": "stream",
     "text": [
      "[6535.13] Epoch 713, train loss: 1.0082244873046875, val loss: 1.0122169256210327, val accuracy: 0.7\n"
     ]
    },
    {
     "name": "stderr",
     "output_type": "stream",
     "text": [
      " 89%|████████▉ | 715/800 [1:49:04<12:57,  9.15s/it]"
     ]
    },
    {
     "name": "stdout",
     "output_type": "stream",
     "text": [
      "[6544.28] Epoch 714, train loss: 0.998016357421875, val loss: 1.012205719947815, val accuracy: 0.7\n"
     ]
    },
    {
     "name": "stderr",
     "output_type": "stream",
     "text": [
      " 90%|████████▉ | 716/800 [1:49:13<12:48,  9.15s/it]"
     ]
    },
    {
     "name": "stdout",
     "output_type": "stream",
     "text": [
      "[6553.43] Epoch 715, train loss: 0.9902267456054688, val loss: 1.0122020244598389, val accuracy: 0.7\n"
     ]
    },
    {
     "name": "stderr",
     "output_type": "stream",
     "text": [
      " 90%|████████▉ | 717/800 [1:49:22<12:39,  9.15s/it]"
     ]
    },
    {
     "name": "stdout",
     "output_type": "stream",
     "text": [
      "[6562.59] Epoch 716, train loss: 1.00225830078125, val loss: 1.0121943950653076, val accuracy: 0.7\n"
     ]
    },
    {
     "name": "stderr",
     "output_type": "stream",
     "text": [
      " 90%|████████▉ | 718/800 [1:49:31<12:30,  9.15s/it]"
     ]
    },
    {
     "name": "stdout",
     "output_type": "stream",
     "text": [
      "[6571.74] Epoch 717, train loss: 1.0001220703125, val loss: 1.0122299194335938, val accuracy: 0.7\n"
     ]
    },
    {
     "name": "stderr",
     "output_type": "stream",
     "text": [
      " 90%|████████▉ | 719/800 [1:49:40<12:21,  9.15s/it]"
     ]
    },
    {
     "name": "stdout",
     "output_type": "stream",
     "text": [
      "[6580.89] Epoch 718, train loss: 1.01025390625, val loss: 1.0122590065002441, val accuracy: 0.7\n"
     ]
    },
    {
     "name": "stderr",
     "output_type": "stream",
     "text": [
      " 90%|█████████ | 720/800 [1:49:50<12:12,  9.15s/it]"
     ]
    },
    {
     "name": "stdout",
     "output_type": "stream",
     "text": [
      "[6590.05] Epoch 719, train loss: 0.9949569702148438, val loss: 1.0123376846313477, val accuracy: 0.7\n"
     ]
    },
    {
     "name": "stderr",
     "output_type": "stream",
     "text": [
      " 90%|█████████ | 721/800 [1:49:59<12:03,  9.15s/it]"
     ]
    },
    {
     "name": "stdout",
     "output_type": "stream",
     "text": [
      "[6599.20] Epoch 720, train loss: 0.9938201904296875, val loss: 1.0124285221099854, val accuracy: 0.7\n"
     ]
    },
    {
     "name": "stderr",
     "output_type": "stream",
     "text": [
      " 90%|█████████ | 722/800 [1:50:08<11:53,  9.15s/it]"
     ]
    },
    {
     "name": "stdout",
     "output_type": "stream",
     "text": [
      "[6608.35] Epoch 721, train loss: 0.9953155517578125, val loss: 1.012508511543274, val accuracy: 0.7\n"
     ]
    },
    {
     "name": "stderr",
     "output_type": "stream",
     "text": [
      " 90%|█████████ | 723/800 [1:50:17<11:44,  9.15s/it]"
     ]
    },
    {
     "name": "stdout",
     "output_type": "stream",
     "text": [
      "[6617.50] Epoch 722, train loss: 0.9984588623046875, val loss: 1.0125445127487183, val accuracy: 0.7\n"
     ]
    },
    {
     "name": "stderr",
     "output_type": "stream",
     "text": [
      " 90%|█████████ | 724/800 [1:50:26<11:35,  9.15s/it]"
     ]
    },
    {
     "name": "stdout",
     "output_type": "stream",
     "text": [
      "[6626.66] Epoch 723, train loss: 0.9951248168945312, val loss: 1.012565016746521, val accuracy: 0.7\n"
     ]
    },
    {
     "name": "stderr",
     "output_type": "stream",
     "text": [
      " 91%|█████████ | 725/800 [1:50:35<11:26,  9.15s/it]"
     ]
    },
    {
     "name": "stdout",
     "output_type": "stream",
     "text": [
      "[6635.81] Epoch 724, train loss: 0.989898681640625, val loss: 1.012553095817566, val accuracy: 0.7\n"
     ]
    },
    {
     "name": "stderr",
     "output_type": "stream",
     "text": [
      " 91%|█████████ | 726/800 [1:50:44<11:17,  9.15s/it]"
     ]
    },
    {
     "name": "stdout",
     "output_type": "stream",
     "text": [
      "[6644.96] Epoch 725, train loss: 1.0006256103515625, val loss: 1.0125014781951904, val accuracy: 0.7\n"
     ]
    },
    {
     "name": "stderr",
     "output_type": "stream",
     "text": [
      " 91%|█████████ | 727/800 [1:50:54<11:08,  9.15s/it]"
     ]
    },
    {
     "name": "stdout",
     "output_type": "stream",
     "text": [
      "[6654.11] Epoch 726, train loss: 0.99957275390625, val loss: 1.0124638080596924, val accuracy: 0.7\n"
     ]
    },
    {
     "name": "stderr",
     "output_type": "stream",
     "text": [
      " 91%|█████████ | 728/800 [1:51:03<10:58,  9.15s/it]"
     ]
    },
    {
     "name": "stdout",
     "output_type": "stream",
     "text": [
      "[6663.26] Epoch 727, train loss: 1.002105712890625, val loss: 1.012438178062439, val accuracy: 0.7\n"
     ]
    },
    {
     "name": "stderr",
     "output_type": "stream",
     "text": [
      " 91%|█████████ | 729/800 [1:51:12<10:49,  9.15s/it]"
     ]
    },
    {
     "name": "stdout",
     "output_type": "stream",
     "text": [
      "[6672.42] Epoch 728, train loss: 0.9978561401367188, val loss: 1.0124149322509766, val accuracy: 0.7\n"
     ]
    },
    {
     "name": "stderr",
     "output_type": "stream",
     "text": [
      " 91%|█████████▏| 730/800 [1:51:21<10:40,  9.15s/it]"
     ]
    },
    {
     "name": "stdout",
     "output_type": "stream",
     "text": [
      "[6681.57] Epoch 729, train loss: 0.9985809326171875, val loss: 1.0123794078826904, val accuracy: 0.7\n"
     ]
    },
    {
     "name": "stderr",
     "output_type": "stream",
     "text": [
      " 91%|█████████▏| 731/800 [1:51:30<10:31,  9.15s/it]"
     ]
    },
    {
     "name": "stdout",
     "output_type": "stream",
     "text": [
      "[6690.72] Epoch 730, train loss: 1.0033721923828125, val loss: 1.0122954845428467, val accuracy: 0.7\n"
     ]
    },
    {
     "name": "stderr",
     "output_type": "stream",
     "text": [
      " 92%|█████████▏| 732/800 [1:51:39<10:22,  9.15s/it]"
     ]
    },
    {
     "name": "stdout",
     "output_type": "stream",
     "text": [
      "[6699.88] Epoch 731, train loss: 1.0047073364257812, val loss: 1.0122019052505493, val accuracy: 0.7\n"
     ]
    },
    {
     "name": "stderr",
     "output_type": "stream",
     "text": [
      " 92%|█████████▏| 733/800 [1:51:49<10:13,  9.15s/it]"
     ]
    },
    {
     "name": "stdout",
     "output_type": "stream",
     "text": [
      "[6709.03] Epoch 732, train loss: 0.997802734375, val loss: 1.0121500492095947, val accuracy: 0.7\n"
     ]
    },
    {
     "name": "stderr",
     "output_type": "stream",
     "text": [
      " 92%|█████████▏| 734/800 [1:51:58<10:04,  9.15s/it]"
     ]
    },
    {
     "name": "stdout",
     "output_type": "stream",
     "text": [
      "[6718.18] Epoch 733, train loss: 1.0047607421875, val loss: 1.0121128559112549, val accuracy: 0.7\n"
     ]
    },
    {
     "name": "stderr",
     "output_type": "stream",
     "text": [
      " 92%|█████████▏| 735/800 [1:52:07<09:54,  9.15s/it]"
     ]
    },
    {
     "name": "stdout",
     "output_type": "stream",
     "text": [
      "[6727.33] Epoch 734, train loss: 1.0046157836914062, val loss: 1.012047529220581, val accuracy: 0.7\n"
     ]
    },
    {
     "name": "stderr",
     "output_type": "stream",
     "text": [
      " 92%|█████████▏| 736/800 [1:52:16<09:45,  9.15s/it]"
     ]
    },
    {
     "name": "stdout",
     "output_type": "stream",
     "text": [
      "[6736.48] Epoch 735, train loss: 0.9948883056640625, val loss: 1.011995553970337, val accuracy: 0.7\n"
     ]
    },
    {
     "name": "stderr",
     "output_type": "stream",
     "text": [
      " 92%|█████████▏| 737/800 [1:52:25<09:36,  9.15s/it]"
     ]
    },
    {
     "name": "stdout",
     "output_type": "stream",
     "text": [
      "[6745.64] Epoch 736, train loss: 1.001617431640625, val loss: 1.0119547843933105, val accuracy: 0.7\n"
     ]
    },
    {
     "name": "stderr",
     "output_type": "stream",
     "text": [
      " 92%|█████████▏| 738/800 [1:52:34<09:27,  9.15s/it]"
     ]
    },
    {
     "name": "stdout",
     "output_type": "stream",
     "text": [
      "[6754.79] Epoch 737, train loss: 0.999420166015625, val loss: 1.0119011402130127, val accuracy: 0.7\n"
     ]
    },
    {
     "name": "stderr",
     "output_type": "stream",
     "text": [
      " 92%|█████████▏| 739/800 [1:52:43<09:18,  9.15s/it]"
     ]
    },
    {
     "name": "stdout",
     "output_type": "stream",
     "text": [
      "[6763.94] Epoch 738, train loss: 0.9994659423828125, val loss: 1.0118627548217773, val accuracy: 0.7\n"
     ]
    },
    {
     "name": "stderr",
     "output_type": "stream",
     "text": [
      " 92%|█████████▎| 740/800 [1:52:53<09:09,  9.15s/it]"
     ]
    },
    {
     "name": "stdout",
     "output_type": "stream",
     "text": [
      "[6773.09] Epoch 739, train loss: 1.0006866455078125, val loss: 1.0118262767791748, val accuracy: 0.7\n"
     ]
    },
    {
     "name": "stderr",
     "output_type": "stream",
     "text": [
      " 93%|█████████▎| 741/800 [1:53:02<08:59,  9.15s/it]"
     ]
    },
    {
     "name": "stdout",
     "output_type": "stream",
     "text": [
      "[6782.25] Epoch 740, train loss: 0.9947967529296875, val loss: 1.0117970705032349, val accuracy: 0.7\n"
     ]
    },
    {
     "name": "stderr",
     "output_type": "stream",
     "text": [
      " 93%|█████████▎| 742/800 [1:53:11<08:50,  9.15s/it]"
     ]
    },
    {
     "name": "stdout",
     "output_type": "stream",
     "text": [
      "[6791.40] Epoch 741, train loss: 0.98931884765625, val loss: 1.0117709636688232, val accuracy: 0.7\n"
     ]
    },
    {
     "name": "stderr",
     "output_type": "stream",
     "text": [
      " 93%|█████████▎| 743/800 [1:53:20<08:41,  9.15s/it]"
     ]
    },
    {
     "name": "stdout",
     "output_type": "stream",
     "text": [
      "[6800.55] Epoch 742, train loss: 0.9964141845703125, val loss: 1.0117684602737427, val accuracy: 0.7\n"
     ]
    },
    {
     "name": "stderr",
     "output_type": "stream",
     "text": [
      " 93%|█████████▎| 744/800 [1:53:29<08:32,  9.15s/it]"
     ]
    },
    {
     "name": "stdout",
     "output_type": "stream",
     "text": [
      "[6809.70] Epoch 743, train loss: 0.996978759765625, val loss: 1.0117651224136353, val accuracy: 0.7\n"
     ]
    },
    {
     "name": "stderr",
     "output_type": "stream",
     "text": [
      " 93%|█████████▎| 745/800 [1:53:38<08:23,  9.15s/it]"
     ]
    },
    {
     "name": "stdout",
     "output_type": "stream",
     "text": [
      "[6818.86] Epoch 744, train loss: 0.9929351806640625, val loss: 1.01175057888031, val accuracy: 0.7\n"
     ]
    },
    {
     "name": "stderr",
     "output_type": "stream",
     "text": [
      " 93%|█████████▎| 746/800 [1:53:48<08:14,  9.15s/it]"
     ]
    },
    {
     "name": "stdout",
     "output_type": "stream",
     "text": [
      "[6828.01] Epoch 745, train loss: 0.99462890625, val loss: 1.0117242336273193, val accuracy: 0.7\n"
     ]
    },
    {
     "name": "stderr",
     "output_type": "stream",
     "text": [
      " 93%|█████████▎| 747/800 [1:53:57<08:05,  9.15s/it]"
     ]
    },
    {
     "name": "stdout",
     "output_type": "stream",
     "text": [
      "[6837.16] Epoch 746, train loss: 0.99755859375, val loss: 1.0116897821426392, val accuracy: 0.7\n"
     ]
    },
    {
     "name": "stderr",
     "output_type": "stream",
     "text": [
      " 94%|█████████▎| 748/800 [1:54:06<07:55,  9.15s/it]"
     ]
    },
    {
     "name": "stdout",
     "output_type": "stream",
     "text": [
      "[6846.32] Epoch 747, train loss: 0.9981689453125, val loss: 1.011651635169983, val accuracy: 0.7\n"
     ]
    },
    {
     "name": "stderr",
     "output_type": "stream",
     "text": [
      " 94%|█████████▎| 749/800 [1:54:15<07:46,  9.15s/it]"
     ]
    },
    {
     "name": "stdout",
     "output_type": "stream",
     "text": [
      "[6855.47] Epoch 748, train loss: 1.0009918212890625, val loss: 1.0116188526153564, val accuracy: 0.7\n"
     ]
    },
    {
     "name": "stderr",
     "output_type": "stream",
     "text": [
      " 94%|█████████▍| 750/800 [1:54:24<07:37,  9.15s/it]"
     ]
    },
    {
     "name": "stdout",
     "output_type": "stream",
     "text": [
      "[6864.62] Epoch 749, train loss: 1.0019683837890625, val loss: 1.0115963220596313, val accuracy: 0.7\n"
     ]
    },
    {
     "name": "stderr",
     "output_type": "stream",
     "text": [
      " 94%|█████████▍| 751/800 [1:54:33<07:28,  9.15s/it]"
     ]
    },
    {
     "name": "stdout",
     "output_type": "stream",
     "text": [
      "[6873.77] Epoch 750, train loss: 1.0018692016601562, val loss: 1.011574387550354, val accuracy: 0.7\n"
     ]
    },
    {
     "name": "stderr",
     "output_type": "stream",
     "text": [
      " 94%|█████████▍| 752/800 [1:54:42<07:19,  9.15s/it]"
     ]
    },
    {
     "name": "stdout",
     "output_type": "stream",
     "text": [
      "[6882.92] Epoch 751, train loss: 1.0079574584960938, val loss: 1.0115597248077393, val accuracy: 0.7\n"
     ]
    },
    {
     "name": "stderr",
     "output_type": "stream",
     "text": [
      " 94%|█████████▍| 753/800 [1:54:52<07:10,  9.15s/it]"
     ]
    },
    {
     "name": "stdout",
     "output_type": "stream",
     "text": [
      "[6892.08] Epoch 752, train loss: 0.9892578125, val loss: 1.011556625366211, val accuracy: 0.7\n"
     ]
    },
    {
     "name": "stderr",
     "output_type": "stream",
     "text": [
      " 94%|█████████▍| 754/800 [1:55:01<07:01,  9.15s/it]"
     ]
    },
    {
     "name": "stdout",
     "output_type": "stream",
     "text": [
      "[6901.23] Epoch 753, train loss: 0.9999542236328125, val loss: 1.0115588903427124, val accuracy: 0.7\n"
     ]
    },
    {
     "name": "stderr",
     "output_type": "stream",
     "text": [
      " 94%|█████████▍| 755/800 [1:55:10<06:51,  9.15s/it]"
     ]
    },
    {
     "name": "stdout",
     "output_type": "stream",
     "text": [
      "[6910.38] Epoch 754, train loss: 1.0000457763671875, val loss: 1.011556625366211, val accuracy: 0.7\n"
     ]
    },
    {
     "name": "stderr",
     "output_type": "stream",
     "text": [
      " 94%|█████████▍| 756/800 [1:55:19<06:42,  9.15s/it]"
     ]
    },
    {
     "name": "stdout",
     "output_type": "stream",
     "text": [
      "[6919.54] Epoch 755, train loss: 0.993438720703125, val loss: 1.0115379095077515, val accuracy: 0.7\n"
     ]
    },
    {
     "name": "stderr",
     "output_type": "stream",
     "text": [
      " 95%|█████████▍| 757/800 [1:55:28<06:33,  9.15s/it]"
     ]
    },
    {
     "name": "stdout",
     "output_type": "stream",
     "text": [
      "[6928.69] Epoch 756, train loss: 1.00384521484375, val loss: 1.011516809463501, val accuracy: 0.7\n"
     ]
    },
    {
     "name": "stderr",
     "output_type": "stream",
     "text": [
      " 95%|█████████▍| 758/800 [1:55:37<06:24,  9.15s/it]"
     ]
    },
    {
     "name": "stdout",
     "output_type": "stream",
     "text": [
      "[6937.84] Epoch 757, train loss: 1.001312255859375, val loss: 1.0114983320236206, val accuracy: 0.7\n"
     ]
    },
    {
     "name": "stderr",
     "output_type": "stream",
     "text": [
      " 95%|█████████▍| 759/800 [1:55:46<06:15,  9.15s/it]"
     ]
    },
    {
     "name": "stdout",
     "output_type": "stream",
     "text": [
      "[6947.00] Epoch 758, train loss: 0.98760986328125, val loss: 1.0114860534667969, val accuracy: 0.7\n"
     ]
    },
    {
     "name": "stderr",
     "output_type": "stream",
     "text": [
      " 95%|█████████▌| 760/800 [1:55:56<06:06,  9.15s/it]"
     ]
    },
    {
     "name": "stdout",
     "output_type": "stream",
     "text": [
      "[6956.15] Epoch 759, train loss: 1.00592041015625, val loss: 1.0114811658859253, val accuracy: 0.7\n"
     ]
    },
    {
     "name": "stderr",
     "output_type": "stream",
     "text": [
      " 95%|█████████▌| 761/800 [1:56:05<05:56,  9.15s/it]"
     ]
    },
    {
     "name": "stdout",
     "output_type": "stream",
     "text": [
      "[6965.30] Epoch 760, train loss: 0.990386962890625, val loss: 1.0114734172821045, val accuracy: 0.7\n"
     ]
    },
    {
     "name": "stderr",
     "output_type": "stream",
     "text": [
      " 95%|█████████▌| 762/800 [1:56:14<05:47,  9.15s/it]"
     ]
    },
    {
     "name": "stdout",
     "output_type": "stream",
     "text": [
      "[6974.45] Epoch 761, train loss: 0.9954681396484375, val loss: 1.0114688873291016, val accuracy: 0.7\n"
     ]
    },
    {
     "name": "stderr",
     "output_type": "stream",
     "text": [
      " 95%|█████████▌| 763/800 [1:56:23<05:38,  9.15s/it]"
     ]
    },
    {
     "name": "stdout",
     "output_type": "stream",
     "text": [
      "[6983.61] Epoch 762, train loss: 1.0066986083984375, val loss: 1.011473536491394, val accuracy: 0.7\n"
     ]
    },
    {
     "name": "stderr",
     "output_type": "stream",
     "text": [
      " 96%|█████████▌| 764/800 [1:56:32<05:29,  9.15s/it]"
     ]
    },
    {
     "name": "stdout",
     "output_type": "stream",
     "text": [
      "[6992.76] Epoch 763, train loss: 0.9988250732421875, val loss: 1.0114797353744507, val accuracy: 0.7\n"
     ]
    },
    {
     "name": "stderr",
     "output_type": "stream",
     "text": [
      " 96%|█████████▌| 765/800 [1:56:41<05:20,  9.15s/it]"
     ]
    },
    {
     "name": "stdout",
     "output_type": "stream",
     "text": [
      "[7001.91] Epoch 764, train loss: 1.003173828125, val loss: 1.0114922523498535, val accuracy: 0.7\n"
     ]
    },
    {
     "name": "stderr",
     "output_type": "stream",
     "text": [
      " 96%|█████████▌| 766/800 [1:56:51<05:11,  9.15s/it]"
     ]
    },
    {
     "name": "stdout",
     "output_type": "stream",
     "text": [
      "[7011.06] Epoch 765, train loss: 1.0078277587890625, val loss: 1.0115077495574951, val accuracy: 0.7\n"
     ]
    },
    {
     "name": "stderr",
     "output_type": "stream",
     "text": [
      " 96%|█████████▌| 767/800 [1:57:00<05:02,  9.15s/it]"
     ]
    },
    {
     "name": "stdout",
     "output_type": "stream",
     "text": [
      "[7020.22] Epoch 766, train loss: 1.003173828125, val loss: 1.011515736579895, val accuracy: 0.7\n"
     ]
    },
    {
     "name": "stderr",
     "output_type": "stream",
     "text": [
      " 96%|█████████▌| 768/800 [1:57:09<04:52,  9.15s/it]"
     ]
    },
    {
     "name": "stdout",
     "output_type": "stream",
     "text": [
      "[7029.37] Epoch 767, train loss: 1.0016937255859375, val loss: 1.0115185976028442, val accuracy: 0.7\n"
     ]
    },
    {
     "name": "stderr",
     "output_type": "stream",
     "text": [
      " 96%|█████████▌| 769/800 [1:57:18<04:43,  9.15s/it]"
     ]
    },
    {
     "name": "stdout",
     "output_type": "stream",
     "text": [
      "[7038.52] Epoch 768, train loss: 1.00146484375, val loss: 1.0115174055099487, val accuracy: 0.7\n"
     ]
    },
    {
     "name": "stderr",
     "output_type": "stream",
     "text": [
      " 96%|█████████▋| 770/800 [1:57:27<04:34,  9.15s/it]"
     ]
    },
    {
     "name": "stdout",
     "output_type": "stream",
     "text": [
      "[7047.68] Epoch 769, train loss: 1.0047454833984375, val loss: 1.0115172863006592, val accuracy: 0.7\n"
     ]
    },
    {
     "name": "stderr",
     "output_type": "stream",
     "text": [
      " 96%|█████████▋| 771/800 [1:57:36<04:25,  9.15s/it]"
     ]
    },
    {
     "name": "stdout",
     "output_type": "stream",
     "text": [
      "[7056.83] Epoch 770, train loss: 0.9926300048828125, val loss: 1.0115184783935547, val accuracy: 0.7\n"
     ]
    },
    {
     "name": "stderr",
     "output_type": "stream",
     "text": [
      " 96%|█████████▋| 772/800 [1:57:45<04:16,  9.15s/it]"
     ]
    },
    {
     "name": "stdout",
     "output_type": "stream",
     "text": [
      "[7065.99] Epoch 771, train loss: 1.00732421875, val loss: 1.0115230083465576, val accuracy: 0.7\n"
     ]
    },
    {
     "name": "stderr",
     "output_type": "stream",
     "text": [
      " 97%|█████████▋| 773/800 [1:57:55<04:07,  9.15s/it]"
     ]
    },
    {
     "name": "stdout",
     "output_type": "stream",
     "text": [
      "[7075.14] Epoch 772, train loss: 0.9900360107421875, val loss: 1.0115258693695068, val accuracy: 0.7\n"
     ]
    },
    {
     "name": "stderr",
     "output_type": "stream",
     "text": [
      " 97%|█████████▋| 774/800 [1:58:04<03:57,  9.15s/it]"
     ]
    },
    {
     "name": "stdout",
     "output_type": "stream",
     "text": [
      "[7084.29] Epoch 773, train loss: 1.0039215087890625, val loss: 1.0115306377410889, val accuracy: 0.7\n"
     ]
    },
    {
     "name": "stderr",
     "output_type": "stream",
     "text": [
      " 97%|█████████▋| 775/800 [1:58:13<03:48,  9.15s/it]"
     ]
    },
    {
     "name": "stdout",
     "output_type": "stream",
     "text": [
      "[7093.45] Epoch 774, train loss: 0.995330810546875, val loss: 1.0115339756011963, val accuracy: 0.7\n"
     ]
    },
    {
     "name": "stderr",
     "output_type": "stream",
     "text": [
      " 97%|█████████▋| 776/800 [1:58:22<03:39,  9.15s/it]"
     ]
    },
    {
     "name": "stdout",
     "output_type": "stream",
     "text": [
      "[7102.60] Epoch 775, train loss: 1.00238037109375, val loss: 1.0115382671356201, val accuracy: 0.7\n"
     ]
    },
    {
     "name": "stderr",
     "output_type": "stream",
     "text": [
      " 97%|█████████▋| 777/800 [1:58:31<03:30,  9.15s/it]"
     ]
    },
    {
     "name": "stdout",
     "output_type": "stream",
     "text": [
      "[7111.75] Epoch 776, train loss: 1.0103912353515625, val loss: 1.0115416049957275, val accuracy: 0.7\n"
     ]
    },
    {
     "name": "stderr",
     "output_type": "stream",
     "text": [
      " 97%|█████████▋| 778/800 [1:58:40<03:21,  9.15s/it]"
     ]
    },
    {
     "name": "stdout",
     "output_type": "stream",
     "text": [
      "[7120.90] Epoch 777, train loss: 1.0036392211914062, val loss: 1.0115429162979126, val accuracy: 0.7\n"
     ]
    },
    {
     "name": "stderr",
     "output_type": "stream",
     "text": [
      " 97%|█████████▋| 779/800 [1:58:50<03:12,  9.15s/it]"
     ]
    },
    {
     "name": "stdout",
     "output_type": "stream",
     "text": [
      "[7130.06] Epoch 778, train loss: 0.9993438720703125, val loss: 1.0115411281585693, val accuracy: 0.7\n"
     ]
    },
    {
     "name": "stderr",
     "output_type": "stream",
     "text": [
      " 98%|█████████▊| 780/800 [1:58:59<03:03,  9.15s/it]"
     ]
    },
    {
     "name": "stdout",
     "output_type": "stream",
     "text": [
      "[7139.21] Epoch 779, train loss: 1.0142974853515625, val loss: 1.0115413665771484, val accuracy: 0.7\n"
     ]
    },
    {
     "name": "stderr",
     "output_type": "stream",
     "text": [
      " 98%|█████████▊| 781/800 [1:59:08<02:53,  9.15s/it]"
     ]
    },
    {
     "name": "stdout",
     "output_type": "stream",
     "text": [
      "[7148.36] Epoch 780, train loss: 1.0005722045898438, val loss: 1.011542558670044, val accuracy: 0.7\n"
     ]
    },
    {
     "name": "stderr",
     "output_type": "stream",
     "text": [
      " 98%|█████████▊| 782/800 [1:59:17<02:44,  9.15s/it]"
     ]
    },
    {
     "name": "stdout",
     "output_type": "stream",
     "text": [
      "[7157.52] Epoch 781, train loss: 1.0013504028320312, val loss: 1.0115437507629395, val accuracy: 0.7\n"
     ]
    },
    {
     "name": "stderr",
     "output_type": "stream",
     "text": [
      " 98%|█████████▊| 783/800 [1:59:26<02:35,  9.15s/it]"
     ]
    },
    {
     "name": "stdout",
     "output_type": "stream",
     "text": [
      "[7166.67] Epoch 782, train loss: 1.0009002685546875, val loss: 1.0115456581115723, val accuracy: 0.7\n"
     ]
    },
    {
     "name": "stderr",
     "output_type": "stream",
     "text": [
      " 98%|█████████▊| 784/800 [1:59:35<02:26,  9.15s/it]"
     ]
    },
    {
     "name": "stdout",
     "output_type": "stream",
     "text": [
      "[7175.82] Epoch 783, train loss: 1.00567626953125, val loss: 1.0115492343902588, val accuracy: 0.7\n"
     ]
    },
    {
     "name": "stderr",
     "output_type": "stream",
     "text": [
      " 98%|█████████▊| 785/800 [1:59:44<02:17,  9.15s/it]"
     ]
    },
    {
     "name": "stdout",
     "output_type": "stream",
     "text": [
      "[7184.98] Epoch 784, train loss: 0.9980087280273438, val loss: 1.0115526914596558, val accuracy: 0.7\n"
     ]
    },
    {
     "name": "stderr",
     "output_type": "stream",
     "text": [
      " 98%|█████████▊| 786/800 [1:59:54<02:08,  9.15s/it]"
     ]
    },
    {
     "name": "stdout",
     "output_type": "stream",
     "text": [
      "[7194.13] Epoch 785, train loss: 1.0045623779296875, val loss: 1.011555790901184, val accuracy: 0.7\n"
     ]
    },
    {
     "name": "stderr",
     "output_type": "stream",
     "text": [
      " 98%|█████████▊| 787/800 [2:00:03<01:58,  9.15s/it]"
     ]
    },
    {
     "name": "stdout",
     "output_type": "stream",
     "text": [
      "[7203.28] Epoch 786, train loss: 1.0044097900390625, val loss: 1.0115578174591064, val accuracy: 0.7\n"
     ]
    },
    {
     "name": "stderr",
     "output_type": "stream",
     "text": [
      " 98%|█████████▊| 788/800 [2:00:12<01:49,  9.15s/it]"
     ]
    },
    {
     "name": "stdout",
     "output_type": "stream",
     "text": [
      "[7212.44] Epoch 787, train loss: 1.0079193115234375, val loss: 1.011559009552002, val accuracy: 0.7\n"
     ]
    },
    {
     "name": "stderr",
     "output_type": "stream",
     "text": [
      " 99%|█████████▊| 789/800 [2:00:21<01:40,  9.15s/it]"
     ]
    },
    {
     "name": "stdout",
     "output_type": "stream",
     "text": [
      "[7221.59] Epoch 788, train loss: 1.002532958984375, val loss: 1.011560082435608, val accuracy: 0.7\n"
     ]
    },
    {
     "name": "stderr",
     "output_type": "stream",
     "text": [
      " 99%|█████████▉| 790/800 [2:00:30<01:31,  9.15s/it]"
     ]
    },
    {
     "name": "stdout",
     "output_type": "stream",
     "text": [
      "[7230.74] Epoch 789, train loss: 1.001617431640625, val loss: 1.0115607976913452, val accuracy: 0.7\n"
     ]
    },
    {
     "name": "stderr",
     "output_type": "stream",
     "text": [
      " 99%|█████████▉| 791/800 [2:00:39<01:22,  9.15s/it]"
     ]
    },
    {
     "name": "stdout",
     "output_type": "stream",
     "text": [
      "[7239.89] Epoch 790, train loss: 1.003265380859375, val loss: 1.0115615129470825, val accuracy: 0.7\n"
     ]
    },
    {
     "name": "stderr",
     "output_type": "stream",
     "text": [
      " 99%|█████████▉| 792/800 [2:00:49<01:13,  9.15s/it]"
     ]
    },
    {
     "name": "stdout",
     "output_type": "stream",
     "text": [
      "[7249.05] Epoch 791, train loss: 0.9987335205078125, val loss: 1.0115618705749512, val accuracy: 0.7\n"
     ]
    },
    {
     "name": "stderr",
     "output_type": "stream",
     "text": [
      " 99%|█████████▉| 793/800 [2:00:58<01:04,  9.15s/it]"
     ]
    },
    {
     "name": "stdout",
     "output_type": "stream",
     "text": [
      "[7258.20] Epoch 792, train loss: 1.0124969482421875, val loss: 1.0115625858306885, val accuracy: 0.7\n"
     ]
    },
    {
     "name": "stderr",
     "output_type": "stream",
     "text": [
      " 99%|█████████▉| 794/800 [2:01:07<00:54,  9.15s/it]"
     ]
    },
    {
     "name": "stdout",
     "output_type": "stream",
     "text": [
      "[7267.35] Epoch 793, train loss: 0.99884033203125, val loss: 1.0115628242492676, val accuracy: 0.7\n"
     ]
    },
    {
     "name": "stderr",
     "output_type": "stream",
     "text": [
      " 99%|█████████▉| 795/800 [2:01:16<00:45,  9.15s/it]"
     ]
    },
    {
     "name": "stdout",
     "output_type": "stream",
     "text": [
      "[7276.51] Epoch 794, train loss: 1.0057907104492188, val loss: 1.0115629434585571, val accuracy: 0.7\n"
     ]
    },
    {
     "name": "stderr",
     "output_type": "stream",
     "text": [
      "100%|█████████▉| 796/800 [2:01:25<00:36,  9.15s/it]"
     ]
    },
    {
     "name": "stdout",
     "output_type": "stream",
     "text": [
      "[7285.66] Epoch 795, train loss: 0.98968505859375, val loss: 1.0115630626678467, val accuracy: 0.7\n"
     ]
    },
    {
     "name": "stderr",
     "output_type": "stream",
     "text": [
      "100%|█████████▉| 797/800 [2:01:34<00:27,  9.15s/it]"
     ]
    },
    {
     "name": "stdout",
     "output_type": "stream",
     "text": [
      "[7294.82] Epoch 796, train loss: 1.0064468383789062, val loss: 1.0115630626678467, val accuracy: 0.7\n"
     ]
    },
    {
     "name": "stderr",
     "output_type": "stream",
     "text": [
      "100%|█████████▉| 798/800 [2:01:43<00:18,  9.15s/it]"
     ]
    },
    {
     "name": "stdout",
     "output_type": "stream",
     "text": [
      "[7303.97] Epoch 797, train loss: 0.9899139404296875, val loss: 1.0115630626678467, val accuracy: 0.7\n"
     ]
    },
    {
     "name": "stderr",
     "output_type": "stream",
     "text": [
      "100%|█████████▉| 799/800 [2:01:53<00:09,  9.15s/it]"
     ]
    },
    {
     "name": "stdout",
     "output_type": "stream",
     "text": [
      "[7313.12] Epoch 798, train loss: 1.010101318359375, val loss: 1.0115631818771362, val accuracy: 0.7\n"
     ]
    },
    {
     "name": "stderr",
     "output_type": "stream",
     "text": [
      "100%|██████████| 800/800 [2:02:02<00:00,  9.15s/it]"
     ]
    },
    {
     "name": "stdout",
     "output_type": "stream",
     "text": [
      "[7322.27] Epoch 799, train loss: 1.0032196044921875, val loss: 1.0115630626678467, val accuracy: 0.7\n"
     ]
    },
    {
     "name": "stderr",
     "output_type": "stream",
     "text": [
      "\n"
     ]
    },
    {
     "name": "stdout",
     "output_type": "stream",
     "text": [
      "Test loss: 1.0115630626678467, test accuracy: 0.7\n",
      "Time taken: 7323.07 seconds, finished at Tue Mar 18 03:36:20 2025\n"
     ]
    }
   ],
   "source": [
    "epoch = 800\n",
    "criterion = torch.nn.CrossEntropyLoss()\n",
    "optimizer = torch.optim.AdamW(model.head.parameters(), lr=1e-4)\n",
    "scheduler = torch.optim.lr_scheduler.OneCycleLR(optimizer, max_lr=1e-3, total_steps=epoch * len(train_loader))\n",
    "#device = 'cuda:3'\n",
    "\n",
    "t1 = time.time()\n",
    "for i in tqdm(range(epoch)):\n",
    "    train_loss = train_epoch(model, device, train_loader, criterion, optimizer, scheduler)\n",
    "    val_loss, val_accuracy = evaluate_epoch(val_loader, model, criterion, device, phase='test')\n",
    "    print(f'[{time.time() - t1:.2f}] Epoch {i}, train loss: {train_loss}, val loss: {val_loss}, val accuracy: {val_accuracy}')\n",
    "\n",
    "test_loss, test_accuracy = evaluate_epoch(test_loader, model, criterion, device, phase='test')\n",
    "print(f'Test loss: {test_loss}, test accuracy: {test_accuracy}')\n",
    "print(f\"Time taken: {time.time() - t1:.2f} seconds, finished at {time.ctime()}\")"
   ]
  },
  {
   "cell_type": "code",
   "execution_count": 6,
   "metadata": {},
   "outputs": [
    {
     "ename": "NameError",
     "evalue": "name 'StockDataset' is not defined",
     "output_type": "error",
     "traceback": [
      "\u001b[0;31m---------------------------------------------------------------------------\u001b[0m",
      "\u001b[0;31mNameError\u001b[0m                                 Traceback (most recent call last)",
      "Cell \u001b[0;32mIn[6], line 4\u001b[0m\n\u001b[1;32m      1\u001b[0m \u001b[38;5;28;01mfrom\u001b[39;00m\u001b[38;5;250m \u001b[39m\u001b[38;5;21;01msklearn\u001b[39;00m\u001b[38;5;21;01m.\u001b[39;00m\u001b[38;5;21;01mmetrics\u001b[39;00m\u001b[38;5;250m \u001b[39m\u001b[38;5;28;01mimport\u001b[39;00m precision_score, recall_score, f1_score\n\u001b[1;32m      3\u001b[0m \u001b[38;5;66;03m# Load the test dataset\u001b[39;00m\n\u001b[0;32m----> 4\u001b[0m test_dataset \u001b[38;5;241m=\u001b[39m \u001b[43mStockDataset\u001b[49m(data_split\u001b[38;5;241m=\u001b[39m\u001b[38;5;124m\"\u001b[39m\u001b[38;5;124mtest\u001b[39m\u001b[38;5;124m\"\u001b[39m)\n\u001b[1;32m      5\u001b[0m test_dataloader \u001b[38;5;241m=\u001b[39m DataLoader(test_dataset, batch_size\u001b[38;5;241m=\u001b[39m\u001b[38;5;241m1\u001b[39m, shuffle\u001b[38;5;241m=\u001b[39m\u001b[38;5;28;01mFalse\u001b[39;00m)\n\u001b[1;32m      7\u001b[0m \u001b[38;5;66;03m# Evaluate the model on the test dataset\u001b[39;00m\n",
      "\u001b[0;31mNameError\u001b[0m: name 'StockDataset' is not defined"
     ]
    }
   ],
   "source": [
    "from sklearn.metrics import precision_score, recall_score, f1_score\n",
    "\n",
    "# Load the test dataset\n",
    "test_dataset = StockDataset(data_split=\"test\")\n",
    "test_dataloader = DataLoader(test_dataset, batch_size=1, shuffle=False)\n",
    "\n",
    "# Evaluate the model on the test dataset\n",
    "model.eval()  # Set the model to evaluation mode\n",
    "test_loss = 0\n",
    "correct = 0\n",
    "total = 0\n",
    "\n",
    "all_labels = []\n",
    "all_predictions = []\n",
    "t1 = time.time()\n",
    "\n",
    "with torch.no_grad():  # Disable gradient computation for evaluation\n",
    "    #for data, input_mask, labels in test_dataloader:\n",
    "    for data, labels in test_dataloader:\n",
    "        # Move data to the appropriate device\n",
    "        data = data.to(device, dtype=torch.float32)\n",
    "        labels = labels.to(device)\n",
    "        #input_mask = input_mask.to(device) if input_mask is not None else None\n",
    "        \n",
    "        # Forward pass\n",
    "        output = model(x_enc=data)\n",
    "\n",
    "        if output is None or output.logits is None:\n",
    "            raise ValueError(\"The model's output is None. Check the model's forward implementation.\")\n",
    "\n",
    "        logits: TimeseriesOutputs = output.logits\n",
    "\n",
    "        # Compute loss\n",
    "        loss = criterion(logits, labels)\n",
    "        test_loss += loss.item()\n",
    "\n",
    "        # Get predictions\n",
    "        _, predicted = torch.max(logits, dim=1)  # Get the predicted class indices\n",
    "        total += labels.size(0)\n",
    "        correct += (predicted == labels).sum().item()\n",
    "\n",
    "        # Save all labels and predictions for metric computation\n",
    "        all_labels.extend(labels.cpu().numpy())\n",
    "        all_predictions.extend(predicted.cpu().numpy())\n",
    "\n",
    "# Calculate metrics\n",
    "test_loss /= len(test_dataloader)\n",
    "accuracy = 100 * correct / total\n",
    "precision = precision_score(all_labels, all_predictions, average=\"weighted\")\n",
    "recall = recall_score(all_labels, all_predictions, average=\"weighted\")\n",
    "f1 = f1_score(all_labels, all_predictions, average=\"weighted\")\n",
    "\n",
    "# Print metrics\n",
    "\n",
    "print(f\"Num Test Set: {len(test_dataloader)}\")\n",
    "print(f\"Test Loss: {test_loss:.3f}\")\n",
    "print(f\"Test Accuracy: {accuracy:.2f}%\")\n",
    "print(f\"Precision: {precision:.2f}\")\n",
    "print(f\"Recall: {recall:.2f}\")\n",
    "print(f\"F1 Score: {f1:.2f}\")\n",
    "print(f\"Time taken: {time.time() - t1:.2f} seconds, finished at {time.ctime()}\")"
   ]
  }
 ],
 "metadata": {
  "kernelspec": {
   "display_name": ".venv",
   "language": "python",
   "name": "python3"
  },
  "language_info": {
   "codemirror_mode": {
    "name": "ipython",
    "version": 3
   },
   "file_extension": ".py",
   "mimetype": "text/x-python",
   "name": "python",
   "nbconvert_exporter": "python",
   "pygments_lexer": "ipython3",
   "version": "3.10.12"
  }
 },
 "nbformat": 4,
 "nbformat_minor": 2
}
